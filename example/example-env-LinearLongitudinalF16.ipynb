{
 "cells": [
  {
   "cell_type": "code",
   "execution_count": 1,
   "id": "7bc885d6",
   "metadata": {
    "execution": {
     "iopub.execute_input": "2024-08-14T21:44:51.631187Z",
     "iopub.status.busy": "2024-08-14T21:44:51.630903Z",
     "iopub.status.idle": "2024-08-14T21:44:56.311279Z",
     "shell.execute_reply": "2024-08-14T21:44:56.310998Z"
    }
   },
   "outputs": [],
   "source": [
    "import gymnasium as gym \n",
    "import numpy as np\n",
    "from tqdm import tqdm\n",
    "\n",
    "from tensoraerospace.envs import LinearLongitudinalF16\n",
    "from tensoraerospace.utils import generate_time_period, convert_tp_to_sec_tp\n",
    "from tensoraerospace.signals.standart import unit_step\n",
    "from tensoraerospace.agent.ihdp.model import IHDPAgent"
   ]
  },
  {
   "cell_type": "code",
   "execution_count": 2,
   "id": "5b5a8f3e",
   "metadata": {
    "execution": {
     "iopub.execute_input": "2024-08-14T21:44:56.313175Z",
     "iopub.status.busy": "2024-08-14T21:44:56.312987Z",
     "iopub.status.idle": "2024-08-14T21:44:56.315364Z",
     "shell.execute_reply": "2024-08-14T21:44:56.315141Z"
    },
    "pycharm": {
     "name": "#%%\n"
    }
   },
   "outputs": [],
   "source": [
    "dt = 0.01  # Дискретизация\n",
    "tp = generate_time_period(tn=20, dt=dt) # Временной периуд\n",
    "tps = convert_tp_to_sec_tp(tp, dt=dt)\n",
    "number_time_steps = len(tp) # Количество временных шагов\n",
    "reference_signals = np.reshape(unit_step(degree=5, tp=tp, time_step=10, output_rad=True), [1, -1]) # Заданный сигнал"
   ]
  },
  {
   "cell_type": "code",
   "execution_count": 3,
   "id": "2668e4d6",
   "metadata": {
    "execution": {
     "iopub.execute_input": "2024-08-14T21:44:56.316729Z",
     "iopub.status.busy": "2024-08-14T21:44:56.316640Z",
     "iopub.status.idle": "2024-08-14T21:44:56.412210Z",
     "shell.execute_reply": "2024-08-14T21:44:56.396735Z"
    }
   },
   "outputs": [
    {
     "name": "stderr",
     "output_type": "stream",
     "text": [
      "/Users/asmazaev/Projects/TensorAeroSpace/.venv/lib/python3.11/site-packages/gymnasium/utils/passive_env_checker.py:159: UserWarning: \u001b[33mWARN: The obs returned by the `reset()` method is not within the observation space.\u001b[0m\n",
      "  logger.warn(f\"{pre} is not within the observation space.\")\n"
     ]
    },
    {
     "data": {
      "text/plain": [
       "(array([0., 0.], dtype=float32), {})"
      ]
     },
     "execution_count": 3,
     "metadata": {},
     "output_type": "execute_result"
    }
   ],
   "source": [
    "env = gym.make('LinearLongitudinalF16-v0',\n",
    "                number_time_steps=number_time_steps, \n",
    "                initial_state=[[0],[0]],\n",
    "                reference_signal=reference_signals,\n",
    "                state_space = [ \"theta\", \"q\",],\n",
    "                output_space = [\"theta\",  \"q\",],\n",
    "                tracking_states=[\"theta\"])\n",
    "\n",
    "env.reset()"
   ]
  },
  {
   "cell_type": "code",
   "execution_count": 4,
   "id": "6f7ebd29",
   "metadata": {
    "execution": {
     "iopub.execute_input": "2024-08-14T21:44:56.436565Z",
     "iopub.status.busy": "2024-08-14T21:44:56.433083Z",
     "iopub.status.idle": "2024-08-14T21:44:56.459178Z",
     "shell.execute_reply": "2024-08-14T21:44:56.449114Z"
    },
    "pycharm": {
     "name": "#%%\n"
    }
   },
   "outputs": [
    {
     "name": "stderr",
     "output_type": "stream",
     "text": [
      "/Users/asmazaev/Projects/TensorAeroSpace/.venv/lib/python3.11/site-packages/gymnasium/utils/passive_env_checker.py:135: UserWarning: \u001b[33mWARN: The obs returned by the `step()` method was expecting numpy array dtype to be float32, actual type: float64\u001b[0m\n",
      "  logger.warn(\n",
      "/Users/asmazaev/Projects/TensorAeroSpace/.venv/lib/python3.11/site-packages/gymnasium/utils/passive_env_checker.py:159: UserWarning: \u001b[33mWARN: The obs returned by the `step()` method is not within the observation space.\u001b[0m\n",
      "  logger.warn(f\"{pre} is not within the observation space.\")\n",
      "/Users/asmazaev/Projects/TensorAeroSpace/.venv/lib/python3.11/site-packages/gymnasium/utils/passive_env_checker.py:246: UserWarning: \u001b[33mWARN: The reward returned by `step()` must be a float, int, np.integer or np.floating, actual type: <class 'numpy.ndarray'>\u001b[0m\n",
      "  logger.warn(\n"
     ]
    }
   ],
   "source": [
    "observation, reward, terminated, truncated, info = env.step(np.array([1]))"
   ]
  },
  {
   "cell_type": "code",
   "execution_count": 5,
   "id": "021d5acc",
   "metadata": {
    "execution": {
     "iopub.execute_input": "2024-08-14T21:44:56.479349Z",
     "iopub.status.busy": "2024-08-14T21:44:56.473636Z",
     "iopub.status.idle": "2024-08-14T21:44:56.500567Z",
     "shell.execute_reply": "2024-08-14T21:44:56.493147Z"
    }
   },
   "outputs": [
    {
     "data": {
      "text/plain": [
       "array([-1.24052323e-06, -2.47767292e-04])"
      ]
     },
     "execution_count": 5,
     "metadata": {},
     "output_type": "execute_result"
    }
   ],
   "source": [
    "observation"
   ]
  },
  {
   "cell_type": "code",
   "execution_count": 6,
   "id": "c404c317",
   "metadata": {
    "execution": {
     "iopub.execute_input": "2024-08-14T21:44:56.520927Z",
     "iopub.status.busy": "2024-08-14T21:44:56.520831Z",
     "iopub.status.idle": "2024-08-14T21:44:56.543171Z",
     "shell.execute_reply": "2024-08-14T21:44:56.534879Z"
    }
   },
   "outputs": [
    {
     "data": {
      "text/plain": [
       "array([-2.60172524e-05])"
      ]
     },
     "execution_count": 6,
     "metadata": {},
     "output_type": "execute_result"
    }
   ],
   "source": [
    "reward"
   ]
  },
  {
   "cell_type": "code",
   "execution_count": null,
   "id": "2d844e09",
   "metadata": {},
   "outputs": [],
   "source": []
  }
 ],
 "metadata": {
  "kernelspec": {
   "display_name": "Python 3 (ipykernel)",
   "language": "python",
   "name": "python3"
  },
  "language_info": {
   "codemirror_mode": {
    "name": "ipython",
    "version": 3
   },
   "file_extension": ".py",
   "mimetype": "text/x-python",
   "name": "python",
   "nbconvert_exporter": "python",
   "pygments_lexer": "ipython3",
   "version": "3.11.7"
  }
 },
 "nbformat": 4,
 "nbformat_minor": 5
}
