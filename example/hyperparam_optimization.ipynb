{
 "cells": [
  {
   "cell_type": "code",
   "execution_count": 27,
   "metadata": {
    "collapsed": true
   },
   "outputs": [],
   "source": [
    "import optuna\n",
    "import numpy as np\n",
    "import sklearn.datasets\n",
    "import sklearn.model_selection\n",
    "import sklearn.svm\n",
    "from tensorairspace.agent.ihdp.model import IHDPAgent\n",
    "import gym\n",
    "def unit_step(x):\n",
    "    return np.deg2rad(5) * (x > 1000)\n",
    "\n",
    "t0 = 0  # Начальное время\n",
    "tn = 20  # Время моделирования\n",
    "dt = 0.01  # Дискретизация\n",
    "number_time_steps = int(((tn - t0) / dt) + 1)  # Количество шагов моделирования\n",
    "time = list(np.arange(0, number_time_steps * dt, dt))  # Массив с шагов dt\n",
    "t = np.linspace(-0, len(time), len(time))\n",
    "\n",
    "reference_signals = np.reshape(unit_step(t), [1, -1])\n",
    "\n",
    "\n",
    "def objective(trial):\n",
    "\n",
    "    env = gym.make('LinearLongitudinalF16-v0',\n",
    "               number_time_steps=number_time_steps,\n",
    "               initial_state=[[0], [0], [0], [0]],\n",
    "               reference_signal=reference_signals,\n",
    "               tracking_states=[\"alpha\"])\n",
    "    env.reset()\n",
    "\n",
    "    actor_settings = {\n",
    "        \"start_training\": trial.suggest_int(\"start_training\", 1, 20, log=True),\n",
    "        \"layers\": (trial.suggest_int(\"layers\", 1, 100, log=True), 1),\n",
    "        \"activations\": ('tanh', 'tanh'),\n",
    "        \"learning_rate\": trial.suggest_int(\"learning_rate\", 1, 20, log=True),\n",
    "        \"learning_rate_exponent_limit\": 10,\n",
    "        \"type_PE\": \"combined\",\n",
    "        \"amplitude_3211\": 15,\n",
    "        \"pulse_length_3211\": 5 / dt,\n",
    "        \"maximum_input\": 25,\n",
    "        \"maximum_q_rate\": 20,\n",
    "        \"WB_limits\": 30,\n",
    "        \"NN_initial\": 120,\n",
    "        \"cascade_actor\": False,\n",
    "        \"learning_rate_cascaded\": 1.2\n",
    "    }\n",
    "    incremental_settings = {\n",
    "        \"number_time_steps\": number_time_steps,\n",
    "        \"dt\": dt,\n",
    "        \"input_magnitude_limits\":25,\n",
    "        \"input_rate_limits\":60,\n",
    "    }\n",
    "    critic_settings = {\n",
    "        \"Q_weights\": [trial.suggest_float('Q_weights', 0, 100)],\n",
    "        \"start_training\": -1,\n",
    "        \"gamma\": trial.suggest_float('gamma', 0, 0.99),\n",
    "        \"learning_rate\": trial.suggest_int(\"learning_rate\", 1, 20, log=True),\n",
    "        \"learning_rate_exponent_limit\": 10,\n",
    "        \"layers\": (trial.suggest_int(\"layers\", 1, 100, log=True),1),\n",
    "        \"activations\": (\"tanh\", \"linear\"),\n",
    "        \"WB_limits\": 30,\n",
    "        \"NN_initial\": 120,\n",
    "        \"indices_tracking_states\": env.indices_tracking_states\n",
    "    }\n",
    "\n",
    "    model = IHDPAgent(actor_settings, critic_settings, incremental_settings, env.tracking_states, env.state_space, env.control_space, number_time_steps, env.indices_tracking_states)\n",
    "    xt = np.array([[np.deg2rad(3)], [0]])\n",
    "    for step in range(number_time_steps):\n",
    "        ut = model.predict(xt, reference_signals, step)\n",
    "        xt, reward, done, info = env.step(np.array(ut))\n",
    "    return reward"
   ]
  },
  {
   "cell_type": "code",
   "execution_count": 28,
   "outputs": [
    {
     "name": "stderr",
     "output_type": "stream",
     "text": [
      "\u001B[32m[I 2022-02-09 18:44:33,808]\u001B[0m A new study created in memory with name: no-name-cf898c56-ec28-4c7b-9b82-0e0bebb41ac3\u001B[0m\n"
     ]
    }
   ],
   "source": [
    "study = optuna.create_study(direction=\"minimize\")"
   ],
   "metadata": {
    "collapsed": false,
    "pycharm": {
     "name": "#%%\n"
    }
   }
  },
  {
   "cell_type": "code",
   "execution_count": 30,
   "outputs": [
    {
     "name": "stdout",
     "output_type": "stream",
     "text": [
      "[0]\n"
     ]
    },
    {
     "name": "stderr",
     "output_type": "stream",
     "text": [
      "\u001B[32m[I 2022-02-09 18:48:55,259]\u001B[0m Trial 5 finished with value: -0.09829259083171762 and parameters: {'start_training': 1, 'layers': 4, 'learning_rate': 14, 'Q_weights': 27.44095968225787, 'gamma': 0.30305118117670277}. Best is trial 0 with value: -0.1206735140742464.\u001B[0m\n"
     ]
    },
    {
     "name": "stdout",
     "output_type": "stream",
     "text": [
      "[0]\n"
     ]
    },
    {
     "name": "stderr",
     "output_type": "stream",
     "text": [
      "\u001B[32m[I 2022-02-09 18:49:28,933]\u001B[0m Trial 6 finished with value: -0.40441091235410254 and parameters: {'start_training': 6, 'layers': 51, 'learning_rate': 3, 'Q_weights': 58.52638192353954, 'gamma': 0.3776920060424658}. Best is trial 6 with value: -0.40441091235410254.\u001B[0m\n"
     ]
    },
    {
     "name": "stdout",
     "output_type": "stream",
     "text": [
      "[0]\n"
     ]
    },
    {
     "name": "stderr",
     "output_type": "stream",
     "text": [
      "\u001B[32m[I 2022-02-09 18:49:58,469]\u001B[0m Trial 7 finished with value: -0.08244226900780334 and parameters: {'start_training': 1, 'layers': 12, 'learning_rate': 1, 'Q_weights': 50.46935945321298, 'gamma': 0.4796719785570008}. Best is trial 6 with value: -0.40441091235410254.\u001B[0m\n"
     ]
    },
    {
     "name": "stdout",
     "output_type": "stream",
     "text": [
      "[0]\n"
     ]
    },
    {
     "name": "stderr",
     "output_type": "stream",
     "text": [
      "\u001B[32m[I 2022-02-09 18:50:26,986]\u001B[0m Trial 8 finished with value: -0.04705089232658564 and parameters: {'start_training': 1, 'layers': 27, 'learning_rate': 1, 'Q_weights': 81.93577526164867, 'gamma': 0.4752188468106958}. Best is trial 6 with value: -0.40441091235410254.\u001B[0m\n"
     ]
    },
    {
     "name": "stdout",
     "output_type": "stream",
     "text": [
      "[0]\n"
     ]
    },
    {
     "name": "stderr",
     "output_type": "stream",
     "text": [
      "\u001B[32m[I 2022-02-09 18:50:54,967]\u001B[0m Trial 9 finished with value: -0.10082665528503788 and parameters: {'start_training': 4, 'layers': 1, 'learning_rate': 1, 'Q_weights': 69.33489012781567, 'gamma': 0.698920985121834}. Best is trial 6 with value: -0.40441091235410254.\u001B[0m\n"
     ]
    },
    {
     "name": "stdout",
     "output_type": "stream",
     "text": [
      "[0]\n"
     ]
    },
    {
     "name": "stderr",
     "output_type": "stream",
     "text": [
      "\u001B[32m[I 2022-02-09 18:51:23,063]\u001B[0m Trial 10 finished with value: -0.19738287935830784 and parameters: {'start_training': 16, 'layers': 15, 'learning_rate': 5, 'Q_weights': 49.776626213359044, 'gamma': 0.04648672575460505}. Best is trial 6 with value: -0.40441091235410254.\u001B[0m\n"
     ]
    },
    {
     "name": "stdout",
     "output_type": "stream",
     "text": [
      "[0]\n"
     ]
    },
    {
     "name": "stderr",
     "output_type": "stream",
     "text": [
      "\u001B[32m[I 2022-02-09 18:51:51,205]\u001B[0m Trial 11 finished with value: -0.17135269941130704 and parameters: {'start_training': 19, 'layers': 17, 'learning_rate': 5, 'Q_weights': 53.63285564836726, 'gamma': 0.008641584458457557}. Best is trial 6 with value: -0.40441091235410254.\u001B[0m\n"
     ]
    },
    {
     "name": "stdout",
     "output_type": "stream",
     "text": [
      "[0]\n"
     ]
    },
    {
     "name": "stderr",
     "output_type": "stream",
     "text": [
      "\u001B[32m[I 2022-02-09 18:52:18,336]\u001B[0m Trial 12 finished with value: -0.12202962190949994 and parameters: {'start_training': 15, 'layers': 40, 'learning_rate': 6, 'Q_weights': 35.67474220994948, 'gamma': 0.11116542999987818}. Best is trial 6 with value: -0.40441091235410254.\u001B[0m\n"
     ]
    },
    {
     "name": "stdout",
     "output_type": "stream",
     "text": [
      "[0]\n"
     ]
    },
    {
     "name": "stderr",
     "output_type": "stream",
     "text": [
      "\u001B[32m[I 2022-02-09 18:52:46,771]\u001B[0m Trial 13 finished with value: -0.08808368813651138 and parameters: {'start_training': 8, 'layers': 5, 'learning_rate': 7, 'Q_weights': 59.87614490946035, 'gamma': 0.6827490438331016}. Best is trial 6 with value: -0.40441091235410254.\u001B[0m\n"
     ]
    },
    {
     "name": "stdout",
     "output_type": "stream",
     "text": [
      "[0]\n"
     ]
    },
    {
     "name": "stderr",
     "output_type": "stream",
     "text": [
      "\u001B[32m[I 2022-02-09 18:53:15,239]\u001B[0m Trial 14 finished with value: -0.08915332534584898 and parameters: {'start_training': 10, 'layers': 9, 'learning_rate': 2, 'Q_weights': 38.66290558436249, 'gamma': 0.1706248861116266}. Best is trial 6 with value: -0.40441091235410254.\u001B[0m\n"
     ]
    },
    {
     "name": "stdout",
     "output_type": "stream",
     "text": [
      "[0]\n"
     ]
    },
    {
     "ename": "KeyboardInterrupt",
     "evalue": "",
     "output_type": "error",
     "traceback": [
      "\u001B[0;31m---------------------------------------------------------------------------\u001B[0m",
      "\u001B[0;31mKeyboardInterrupt\u001B[0m                         Traceback (most recent call last)",
      "Input \u001B[0;32mIn [30]\u001B[0m, in \u001B[0;36m<module>\u001B[0;34m\u001B[0m\n\u001B[0;32m----> 1\u001B[0m \u001B[43mstudy\u001B[49m\u001B[38;5;241;43m.\u001B[39;49m\u001B[43moptimize\u001B[49m\u001B[43m(\u001B[49m\u001B[43mobjective\u001B[49m\u001B[43m,\u001B[49m\u001B[43m \u001B[49m\u001B[43mn_trials\u001B[49m\u001B[38;5;241;43m=\u001B[39;49m\u001B[38;5;241;43m20\u001B[39;49m\u001B[43m)\u001B[49m\n",
      "File \u001B[0;32m~/PycharmProjects/TensorAirSpace/venv/lib/python3.8/site-packages/optuna/study/study.py:400\u001B[0m, in \u001B[0;36mStudy.optimize\u001B[0;34m(self, func, n_trials, timeout, n_jobs, catch, callbacks, gc_after_trial, show_progress_bar)\u001B[0m\n\u001B[1;32m    392\u001B[0m \u001B[38;5;28;01mif\u001B[39;00m n_jobs \u001B[38;5;241m!=\u001B[39m \u001B[38;5;241m1\u001B[39m:\n\u001B[1;32m    393\u001B[0m     warnings\u001B[38;5;241m.\u001B[39mwarn(\n\u001B[1;32m    394\u001B[0m         \u001B[38;5;124m\"\u001B[39m\u001B[38;5;124m`n_jobs` argument has been deprecated in v2.7.0. \u001B[39m\u001B[38;5;124m\"\u001B[39m\n\u001B[1;32m    395\u001B[0m         \u001B[38;5;124m\"\u001B[39m\u001B[38;5;124mThis feature will be removed in v4.0.0. \u001B[39m\u001B[38;5;124m\"\u001B[39m\n\u001B[1;32m    396\u001B[0m         \u001B[38;5;124m\"\u001B[39m\u001B[38;5;124mSee https://github.com/optuna/optuna/releases/tag/v2.7.0.\u001B[39m\u001B[38;5;124m\"\u001B[39m,\n\u001B[1;32m    397\u001B[0m         \u001B[38;5;167;01mFutureWarning\u001B[39;00m,\n\u001B[1;32m    398\u001B[0m     )\n\u001B[0;32m--> 400\u001B[0m \u001B[43m_optimize\u001B[49m\u001B[43m(\u001B[49m\n\u001B[1;32m    401\u001B[0m \u001B[43m    \u001B[49m\u001B[43mstudy\u001B[49m\u001B[38;5;241;43m=\u001B[39;49m\u001B[38;5;28;43mself\u001B[39;49m\u001B[43m,\u001B[49m\n\u001B[1;32m    402\u001B[0m \u001B[43m    \u001B[49m\u001B[43mfunc\u001B[49m\u001B[38;5;241;43m=\u001B[39;49m\u001B[43mfunc\u001B[49m\u001B[43m,\u001B[49m\n\u001B[1;32m    403\u001B[0m \u001B[43m    \u001B[49m\u001B[43mn_trials\u001B[49m\u001B[38;5;241;43m=\u001B[39;49m\u001B[43mn_trials\u001B[49m\u001B[43m,\u001B[49m\n\u001B[1;32m    404\u001B[0m \u001B[43m    \u001B[49m\u001B[43mtimeout\u001B[49m\u001B[38;5;241;43m=\u001B[39;49m\u001B[43mtimeout\u001B[49m\u001B[43m,\u001B[49m\n\u001B[1;32m    405\u001B[0m \u001B[43m    \u001B[49m\u001B[43mn_jobs\u001B[49m\u001B[38;5;241;43m=\u001B[39;49m\u001B[43mn_jobs\u001B[49m\u001B[43m,\u001B[49m\n\u001B[1;32m    406\u001B[0m \u001B[43m    \u001B[49m\u001B[43mcatch\u001B[49m\u001B[38;5;241;43m=\u001B[39;49m\u001B[43mcatch\u001B[49m\u001B[43m,\u001B[49m\n\u001B[1;32m    407\u001B[0m \u001B[43m    \u001B[49m\u001B[43mcallbacks\u001B[49m\u001B[38;5;241;43m=\u001B[39;49m\u001B[43mcallbacks\u001B[49m\u001B[43m,\u001B[49m\n\u001B[1;32m    408\u001B[0m \u001B[43m    \u001B[49m\u001B[43mgc_after_trial\u001B[49m\u001B[38;5;241;43m=\u001B[39;49m\u001B[43mgc_after_trial\u001B[49m\u001B[43m,\u001B[49m\n\u001B[1;32m    409\u001B[0m \u001B[43m    \u001B[49m\u001B[43mshow_progress_bar\u001B[49m\u001B[38;5;241;43m=\u001B[39;49m\u001B[43mshow_progress_bar\u001B[49m\u001B[43m,\u001B[49m\n\u001B[1;32m    410\u001B[0m \u001B[43m\u001B[49m\u001B[43m)\u001B[49m\n",
      "File \u001B[0;32m~/PycharmProjects/TensorAirSpace/venv/lib/python3.8/site-packages/optuna/study/_optimize.py:66\u001B[0m, in \u001B[0;36m_optimize\u001B[0;34m(study, func, n_trials, timeout, n_jobs, catch, callbacks, gc_after_trial, show_progress_bar)\u001B[0m\n\u001B[1;32m     64\u001B[0m \u001B[38;5;28;01mtry\u001B[39;00m:\n\u001B[1;32m     65\u001B[0m     \u001B[38;5;28;01mif\u001B[39;00m n_jobs \u001B[38;5;241m==\u001B[39m \u001B[38;5;241m1\u001B[39m:\n\u001B[0;32m---> 66\u001B[0m         \u001B[43m_optimize_sequential\u001B[49m\u001B[43m(\u001B[49m\n\u001B[1;32m     67\u001B[0m \u001B[43m            \u001B[49m\u001B[43mstudy\u001B[49m\u001B[43m,\u001B[49m\n\u001B[1;32m     68\u001B[0m \u001B[43m            \u001B[49m\u001B[43mfunc\u001B[49m\u001B[43m,\u001B[49m\n\u001B[1;32m     69\u001B[0m \u001B[43m            \u001B[49m\u001B[43mn_trials\u001B[49m\u001B[43m,\u001B[49m\n\u001B[1;32m     70\u001B[0m \u001B[43m            \u001B[49m\u001B[43mtimeout\u001B[49m\u001B[43m,\u001B[49m\n\u001B[1;32m     71\u001B[0m \u001B[43m            \u001B[49m\u001B[43mcatch\u001B[49m\u001B[43m,\u001B[49m\n\u001B[1;32m     72\u001B[0m \u001B[43m            \u001B[49m\u001B[43mcallbacks\u001B[49m\u001B[43m,\u001B[49m\n\u001B[1;32m     73\u001B[0m \u001B[43m            \u001B[49m\u001B[43mgc_after_trial\u001B[49m\u001B[43m,\u001B[49m\n\u001B[1;32m     74\u001B[0m \u001B[43m            \u001B[49m\u001B[43mreseed_sampler_rng\u001B[49m\u001B[38;5;241;43m=\u001B[39;49m\u001B[38;5;28;43;01mFalse\u001B[39;49;00m\u001B[43m,\u001B[49m\n\u001B[1;32m     75\u001B[0m \u001B[43m            \u001B[49m\u001B[43mtime_start\u001B[49m\u001B[38;5;241;43m=\u001B[39;49m\u001B[38;5;28;43;01mNone\u001B[39;49;00m\u001B[43m,\u001B[49m\n\u001B[1;32m     76\u001B[0m \u001B[43m            \u001B[49m\u001B[43mprogress_bar\u001B[49m\u001B[38;5;241;43m=\u001B[39;49m\u001B[43mprogress_bar\u001B[49m\u001B[43m,\u001B[49m\n\u001B[1;32m     77\u001B[0m \u001B[43m        \u001B[49m\u001B[43m)\u001B[49m\n\u001B[1;32m     78\u001B[0m     \u001B[38;5;28;01melse\u001B[39;00m:\n\u001B[1;32m     79\u001B[0m         \u001B[38;5;28;01mif\u001B[39;00m show_progress_bar:\n",
      "File \u001B[0;32m~/PycharmProjects/TensorAirSpace/venv/lib/python3.8/site-packages/optuna/study/_optimize.py:163\u001B[0m, in \u001B[0;36m_optimize_sequential\u001B[0;34m(study, func, n_trials, timeout, catch, callbacks, gc_after_trial, reseed_sampler_rng, time_start, progress_bar)\u001B[0m\n\u001B[1;32m    160\u001B[0m         \u001B[38;5;28;01mbreak\u001B[39;00m\n\u001B[1;32m    162\u001B[0m \u001B[38;5;28;01mtry\u001B[39;00m:\n\u001B[0;32m--> 163\u001B[0m     trial \u001B[38;5;241m=\u001B[39m \u001B[43m_run_trial\u001B[49m\u001B[43m(\u001B[49m\u001B[43mstudy\u001B[49m\u001B[43m,\u001B[49m\u001B[43m \u001B[49m\u001B[43mfunc\u001B[49m\u001B[43m,\u001B[49m\u001B[43m \u001B[49m\u001B[43mcatch\u001B[49m\u001B[43m)\u001B[49m\n\u001B[1;32m    164\u001B[0m \u001B[38;5;28;01mexcept\u001B[39;00m \u001B[38;5;167;01mException\u001B[39;00m:\n\u001B[1;32m    165\u001B[0m     \u001B[38;5;28;01mraise\u001B[39;00m\n",
      "File \u001B[0;32m~/PycharmProjects/TensorAirSpace/venv/lib/python3.8/site-packages/optuna/study/_optimize.py:213\u001B[0m, in \u001B[0;36m_run_trial\u001B[0;34m(study, func, catch)\u001B[0m\n\u001B[1;32m    210\u001B[0m     thread\u001B[38;5;241m.\u001B[39mstart()\n\u001B[1;32m    212\u001B[0m \u001B[38;5;28;01mtry\u001B[39;00m:\n\u001B[0;32m--> 213\u001B[0m     value_or_values \u001B[38;5;241m=\u001B[39m \u001B[43mfunc\u001B[49m\u001B[43m(\u001B[49m\u001B[43mtrial\u001B[49m\u001B[43m)\u001B[49m\n\u001B[1;32m    214\u001B[0m \u001B[38;5;28;01mexcept\u001B[39;00m exceptions\u001B[38;5;241m.\u001B[39mTrialPruned \u001B[38;5;28;01mas\u001B[39;00m e:\n\u001B[1;32m    215\u001B[0m     \u001B[38;5;66;03m# TODO(mamu): Handle multi-objective cases.\u001B[39;00m\n\u001B[1;32m    216\u001B[0m     state \u001B[38;5;241m=\u001B[39m TrialState\u001B[38;5;241m.\u001B[39mPRUNED\n",
      "Input \u001B[0;32mIn [27]\u001B[0m, in \u001B[0;36mobjective\u001B[0;34m(trial)\u001B[0m\n\u001B[1;32m     66\u001B[0m xt \u001B[38;5;241m=\u001B[39m np\u001B[38;5;241m.\u001B[39marray([[np\u001B[38;5;241m.\u001B[39mdeg2rad(\u001B[38;5;241m3\u001B[39m)], [\u001B[38;5;241m0\u001B[39m]])\n\u001B[1;32m     67\u001B[0m \u001B[38;5;28;01mfor\u001B[39;00m step \u001B[38;5;129;01min\u001B[39;00m \u001B[38;5;28mrange\u001B[39m(number_time_steps):\n\u001B[0;32m---> 68\u001B[0m     ut \u001B[38;5;241m=\u001B[39m \u001B[43mmodel\u001B[49m\u001B[38;5;241;43m.\u001B[39;49m\u001B[43mpredict\u001B[49m\u001B[43m(\u001B[49m\u001B[43mxt\u001B[49m\u001B[43m,\u001B[49m\u001B[43m \u001B[49m\u001B[43mreference_signals\u001B[49m\u001B[43m,\u001B[49m\u001B[43m \u001B[49m\u001B[43mstep\u001B[49m\u001B[43m)\u001B[49m\n\u001B[1;32m     69\u001B[0m     xt, reward, done, info \u001B[38;5;241m=\u001B[39m env\u001B[38;5;241m.\u001B[39mstep(np\u001B[38;5;241m.\u001B[39marray(ut))\n\u001B[1;32m     70\u001B[0m \u001B[38;5;28;01mreturn\u001B[39;00m reward\n",
      "File \u001B[0;32m~/PycharmProjects/TensorAirSpace/tensorairspace/agent/ihdp/model.py:74\u001B[0m, in \u001B[0;36mIHDPAgent.predict\u001B[0;34m(self, xt, reference_signals, time_step)\u001B[0m\n\u001B[1;32m     72\u001B[0m _ \u001B[38;5;241m=\u001B[39m \u001B[38;5;28mself\u001B[39m\u001B[38;5;241m.\u001B[39mcritic\u001B[38;5;241m.\u001B[39mrun_train_critic_online_alpha_decay(xt, xt_ref)\n\u001B[1;32m     73\u001B[0m Jt1, dJt1_dxt1 \u001B[38;5;241m=\u001B[39m \u001B[38;5;28mself\u001B[39m\u001B[38;5;241m.\u001B[39mcritic\u001B[38;5;241m.\u001B[39mevaluate_critic(np\u001B[38;5;241m.\u001B[39mreshape(xt1_est, [\u001B[38;5;241m-\u001B[39m\u001B[38;5;241m1\u001B[39m, \u001B[38;5;241m1\u001B[39m]), xt_ref1)\n\u001B[0;32m---> 74\u001B[0m \u001B[38;5;28;43mself\u001B[39;49m\u001B[38;5;241;43m.\u001B[39;49m\u001B[43mactor\u001B[49m\u001B[38;5;241;43m.\u001B[39;49m\u001B[43mtrain_actor_online_alpha_decay\u001B[49m\u001B[43m(\u001B[49m\u001B[43mJt1\u001B[49m\u001B[43m,\u001B[49m\u001B[43m \u001B[49m\u001B[43mdJt1_dxt1\u001B[49m\u001B[43m,\u001B[49m\u001B[43m \u001B[49m\u001B[43mG\u001B[49m\u001B[43m,\u001B[49m\u001B[43m \u001B[49m\u001B[38;5;28;43mself\u001B[39;49m\u001B[38;5;241;43m.\u001B[39;49m\u001B[43mincremental_model\u001B[49m\u001B[43m,\u001B[49m\u001B[43m \u001B[49m\u001B[38;5;28;43mself\u001B[39;49m\u001B[38;5;241;43m.\u001B[39;49m\u001B[43mcritic\u001B[49m\u001B[43m,\u001B[49m\u001B[43m \u001B[49m\u001B[43mxt_ref1\u001B[49m\u001B[43m)\u001B[49m\n\u001B[1;32m     76\u001B[0m \u001B[38;5;28mself\u001B[39m\u001B[38;5;241m.\u001B[39mincremental_model\u001B[38;5;241m.\u001B[39mupdate_incremental_model_attributes()\n\u001B[1;32m     77\u001B[0m \u001B[38;5;28mself\u001B[39m\u001B[38;5;241m.\u001B[39mcritic\u001B[38;5;241m.\u001B[39mupdate_critic_attributes()\n",
      "File \u001B[0;32m~/PycharmProjects/TensorAirSpace/tensorairspace/agent/ihdp/Actor.py:463\u001B[0m, in \u001B[0;36mActor.train_actor_online_alpha_decay\u001B[0;34m(self, Jt1, dJt1_dxt1, G, incremental_model, critic, xt_ref1)\u001B[0m\n\u001B[1;32m    459\u001B[0m \u001B[38;5;28mself\u001B[39m\u001B[38;5;241m.\u001B[39mmodel\u001B[38;5;241m.\u001B[39mtrainable_variables[count]\u001B[38;5;241m.\u001B[39massign_sub(np\u001B[38;5;241m.\u001B[39mreshape(\u001B[38;5;28mself\u001B[39m\u001B[38;5;241m.\u001B[39mlearning_rate \u001B[38;5;241m*\u001B[39m gradient,\n\u001B[1;32m    460\u001B[0m                                                             \u001B[38;5;28mself\u001B[39m\u001B[38;5;241m.\u001B[39mmodel\u001B[38;5;241m.\u001B[39mtrainable_variables[\n\u001B[1;32m    461\u001B[0m                                                                 count]\u001B[38;5;241m.\u001B[39mshape))\n\u001B[1;32m    462\u001B[0m \u001B[38;5;66;03m# Implement WB_limits: the weights and biases can not have values whose absolute value exceeds WB_limits\u001B[39;00m\n\u001B[0;32m--> 463\u001B[0m \u001B[38;5;28mself\u001B[39m\u001B[38;5;241m.\u001B[39mmodel \u001B[38;5;241m=\u001B[39m \u001B[38;5;28;43mself\u001B[39;49m\u001B[38;5;241;43m.\u001B[39;49m\u001B[43mcheck_WB_limits\u001B[49m\u001B[43m(\u001B[49m\u001B[43mcount\u001B[49m\u001B[43m,\u001B[49m\u001B[43m \u001B[49m\u001B[38;5;28;43mself\u001B[39;49m\u001B[38;5;241;43m.\u001B[39;49m\u001B[43mmodel\u001B[49m\u001B[43m)\u001B[49m\n\u001B[1;32m    464\u001B[0m \u001B[38;5;28;01mif\u001B[39;00m count \u001B[38;5;241m%\u001B[39m \u001B[38;5;241m2\u001B[39m \u001B[38;5;241m==\u001B[39m \u001B[38;5;241m1\u001B[39m:\n\u001B[1;32m    465\u001B[0m     \u001B[38;5;28mself\u001B[39m\u001B[38;5;241m.\u001B[39mmodel\u001B[38;5;241m.\u001B[39mtrainable_variables[count]\u001B[38;5;241m.\u001B[39massign(\n\u001B[1;32m    466\u001B[0m         np\u001B[38;5;241m.\u001B[39mzeros(\u001B[38;5;28mself\u001B[39m\u001B[38;5;241m.\u001B[39mmodel\u001B[38;5;241m.\u001B[39mtrainable_variables[count]\u001B[38;5;241m.\u001B[39mshape))\n",
      "File \u001B[0;32m~/PycharmProjects/TensorAirSpace/tensorairspace/agent/ihdp/Actor.py:519\u001B[0m, in \u001B[0;36mActor.check_WB_limits\u001B[0;34m(self, count, model)\u001B[0m\n\u001B[1;32m    517\u001B[0m WB_variable[WB_variable \u001B[38;5;241m>\u001B[39m \u001B[38;5;28mself\u001B[39m\u001B[38;5;241m.\u001B[39mWB_limits] \u001B[38;5;241m=\u001B[39m \u001B[38;5;28mself\u001B[39m\u001B[38;5;241m.\u001B[39mWB_limits\n\u001B[1;32m    518\u001B[0m WB_variable[WB_variable \u001B[38;5;241m<\u001B[39m \u001B[38;5;241m-\u001B[39m\u001B[38;5;28mself\u001B[39m\u001B[38;5;241m.\u001B[39mWB_limits] \u001B[38;5;241m=\u001B[39m \u001B[38;5;241m-\u001B[39m\u001B[38;5;28mself\u001B[39m\u001B[38;5;241m.\u001B[39mWB_limits\n\u001B[0;32m--> 519\u001B[0m \u001B[43mmodel\u001B[49m\u001B[38;5;241;43m.\u001B[39;49m\u001B[43mtrainable_variables\u001B[49m\u001B[43m[\u001B[49m\u001B[43mcount\u001B[49m\u001B[43m]\u001B[49m\u001B[38;5;241;43m.\u001B[39;49m\u001B[43massign\u001B[49m\u001B[43m(\u001B[49m\u001B[43mWB_variable\u001B[49m\u001B[43m)\u001B[49m\n\u001B[1;32m    520\u001B[0m \u001B[38;5;28;01mreturn\u001B[39;00m model\n",
      "File \u001B[0;32m~/PycharmProjects/TensorAirSpace/venv/lib/python3.8/site-packages/tensorflow/python/ops/resource_variable_ops.py:850\u001B[0m, in \u001B[0;36mBaseResourceVariable.assign\u001B[0;34m(self, value, use_locking, name, read_value)\u001B[0m\n\u001B[1;32m    847\u001B[0m   assign_op \u001B[38;5;241m=\u001B[39m gen_resource_variable_ops\u001B[38;5;241m.\u001B[39massign_variable_op(\n\u001B[1;32m    848\u001B[0m       \u001B[38;5;28mself\u001B[39m\u001B[38;5;241m.\u001B[39mhandle, value_tensor, name\u001B[38;5;241m=\u001B[39mname)\n\u001B[1;32m    849\u001B[0m   \u001B[38;5;28;01mif\u001B[39;00m read_value:\n\u001B[0;32m--> 850\u001B[0m     \u001B[38;5;28;01mreturn\u001B[39;00m \u001B[38;5;28;43mself\u001B[39;49m\u001B[38;5;241;43m.\u001B[39;49m\u001B[43m_lazy_read\u001B[49m\u001B[43m(\u001B[49m\u001B[43massign_op\u001B[49m\u001B[43m)\u001B[49m\n\u001B[1;32m    851\u001B[0m \u001B[38;5;28;01mreturn\u001B[39;00m assign_op\n",
      "File \u001B[0;32m~/PycharmProjects/TensorAirSpace/venv/lib/python3.8/site-packages/tensorflow/python/ops/resource_variable_ops.py:820\u001B[0m, in \u001B[0;36mBaseResourceVariable._lazy_read\u001B[0;34m(self, op)\u001B[0m\n\u001B[1;32m    818\u001B[0m \u001B[38;5;28;01mdef\u001B[39;00m \u001B[38;5;21m_lazy_read\u001B[39m(\u001B[38;5;28mself\u001B[39m, op):\n\u001B[1;32m    819\u001B[0m   variable_accessed(\u001B[38;5;28mself\u001B[39m)\n\u001B[0;32m--> 820\u001B[0m   \u001B[38;5;28;01mreturn\u001B[39;00m \u001B[43m_UnreadVariable\u001B[49m\u001B[43m(\u001B[49m\n\u001B[1;32m    821\u001B[0m \u001B[43m      \u001B[49m\u001B[43mhandle\u001B[49m\u001B[38;5;241;43m=\u001B[39;49m\u001B[38;5;28;43mself\u001B[39;49m\u001B[38;5;241;43m.\u001B[39;49m\u001B[43m_handle\u001B[49m\u001B[43m,\u001B[49m\u001B[43m \u001B[49m\u001B[43mdtype\u001B[49m\u001B[38;5;241;43m=\u001B[39;49m\u001B[38;5;28;43mself\u001B[39;49m\u001B[38;5;241;43m.\u001B[39;49m\u001B[43mdtype\u001B[49m\u001B[43m,\u001B[49m\u001B[43m \u001B[49m\u001B[43mshape\u001B[49m\u001B[38;5;241;43m=\u001B[39;49m\u001B[38;5;28;43mself\u001B[39;49m\u001B[38;5;241;43m.\u001B[39;49m\u001B[43m_shape\u001B[49m\u001B[43m,\u001B[49m\n\u001B[1;32m    822\u001B[0m \u001B[43m      \u001B[49m\u001B[43min_graph_mode\u001B[49m\u001B[38;5;241;43m=\u001B[39;49m\u001B[38;5;28;43mself\u001B[39;49m\u001B[38;5;241;43m.\u001B[39;49m\u001B[43m_in_graph_mode\u001B[49m\u001B[43m,\u001B[49m\n\u001B[1;32m    823\u001B[0m \u001B[43m      \u001B[49m\u001B[43mdeleter\u001B[49m\u001B[38;5;241;43m=\u001B[39;49m\u001B[38;5;28;43mself\u001B[39;49m\u001B[38;5;241;43m.\u001B[39;49m\u001B[43m_handle_deleter\u001B[49m\u001B[43m \u001B[49m\u001B[38;5;28;43;01mif\u001B[39;49;00m\u001B[43m \u001B[49m\u001B[38;5;129;43;01mnot\u001B[39;49;00m\u001B[43m \u001B[49m\u001B[38;5;28;43mself\u001B[39;49m\u001B[38;5;241;43m.\u001B[39;49m\u001B[43m_in_graph_mode\u001B[49m\u001B[43m \u001B[49m\u001B[38;5;28;43;01melse\u001B[39;49;00m\u001B[43m \u001B[49m\u001B[38;5;28;43;01mNone\u001B[39;49;00m\u001B[43m,\u001B[49m\n\u001B[1;32m    824\u001B[0m \u001B[43m      \u001B[49m\u001B[43mparent_op\u001B[49m\u001B[38;5;241;43m=\u001B[39;49m\u001B[43mop\u001B[49m\u001B[43m,\u001B[49m\u001B[43m \u001B[49m\u001B[43munique_id\u001B[49m\u001B[38;5;241;43m=\u001B[39;49m\u001B[38;5;28;43mself\u001B[39;49m\u001B[38;5;241;43m.\u001B[39;49m\u001B[43m_unique_id\u001B[49m\u001B[43m)\u001B[49m\n",
      "File \u001B[0;32m~/PycharmProjects/TensorAirSpace/venv/lib/python3.8/site-packages/tensorflow/python/ops/variables.py:257\u001B[0m, in \u001B[0;36mVariableMetaclass.__call__\u001B[0;34m(cls, *args, **kwargs)\u001B[0m\n\u001B[1;32m    242\u001B[0m     aggregation \u001B[38;5;241m=\u001B[39m VariableAggregation\u001B[38;5;241m.\u001B[39mNONE\n\u001B[1;32m    243\u001B[0m   \u001B[38;5;28;01mreturn\u001B[39;00m previous_getter(\n\u001B[1;32m    244\u001B[0m       initial_value\u001B[38;5;241m=\u001B[39minitial_value,\n\u001B[1;32m    245\u001B[0m       trainable\u001B[38;5;241m=\u001B[39mtrainable,\n\u001B[0;32m   (...)\u001B[0m\n\u001B[1;32m    254\u001B[0m       aggregation\u001B[38;5;241m=\u001B[39maggregation,\n\u001B[1;32m    255\u001B[0m       shape\u001B[38;5;241m=\u001B[39mshape)\n\u001B[0;32m--> 257\u001B[0m \u001B[38;5;28;01mdef\u001B[39;00m \u001B[38;5;21m__call__\u001B[39m(\u001B[38;5;28mcls\u001B[39m, \u001B[38;5;241m*\u001B[39margs, \u001B[38;5;241m*\u001B[39m\u001B[38;5;241m*\u001B[39mkwargs):\n\u001B[1;32m    258\u001B[0m   \u001B[38;5;28;01mif\u001B[39;00m \u001B[38;5;28mcls\u001B[39m \u001B[38;5;129;01mis\u001B[39;00m VariableV1:\n\u001B[1;32m    259\u001B[0m     \u001B[38;5;28;01mreturn\u001B[39;00m \u001B[38;5;28mcls\u001B[39m\u001B[38;5;241m.\u001B[39m_variable_v1_call(\u001B[38;5;241m*\u001B[39margs, \u001B[38;5;241m*\u001B[39m\u001B[38;5;241m*\u001B[39mkwargs)\n",
      "\u001B[0;31mKeyboardInterrupt\u001B[0m: "
     ]
    }
   ],
   "source": [
    "study.optimize(objective, n_trials=20)"
   ],
   "metadata": {
    "collapsed": false,
    "pycharm": {
     "name": "#%%\n"
    }
   }
  },
  {
   "cell_type": "code",
   "execution_count": 23,
   "outputs": [
    {
     "ename": "ValueError",
     "evalue": "No trials are completed yet.",
     "output_type": "error",
     "traceback": [
      "\u001B[0;31m---------------------------------------------------------------------------\u001B[0m",
      "\u001B[0;31mValueError\u001B[0m                                Traceback (most recent call last)",
      "Input \u001B[0;32mIn [23]\u001B[0m, in \u001B[0;36m<module>\u001B[0;34m\u001B[0m\n\u001B[0;32m----> 1\u001B[0m \u001B[43mstudy\u001B[49m\u001B[38;5;241;43m.\u001B[39;49m\u001B[43mbest_trial\u001B[49m\n",
      "File \u001B[0;32m~/PycharmProjects/TensorAirSpace/venv/lib/python3.8/site-packages/optuna/study/study.py:97\u001B[0m, in \u001B[0;36mBaseStudy.best_trial\u001B[0;34m(self)\u001B[0m\n\u001B[1;32m     91\u001B[0m \u001B[38;5;28;01mif\u001B[39;00m \u001B[38;5;28mself\u001B[39m\u001B[38;5;241m.\u001B[39m_is_multi_objective():\n\u001B[1;32m     92\u001B[0m     \u001B[38;5;28;01mraise\u001B[39;00m \u001B[38;5;167;01mRuntimeError\u001B[39;00m(\n\u001B[1;32m     93\u001B[0m         \u001B[38;5;124m\"\u001B[39m\u001B[38;5;124mA single best trial cannot be retrieved from a multi-objective study. Consider \u001B[39m\u001B[38;5;124m\"\u001B[39m\n\u001B[1;32m     94\u001B[0m         \u001B[38;5;124m\"\u001B[39m\u001B[38;5;124musing Study.best_trials to retrieve a list containing the best trials.\u001B[39m\u001B[38;5;124m\"\u001B[39m\n\u001B[1;32m     95\u001B[0m     )\n\u001B[0;32m---> 97\u001B[0m \u001B[38;5;28;01mreturn\u001B[39;00m copy\u001B[38;5;241m.\u001B[39mdeepcopy(\u001B[38;5;28;43mself\u001B[39;49m\u001B[38;5;241;43m.\u001B[39;49m\u001B[43m_storage\u001B[49m\u001B[38;5;241;43m.\u001B[39;49m\u001B[43mget_best_trial\u001B[49m\u001B[43m(\u001B[49m\u001B[38;5;28;43mself\u001B[39;49m\u001B[38;5;241;43m.\u001B[39;49m\u001B[43m_study_id\u001B[49m\u001B[43m)\u001B[49m)\n",
      "File \u001B[0;32m~/PycharmProjects/TensorAirSpace/venv/lib/python3.8/site-packages/optuna/storages/_in_memory.py:311\u001B[0m, in \u001B[0;36mInMemoryStorage.get_best_trial\u001B[0;34m(self, study_id)\u001B[0m\n\u001B[1;32m    309\u001B[0m best_trial_id \u001B[38;5;241m=\u001B[39m \u001B[38;5;28mself\u001B[39m\u001B[38;5;241m.\u001B[39m_studies[study_id]\u001B[38;5;241m.\u001B[39mbest_trial_id\n\u001B[1;32m    310\u001B[0m \u001B[38;5;28;01mif\u001B[39;00m best_trial_id \u001B[38;5;129;01mis\u001B[39;00m \u001B[38;5;28;01mNone\u001B[39;00m:\n\u001B[0;32m--> 311\u001B[0m     \u001B[38;5;28;01mraise\u001B[39;00m \u001B[38;5;167;01mValueError\u001B[39;00m(\u001B[38;5;124m\"\u001B[39m\u001B[38;5;124mNo trials are completed yet.\u001B[39m\u001B[38;5;124m\"\u001B[39m)\n\u001B[1;32m    312\u001B[0m \u001B[38;5;28;01melif\u001B[39;00m \u001B[38;5;28mlen\u001B[39m(\u001B[38;5;28mself\u001B[39m\u001B[38;5;241m.\u001B[39m_studies[study_id]\u001B[38;5;241m.\u001B[39mdirections) \u001B[38;5;241m>\u001B[39m \u001B[38;5;241m1\u001B[39m:\n\u001B[1;32m    313\u001B[0m     \u001B[38;5;28;01mraise\u001B[39;00m \u001B[38;5;167;01mValueError\u001B[39;00m(\n\u001B[1;32m    314\u001B[0m         \u001B[38;5;124m\"\u001B[39m\u001B[38;5;124mBest trial can be obtained only for single-objective optimization.\u001B[39m\u001B[38;5;124m\"\u001B[39m\n\u001B[1;32m    315\u001B[0m     )\n",
      "\u001B[0;31mValueError\u001B[0m: No trials are completed yet."
     ]
    }
   ],
   "source": [
    "study.best_trial\n"
   ],
   "metadata": {
    "collapsed": false,
    "pycharm": {
     "name": "#%%\n"
    }
   }
  },
  {
   "cell_type": "code",
   "execution_count": null,
   "outputs": [],
   "source": [],
   "metadata": {
    "collapsed": false,
    "pycharm": {
     "name": "#%%\n"
    }
   }
  }
 ],
 "metadata": {
  "kernelspec": {
   "display_name": "Python 3",
   "language": "python",
   "name": "python3"
  },
  "language_info": {
   "codemirror_mode": {
    "name": "ipython",
    "version": 2
   },
   "file_extension": ".py",
   "mimetype": "text/x-python",
   "name": "python",
   "nbconvert_exporter": "python",
   "pygments_lexer": "ipython2",
   "version": "2.7.6"
  }
 },
 "nbformat": 4,
 "nbformat_minor": 0
}