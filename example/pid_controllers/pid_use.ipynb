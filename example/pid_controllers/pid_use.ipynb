{
 "cells": [
  {
   "cell_type": "markdown",
   "metadata": {},
   "source": [
    "# 🎯 Использование ПИД-регулятора для управления самолетом F-16\n",
    "\n",
    "\n",
    "Этот пример демонстрирует практическое применение ПИД-регулятора для управления продольным движением самолета F-16. Мы покажем, как настроить регулятор, провести симуляцию и оценить качество управления.\n",
    "\n",
    "## 📋 Содержание\n",
    "\n",
    "1. [🚀 Быстрый старт](#быстрый-старт)\n",
    "2. [⚙️ Настройка параметров](#настройка-параметров)\n",
    "3. [🎮 Создание среды симуляции](#создание-среды-симуляции)\n",
    "4. [🔄 Запуск симуляции](#запуск-симуляции)\n",
    "5. [📊 Анализ результатов](#анализ-результатов)\n",
    "6. [💡 Советы и рекомендации](#советы-и-рекомендации)\n",
    "\n",
    "## 🎯 Цель примера\n",
    "\n",
    "В этом примере мы:\n",
    "- Создадим ПИД-регулятор с предварительно настроенными параметрами\n",
    "- Настроим среду симуляции для самолета F-16\n",
    "- Проведем симуляцию управления углом атаки\n",
    "- Оценим качество управления с помощью метрик производительности\n",
    "\n",
    "---"
   ]
  },
  {
   "cell_type": "markdown",
   "metadata": {},
   "source": [
    "## 🚀 Быстрый старт\n",
    "\n",
    "Импортируем необходимые библиотеки для работы с ПИД-регулятором и симуляцией."
   ]
  },
  {
   "cell_type": "code",
   "execution_count": 1,
   "metadata": {},
   "outputs": [],
   "source": [
    "import numpy as np\n",
    "import gymnasium as gym\n",
    "\n",
    "from tensoraerospace.agent.pid import PID\n",
    "from tensoraerospace.envs.f16.linear_longitudial import LinearLongitudinalF16\n",
    "from tensoraerospace.utils import generate_time_period, convert_tp_to_sec_tp\n",
    "from tensoraerospace.signals.standart import unit_step\n",
    "from tensoraerospace.benchmark.function import overshoot, settling_time, static_error"
   ]
  },
  {
   "cell_type": "markdown",
   "metadata": {},
   "source": [
    "## ⚙️ Настройка параметров\n",
    "\n",
    "Определяем основные параметры симуляции и коэффициенты ПИД-регулятора.\n",
    "\n",
    "### Параметры симуляции:\n",
    "- `dt`: Шаг дискретизации времени (0.01 с)\n",
    "- `tn`: Общее время симуляции (20 с)\n",
    "- `reference_signal`: Заданный сигнал (единичный скачок на 5°)\n",
    "\n",
    "### Коэффициенты ПИД-регулятора:\n",
    "- `kp`: Пропорциональный коэффициент\n",
    "- `ki`: Интегральный коэффициент\n",
    "- `kd`: Дифференциальный коэффициент"
   ]
  },
  {
   "cell_type": "code",
   "execution_count": 2,
   "metadata": {},
   "outputs": [],
   "source": [
    "# Параметры времени и дискретизации\n",
    "dt = 0.01  # Шаг дискретизации времени\n",
    "tp = generate_time_period(tn=20, dt=dt)  # Временной период\n",
    "tps = convert_tp_to_sec_tp(tp, dt=dt)\n",
    "number_time_steps = len(tp)  # Количество временных шагов\n",
    "\n",
    "# Создание заданного сигнала (единичный скачок на 5 градусов)\n",
    "reference_signals = np.reshape(\n",
    "    unit_step(degree=5, tp=tp, time_step=10, output_rad=True), \n",
    "    [1, -1]\n",
    ")\n",
    "\n",
    "# Предварительно настроенные коэффициенты ПИД-регулятора\n",
    "pid_config = {\n",
    "    'ki': -0.6465002150926438,   # Интегральный коэффициент\n",
    "    'kp': -20.410120034380714,  # Пропорциональный коэффициент\n",
    "    'kd': -6.070487412521423    # Дифференциальный коэффициент\n",
    "}"
   ]
  },
  {
   "cell_type": "markdown",
   "metadata": {},
   "source": [
    "## 🎮 Создание среды симуляции\n",
    "\n",
    "Создаем среду симуляции для продольного движения самолета F-16 и инициализируем ПИД-регулятор.\n",
    "\n",
    "### Параметры среды:\n",
    "- **Модель**: LinearLongitudinalF16-v0\n",
    "- **Начальное состояние**: [0, 0, 0] (theta, alpha, q)\n",
    "- **Отслеживаемое состояние**: alpha (угол атаки)\n",
    "- **Пространство состояний**: [theta, alpha, q]\n",
    "\n",
    "> **💡 Совет**: Угол атаки (alpha) является ключевым параметром для управления подъемной силой самолета."
   ]
  },
  {
   "cell_type": "code",
   "execution_count": 3,
   "metadata": {},
   "outputs": [],
   "source": [
    "# Обновляем параметры для более длительной симуляции\n",
    "tp = generate_time_period(tn=80, dt=dt)\n",
    "tps = convert_tp_to_sec_tp(tp, dt=dt)\n",
    "number_time_steps = len(tp)\n",
    "\n",
    "# Создание заданного сигнала для длительной симуляции\n",
    "reference_signals = np.reshape(\n",
    "    unit_step(degree=5, tp=tp, time_step=10, output_rad=True), \n",
    "    [1, -1]\n",
    ")\n",
    "\n",
    "# Создание среды симуляции F-16\n",
    "env = gym.make(\n",
    "    'LinearLongitudinalF16-v0',\n",
    "    number_time_steps=number_time_steps,\n",
    "    use_reward=False,\n",
    "    initial_state=[[0], [0], [0]],  # [theta, alpha, q]\n",
    "    reference_signal=reference_signals,\n",
    "    state_space=[\"theta\", \"alpha\", \"q\"],\n",
    "    output_space=[\"theta\", \"alpha\", \"q\"],\n",
    "    tracking_states=[\"alpha\"]  # Отслеживаем угол атаки\n",
    ")\n",
    "\n",
    "# Инициализация среды\n",
    "env.reset()\n",
    "\n",
    "# Создание ПИД-регулятора\n",
    "pid = PID(\n",
    "    env, \n",
    "    kp=pid_config[\"kp\"], \n",
    "    ki=pid_config[\"ki\"], \n",
    "    kd=pid_config[\"kd\"], \n",
    "    dt=dt\n",
    ")"
   ]
  },
  {
   "cell_type": "markdown",
   "metadata": {},
   "source": [
    "## 🔄 Запуск симуляции\n",
    "\n",
    "Запускаем основной цикл симуляции, где ПИД-регулятор управляет углом атаки самолета.\n",
    "\n",
    "### Алгоритм управления:\n",
    "1. Получаем текущее состояние системы\n",
    "2. Сравниваем с заданным значением\n",
    "3. Вычисляем управляющий сигнал через ПИД-регулятор\n",
    "4. Применяем управляющий сигнал к системе\n",
    "5. Повторяем до завершения симуляции\n",
    "\n",
    "> **⚠️ Внимание**: Во время выполнения могут появиться предупреждения от Gymnasium - это нормально."
   ]
  },
  {
   "cell_type": "code",
   "execution_count": 4,
   "metadata": {},
   "outputs": [
    {
     "name": "stdout",
     "output_type": "stream",
     "text": [
      "✅ Симуляция завершена! Выполнено 7999 шагов.\n"
     ]
    },
    {
     "name": "stderr",
     "output_type": "stream",
     "text": [
      "/Users/asmazaev/Projects/TensorAeroSpace/.venv/lib/python3.11/site-packages/gymnasium/utils/passive_env_checker.py:135: UserWarning: \u001b[33mWARN: The obs returned by the `step()` method was expecting numpy array dtype to be float32, actual type: float64\u001b[0m\n",
      "  logger.warn(\n",
      "/Users/asmazaev/Projects/TensorAeroSpace/.venv/lib/python3.11/site-packages/gymnasium/utils/passive_env_checker.py:159: UserWarning: \u001b[33mWARN: The obs returned by the `step()` method is not within the observation space.\u001b[0m\n",
      "  logger.warn(f\"{pre} is not within the observation space.\")\n"
     ]
    }
   ],
   "source": [
    "# Инициализация списка для хранения истории\n",
    "hist = []\n",
    "\n",
    "# Получение начального состояния\n",
    "xt, info = env.reset()\n",
    "\n",
    "# Основной цикл симуляции\n",
    "for step in range(number_time_steps - 2):\n",
    "    # Получение текущего заданного значения\n",
    "    setpoint = reference_signals[0, step]\n",
    "    \n",
    "    # Сохранение текущего угла атаки в историю\n",
    "    hist.append(xt[1])\n",
    "    \n",
    "    # Вычисление управляющего сигнала через ПИД-регулятор\n",
    "    ut = pid.select_action(setpoint, xt[1])\n",
    "    \n",
    "    # Применение управляющего сигнала к системе\n",
    "    xt, reward, terminated, truncated, info = env.step(np.array([ut.item()]))\n",
    "\n",
    "print(f\"✅ Симуляция завершена! Выполнено {len(hist)} шагов.\")"
   ]
  },
  {
   "cell_type": "markdown",
   "metadata": {},
   "source": [
    "## 📊 Анализ результатов\n",
    "\n",
    "Извлекаем данные симуляции и вычисляем ключевые метрики производительности системы управления.\n",
    "\n",
    "### Метрики качества управления:\n",
    "- **Статическая ошибка**: Разность между заданным и установившимся значением\n",
    "- **Перерегулирование**: Максимальное превышение заданного значения (%)\n",
    "- **Время установления**: Время достижения установившегося режима (с)"
   ]
  },
  {
   "cell_type": "code",
   "execution_count": 5,
   "metadata": {},
   "outputs": [
    {
     "name": "stdout",
     "output_type": "stream",
     "text": [
      "📈 Данные симуляции извлечены успешно!\n",
      "📏 Длина сигнала системы: 4000 точек\n",
      "📏 Длина управляющего сигнала: 4000 точек\n"
     ]
    }
   ],
   "source": [
    "# Извлечение данных симуляции\n",
    "system_signal_orig = env.unwrapped.model.get_state('alpha', to_deg=True)[:4000]\n",
    "control_signal_orig = np.rad2deg(reference_signals[0])[:4000]\n",
    "\n",
    "print(\"📈 Данные симуляции извлечены успешно!\")\n",
    "print(f\"📏 Длина сигнала системы: {len(system_signal_orig)} точек\")\n",
    "print(f\"📏 Длина управляющего сигнала: {len(control_signal_orig)} точек\")"
   ]
  },
  {
   "cell_type": "markdown",
   "metadata": {},
   "source": [
    "### 📊 Вычисление статической ошибки\n",
    "\n",
    "Статическая ошибка показывает, насколько точно система достигает заданного значения в установившемся режиме."
   ]
  },
  {
   "cell_type": "code",
   "execution_count": 6,
   "metadata": {},
   "outputs": [
    {
     "name": "stdout",
     "output_type": "stream",
     "text": [
      "📊 Статическая ошибка: 0.1381°\n",
      "✅ Отличная точность! Статическая ошибка минимальна.\n"
     ]
    },
    {
     "data": {
      "text/plain": [
       "0.13808902269497914"
      ]
     },
     "execution_count": 6,
     "metadata": {},
     "output_type": "execute_result"
    }
   ],
   "source": [
    "# Расчет статической ошибки\n",
    "static_err = static_error(control_signal_orig, system_signal_orig)\n",
    "print(f\"📊 Статическая ошибка: {static_err:.4f}°\")\n",
    "\n",
    "# Интерпретация результата\n",
    "if abs(static_err) < 0.5:\n",
    "    print(\"✅ Отличная точность! Статическая ошибка минимальна.\")\n",
    "elif abs(static_err) < 1.0:\n",
    "    print(\"✅ Хорошая точность. Статическая ошибка приемлема.\")\n",
    "else:\n",
    "    print(\"⚠️ Статическая ошибка значительна. Рекомендуется настройка регулятора.\")\n",
    "\n",
    "static_err"
   ]
  },
  {
   "cell_type": "markdown",
   "metadata": {},
   "source": [
    "### 📈 Вычисление перерегулирования\n",
    "\n",
    "Перерегулирование характеризует максимальное превышение системой заданного значения."
   ]
  },
  {
   "cell_type": "code",
   "execution_count": 7,
   "metadata": {},
   "outputs": [
    {
     "name": "stdout",
     "output_type": "stream",
     "text": [
      "📊 Перерегулирование: -2.60%\n",
      "✅ Отличная стабильность! Перерегулирование минимально.\n"
     ]
    },
    {
     "data": {
      "text/plain": [
       "-2.6043765026611254"
      ]
     },
     "execution_count": 7,
     "metadata": {},
     "output_type": "execute_result"
    }
   ],
   "source": [
    "# Расчет перерегулирования\n",
    "overshoot_val = overshoot(control_signal_orig, system_signal_orig)\n",
    "print(f\"📊 Перерегулирование: {overshoot_val:.2f}%\")\n",
    "\n",
    "# Интерпретация результата\n",
    "if abs(overshoot_val) < 5:\n",
    "    print(\"✅ Отличная стабильность! Перерегулирование минимально.\")\n",
    "elif abs(overshoot_val) < 15:\n",
    "    print(\"✅ Хорошая стабильность. Перерегулирование приемлемо.\")\n",
    "else:\n",
    "    print(\"⚠️ Значительное перерегулирование. Рекомендуется уменьшить Kp или увеличить Kd.\")\n",
    "\n",
    "overshoot_val"
   ]
  },
  {
   "cell_type": "markdown",
   "metadata": {},
   "source": [
    "### ⏱️ Вычисление времени установления\n",
    "\n",
    "Время установления показывает, как быстро система достигает установившегося режима."
   ]
  },
  {
   "cell_type": "code",
   "execution_count": 8,
   "metadata": {},
   "outputs": [
    {
     "name": "stdout",
     "output_type": "stream",
     "text": [
      "📊 Время установления: 17.61 с\n",
      "⚠️ Медленная скорость отклика. Рекомендуется увеличить Kp или уменьшить Ki.\n"
     ]
    },
    {
     "data": {
      "text/plain": [
       "17.61"
      ]
     },
     "execution_count": 8,
     "metadata": {},
     "output_type": "execute_result"
    }
   ],
   "source": [
    "# Расчет времени установления\n",
    "settling_time_val = settling_time(control_signal_orig, system_signal_orig) * 0.01\n",
    "print(f\"📊 Время установления: {settling_time_val:.2f} с\")\n",
    "\n",
    "# Интерпретация результата\n",
    "if settling_time_val < 5:\n",
    "    print(\"✅ Отличная скорость отклика! Система быстро достигает установившегося режима.\")\n",
    "elif settling_time_val < 15:\n",
    "    print(\"✅ Хорошая скорость отклика.\")\n",
    "else:\n",
    "    print(\"⚠️ Медленная скорость отклика. Рекомендуется увеличить Kp или уменьшить Ki.\")\n",
    "\n",
    "settling_time_val"
   ]
  },
  {
   "cell_type": "code",
   "execution_count": 9,
   "metadata": {},
   "outputs": [
    {
     "data": {
      "image/png": "[encoded data removed]",
      "text/plain": [
       "<Figure size 1500x400 with 1 Axes>"
      ]
     },
     "metadata": {},
     "output_type": "display_data"
    }
   ],
   "source": [
    "env.unwrapped.model.plot_transient_process('alpha', tps, reference_signals[0], to_deg=True, figsize=(15,4))"
   ]
  },
  {
   "cell_type": "code",
   "execution_count": 10,
   "metadata": {},
   "outputs": [
    {
     "name": "stderr",
     "output_type": "stream",
     "text": [
      "No artists with labels found to put in legend.  Note that artists whose label start with an underscore are ignored when legend() is called with no argument.\n"
     ]
    },
    {
     "data": {
      "image/png": "[encoded data removed]",
      "text/plain": [
       "<Figure size 1500x400 with 1 Axes>"
      ]
     },
     "metadata": {},
     "output_type": "display_data"
    }
   ],
   "source": [
    "env.unwrapped.model.plot_control('ele', tps, to_deg=True, figsize=(15,4))"
   ]
  },
  {
   "cell_type": "code",
   "execution_count": 11,
   "metadata": {},
   "outputs": [
    {
     "data": {
      "image/png": "[encoded data removed]",
      "text/plain": [
       "<Figure size 1500x400 with 1 Axes>"
      ]
     },
     "metadata": {},
     "output_type": "display_data"
    }
   ],
   "source": [
    "env.unwrapped.model.plot_state('q', tps, figsize=(15,4), to_deg=True)"
   ]
  },
  {
   "cell_type": "markdown",
   "metadata": {},
   "source": [
    "## 💡 Советы и рекомендации\n",
    "\n",
    "### 🎛️ Настройка ПИД-регулятора\n",
    "\n",
    "**Пропорциональный коэффициент (Kp):**\n",
    "- ⬆️ Увеличение: Быстрее отклик, но больше перерегулирование\n",
    "- ⬇️ Уменьшение: Медленнее отклик, но стабильнее система\n",
    "\n",
    "**Интегральный коэффициент (Ki):**\n",
    "- ⬆️ Увеличение: Устраняет статическую ошибку, но может вызвать колебания\n",
    "- ⬇️ Уменьшение: Более стабильная система, но возможна статическая ошибка\n",
    "\n",
    "**Дифференциальный коэффициент (Kd):**\n",
    "- ⬆️ Увеличение: Уменьшает перерегулирование и колебания\n",
    "- ⬇️ Уменьшение: Может увеличить перерегулирование\n",
    "\n",
    "### 🔧 Методы настройки\n",
    "\n",
    "1. **Метод Циглера-Николса**: Классический подход для первоначальной настройки\n",
    "2. **Метод проб и ошибок**: Постепенная корректировка параметров\n",
    "3. **Автоматическая настройка**: Использование алгоритмов оптимизации\n",
    "\n",
    "### 📚 Дополнительные ресурсы\n",
    "\n",
    "- [Документация TensorAeroSpace](https://tensoraerospace.readthedocs.io/)\n",
    "- [Теория управления](https://en.wikipedia.org/wiki/PID_controller)\n",
    "\n",
    "### 🚀 Следующие шаги\n",
    "\n",
    "1. Попробуйте изменить коэффициенты ПИД и посмотрите на результат\n",
    "2. Экспериментируйте с различными заданными сигналами\n",
    "3. Изучите другие типы регуляторов в TensorAeroSpace\n",
    "\n",
    "---\n",
    "\n",
    "**🎉 Поздравляем!** Вы успешно освоили основы использования ПИД-регулятора в TensorAeroSpace!\n",
    "\n",
    "*Если у вас есть вопросы или предложения, создайте issue в [репозитории проекта](https://github.com/TensorAeroSpace/TensorAeroSpace/issues).*"
   ]
  }
 ],
 "metadata": {
  "kernelspec": {
   "display_name": "Python 3",
   "language": "python",
   "name": "python3"
  },
  "language_info": {
   "codemirror_mode": {
    "name": "ipython",
    "version": 3
   },
   "file_extension": ".py",
   "mimetype": "text/x-python",
   "name": "python",
   "nbconvert_exporter": "python",
   "pygments_lexer": "ipython3",
   "version": "3.11.0"
  }
 },
 "nbformat": 4,
 "nbformat_minor": 4
}
