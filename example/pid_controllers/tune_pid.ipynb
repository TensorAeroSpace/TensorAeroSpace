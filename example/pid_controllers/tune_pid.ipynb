{
 "cells": [
  {
   "cell_type": "code",
   "execution_count": 1,
   "metadata": {},
   "outputs": [],
   "source": [
    "from tensoraerospace.agent.pid import PIDController\n",
    "import numpy as np\n",
    "from ray import train, tune\n",
    "\n",
    "from tensoraerospace.envs.f16.linear_longitudial import LinearLongitudinalF16\n",
    "from tensoraerospace.utils import generate_time_period, convert_tp_to_sec_tp\n",
    "from tensoraerospace.signals.standart import unit_step\n",
    "\n",
    "import gymnasium as gym \n",
    "from tensoraerospace.benchmark.function import overshoot, settling_time, static_error"
   ]
  },
  {
   "cell_type": "code",
   "execution_count": 2,
   "metadata": {},
   "outputs": [],
   "source": [
    "dt = 0.01  # Дискретизация\n",
    "tp = generate_time_period(tn=20, dt=dt) # Временной периуд\n",
    "tps = convert_tp_to_sec_tp(tp, dt=dt)\n",
    "number_time_steps = len(tp) # Количество временных шагов\n",
    "reference_signals = np.reshape(unit_step(degree=5, tp=tp, time_step=10, output_rad=True), [1, -1]) # Заданный сигнал"
   ]
  },
  {
   "cell_type": "code",
   "execution_count": 5,
   "metadata": {},
   "outputs": [],
   "source": [
    "def env_optimization(ki, kp, kd):\n",
    "    \"\"\"\n",
    "    Оптимизация среды моделирования для настройки коэффициентов ПИД-регулятора.\n",
    "\n",
    "    Эта функция оптимизирует параметры ПИД-регулятора (ки, кп, кд), используя модельную среду.\n",
    "    Она оценивает качество настройки по критериям статической ошибки, перерегулирования и времени установления.\n",
    "\n",
    "    Args:\n",
    "        ki (float): Коэффициент интегральной составляющей.\n",
    "        kp (float): Коэффициент пропорциональной составляющей.\n",
    "        kd (float): Коэффициент дифференциальной составляющей.\n",
    "\n",
    "    Returns:\n",
    "        float: Суммарная оценка качества настройки регулятора.\n",
    "\n",
    "    \"\"\"\n",
    "\n",
    "    # Инициализация истории и настройка параметров времени\n",
    "    hist = []\n",
    "    dt = 0.01\n",
    "    tp = generate_time_period(tn=25, dt=dt)\n",
    "    tps = convert_tp_to_sec_tp(tp, dt=dt)\n",
    "    number_time_steps = len(tp)\n",
    "\n",
    "    # Создание заданного сигнала\n",
    "    reference_signals = np.reshape(unit_step(degree=5, tp=tp, time_step=10, output_rad=True), [1, -1])\n",
    "\n",
    "    # Настройка модельной среды\n",
    "    env = gym.make('LinearLongitudinalB747-v0',\n",
    "                number_time_steps=number_time_steps, \n",
    "                initial_state=[[0],[0],[0],[0]],\n",
    "                reference_signal=reference_signals,\n",
    "                state_space = [ \"u\", \"w\", \"q\", \"theta\"],\n",
    "                output_space = [\"u\", \"w\", \"q\", \"theta\"],\n",
    "                tracking_states=[\"theta\"], use_reward = False)\n",
    "    env.reset()\n",
    "\n",
    "    # Инициализация ПИД-регулятора\n",
    "    pid = PIDController(kp=kp, ki=ki, kd=kd, dt=dt)\n",
    "    xt = np.array([[np.deg2rad(0)], [0]])\n",
    "\n",
    "    # Цикл моделирования среды\n",
    "    for step in range(number_time_steps - 2):\n",
    "        setpoint = reference_signals[0, step]\n",
    "        hist.append(xt[0, 0])\n",
    "        ut = pid.update(setpoint, xt[0, 0])\n",
    "        xt, reward, terminated, truncated, info = env.step(np.array([ut.item()]))\n",
    "\n",
    "    # Условие для досрочного прекращения оптимизации\n",
    "    if 6 < max(hist):\n",
    "        return 10000\n",
    "\n",
    "    # Получение исходных сигналов для анализа\n",
    "    system_signal_orig = env.unwrapped.model.get_state('alpha', to_deg=True)[:2500]\n",
    "    control_signal_orig = np.rad2deg(reference_signals[0])[:2500]\n",
    "\n",
    "    # Расчет оценочной функции\n",
    "    return np.abs(static_error(control_signal_orig, system_signal_orig)) * 0.4 + \\\n",
    "           np.abs(overshoot(control_signal_orig, system_signal_orig)) ** 0.1 + \\\n",
    "           (settling_time(control_signal_orig, system_signal_orig) * dt) ** 0.9\n"
   ]
  },
  {
   "cell_type": "code",
   "execution_count": 6,
   "metadata": {},
   "outputs": [
    {
     "name": "stderr",
     "output_type": "stream",
     "text": [
      "/Users/asmazaev/Projects/TensorAeroSpace/.venv/lib/python3.11/site-packages/gymnasium/utils/passive_env_checker.py:246: UserWarning: \u001b[33mWARN: The reward returned by `step()` must be a float, int, np.integer or np.floating, actual type: <class 'numpy.ndarray'>\u001b[0m\n",
      "  logger.warn(\n"
     ]
    },
    {
     "data": {
      "text/plain": [
       "28.532090510385167"
      ]
     },
     "execution_count": 6,
     "metadata": {},
     "output_type": "execute_result"
    }
   ],
   "source": [
    "env_optimization(1, 1, 1)"
   ]
  },
  {
   "cell_type": "code",
   "execution_count": 7,
   "metadata": {},
   "outputs": [
    {
     "name": "stderr",
     "output_type": "stream",
     "text": [
      "/Users/asmazaev/Projects/TensorAeroSpace/.venv/lib/python3.11/site-packages/tqdm/auto.py:21: TqdmWarning: IProgress not found. Please update jupyter and ipywidgets. See https://ipywidgets.readthedocs.io/en/stable/user_install.html\n",
      "  from .autonotebook import tqdm as notebook_tqdm\n",
      "2023-11-20 00:23:15,715\tINFO util.py:159 -- Missing packages: ['ipywidgets']. Run `pip install -U ipywidgets`, then restart the notebook server for rich notebook output.\n",
      "2023-11-20 00:23:15,931\tINFO util.py:159 -- Missing packages: ['ipywidgets']. Run `pip install -U ipywidgets`, then restart the notebook server for rich notebook output.\n"
     ]
    }
   ],
   "source": [
    "def easy_objective(config):\n",
    "    \"\"\"\n",
    "    Функция цели для оптимизатора.\n",
    "\n",
    "    Принимает конфигурацию с параметрами ПИД-регулятора и возвращает оценку качества настройки.\n",
    "\n",
    "    Args:\n",
    "        config (dict): Словарь с параметрами ПИД-регулятора (ki, kp, kd).\n",
    "\n",
    "    \"\"\"\n",
    "\n",
    "    # Извлечение гиперпараметров из конфигурации\n",
    "    ki, kp, kd = config[\"ki\"], config[\"kp\"], config[\"kd\"]\n",
    "\n",
    "    # Вычисление оценки\n",
    "    intermediate_score = env_optimization(ki, kp, kd)\n",
    "\n",
    "    # Отчет о текущем значении потерь\n",
    "    train.report({\"mean_loss\": intermediate_score})"
   ]
  },
  {
   "cell_type": "code",
   "execution_count": 8,
   "metadata": {},
   "outputs": [],
   "source": [
    "# Настройка и запуск оптимизатора\n",
    "tuner = tune.Tuner(\n",
    "        easy_objective,\n",
    "        tune_config=tune.TuneConfig(\n",
    "            metric=\"mean_loss\",\n",
    "            mode=\"min\",\n",
    "            num_samples=40000,\n",
    "        ),\n",
    "        param_space={\n",
    "            \"ki\": tune.uniform(-10, 10),\n",
    "            \"kp\": tune.uniform(-10, 10),\n",
    "            \"kd\": tune.uniform(-10, 10),\n",
    "        },\n",
    "    )"
   ]
  },
  {
   "cell_type": "code",
   "execution_count": null,
   "metadata": {},
   "outputs": [],
   "source": [
    "# Выполнение оптимизации\n",
    "results = tuner.fit()"
   ]
  },
  {
   "cell_type": "code",
   "execution_count": 10,
   "metadata": {},
   "outputs": [
    {
     "data": {
      "text/plain": [
       "{'ki': -9.41904814284741, 'kp': -2.419889382764948, 'kd': -1.0979980771661264}"
      ]
     },
     "execution_count": 10,
     "metadata": {},
     "output_type": "execute_result"
    }
   ],
   "source": [
    "# Получение лучших результатов оптимизации\n",
    "results.get_best_result().config"
   ]
  },
  {
   "cell_type": "code",
   "execution_count": 11,
   "metadata": {},
   "outputs": [
    {
     "data": {
      "text/plain": [
       "26146     11.603939\n",
       "30309     11.608407\n",
       "30618     11.637506\n",
       "2638      11.641204\n",
       "18715     11.645229\n",
       "            ...    \n",
       "24800    163.910968\n",
       "20547    164.256281\n",
       "13299    164.271982\n",
       "26730    164.482116\n",
       "28376    164.892957\n",
       "Name: mean_loss, Length: 39997, dtype: float64"
      ]
     },
     "execution_count": 11,
     "metadata": {},
     "output_type": "execute_result"
    }
   ],
   "source": [
    "# Сортировка и получение значений средних потерь\n",
    "results.get_dataframe()['mean_loss'].sort_values()"
   ]
  }
 ],
 "metadata": {
  "kernelspec": {
   "display_name": ".venv",
   "language": "python",
   "name": "python3"
  },
  "language_info": {
   "codemirror_mode": {
    "name": "ipython",
    "version": 3
   },
   "file_extension": ".py",
   "mimetype": "text/x-python",
   "name": "python",
   "nbconvert_exporter": "python",
   "pygments_lexer": "ipython3",
   "version": "3.11.7"
  }
 },
 "nbformat": 4,
 "nbformat_minor": 2
}
