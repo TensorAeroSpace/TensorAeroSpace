{
 "cells": [
  {
   "cell_type": "code",
   "execution_count": 1,
   "id": "718b2a44",
   "metadata": {},
   "outputs": [],
   "source": [
    "from tensorairspace.agent.ihdp.Critic import Critic\n",
    "\n",
    "from tensorairspace.agent.ihdp.Incremental_model import IncrementalModel\n",
    "from tensorairspace.agent.ihdp.Actor import Actor\n",
    "from tensorairspace.agent.ihdp.Critic import Critic\n",
    "from tqdm import tqdm\n",
    "import numpy as np\n",
    "from tensorairspace.aircraftmodel.model.f16.linear.longitudinal import set_initial_state, initial_state, LongitudinalF16\n",
    "from tensorairspace.aircraftmodel.signals.sin import sinusoid"
   ]
  },
  {
   "cell_type": "code",
   "execution_count": 2,
   "id": "55fbeb6c",
   "metadata": {},
   "outputs": [],
   "source": [
    "def unit_step(x):\n",
    "    return np.deg2rad(5) * (x > 1000)"
   ]
  },
  {
   "cell_type": "code",
   "execution_count": 3,
   "id": "39557a7a",
   "metadata": {},
   "outputs": [],
   "source": [
    "t0 = 0  # Начальное время\n",
    "tn = 20  # Время моделирования\n",
    "dt = 0.01  # Дисретизация\n",
    "number_time_steps = int(((tn - t0) / dt) + 1)  # Количество шагов моделирования\n",
    "time = list(np.arange(0, number_time_steps * dt, dt)) # Массив с шагов dt\n",
    "t = np.linspace(-0, len(time), len(time))\n",
    "\n",
    "#reference_signals = np.reshape([np.deg2rad(1) for x in time], [1, -1])\n",
    "reference_signals =  np.reshape(unit_step(t),  [1, -1])\n",
    "#reference_signals =  np.reshape(np.deg2rad(sinusoid(time,5,5)),  [1, -1])"
   ]
  },
  {
   "cell_type": "code",
   "execution_count": 4,
   "id": "657777b0",
   "metadata": {},
   "outputs": [],
   "source": [
    "selected_states = ['alpha', 'q']\n",
    "selected_input = ['stab']\n",
    "input_magnitude_limits = 25\n",
    "input_rate_limits = 60\n",
    "tracking_states = ['alpha']"
   ]
  },
  {
   "cell_type": "code",
   "execution_count": 5,
   "id": "b34d8e2f",
   "metadata": {},
   "outputs": [],
   "source": [
    "indices_tracking_states = [selected_states.index(tracking_states[i]) for i in range(len(tracking_states))]"
   ]
  },
  {
   "cell_type": "code",
   "execution_count": 6,
   "id": "542394bd",
   "metadata": {},
   "outputs": [],
   "source": [
    "# actor settings\n",
    "\n",
    "actor_start_training = 5\n",
    "actor_layers = (25, 1)\n",
    "actor_activations = ('tanh', 'tanh')\n",
    "#actor_activations = ('tanh', 'sigmoid')\n",
    "actor_learning_rate = 2\n",
    "actor_learning_rate_cascaded = 1.2\n",
    "actor_learning_rate_exponent_limit = 10\n",
    "type_PE = 'combined'\n",
    "\n",
    "amplitude_3211 = 15\n",
    "pulse_length_3211 = 5/dt\n",
    "\n",
    "maximum_input = 25\n",
    "maximum_q_rate = 20\n",
    "\n",
    "\n",
    "cascaded_actor = False\n",
    "WB_limits = 30\n",
    "NN_initial = 130"
   ]
  },
  {
   "cell_type": "code",
   "execution_count": 7,
   "id": "7c7df5f9",
   "metadata": {},
   "outputs": [],
   "source": [
    "Q_weights = [8]\n",
    "tracking_states = ['alpha']\n",
    "critic_start_training = -1\n",
    "gamma = 0.99\n",
    "critic_learning_rate = 15\n",
    "critic_learning_rate_exponent_limit = 10\n",
    "critic_layers = (25, 1)\n",
    "critic_activations = (\"tanh\", \"linear\")"
   ]
  },
  {
   "cell_type": "code",
   "execution_count": 8,
   "id": "494641ae",
   "metadata": {},
   "outputs": [
    {
     "name": "stdout",
     "output_type": "stream",
     "text": [
      "[0]\n"
     ]
    },
    {
     "name": "stderr",
     "output_type": "stream",
     "text": [
      "2022-01-27 18:42:37.453551: I tensorflow/stream_executor/platform/default/dso_loader.cc:44] Successfully opened dynamic library libcuda.so.1\n",
      "2022-01-27 18:42:37.477995: I tensorflow/stream_executor/cuda/cuda_gpu_executor.cc:981] successful NUMA node read from SysFS had negative value (-1), but there must be at least one NUMA node, so returning NUMA node zero\n",
      "2022-01-27 18:42:37.478791: I tensorflow/core/common_runtime/gpu/gpu_device.cc:1561] Found device 0 with properties: \n",
      "pciBusID: 0000:01:00.0 name: GeForce RTX 3070 Laptop GPU computeCapability: 8.6\n",
      "coreClock: 1.56GHz coreCount: 40 deviceMemorySize: 7.79GiB deviceMemoryBandwidth: 417.29GiB/s\n",
      "2022-01-27 18:42:37.479855: I tensorflow/stream_executor/platform/default/dso_loader.cc:44] Successfully opened dynamic library libcudart.so.10.1\n",
      "2022-01-27 18:42:37.483127: I tensorflow/stream_executor/platform/default/dso_loader.cc:44] Successfully opened dynamic library libcublas.so.10\n",
      "2022-01-27 18:42:37.485012: I tensorflow/stream_executor/platform/default/dso_loader.cc:44] Successfully opened dynamic library libcufft.so.10\n",
      "2022-01-27 18:42:37.486983: I tensorflow/stream_executor/platform/default/dso_loader.cc:44] Successfully opened dynamic library libcurand.so.10\n",
      "2022-01-27 18:42:37.490140: I tensorflow/stream_executor/platform/default/dso_loader.cc:44] Successfully opened dynamic library libcusolver.so.10\n",
      "2022-01-27 18:42:37.491210: I tensorflow/stream_executor/platform/default/dso_loader.cc:44] Successfully opened dynamic library libcusparse.so.10\n",
      "2022-01-27 18:42:37.491393: W tensorflow/stream_executor/platform/default/dso_loader.cc:55] Could not load dynamic library 'libcudnn.so.7'; dlerror: libcudnn.so.7: cannot open shared object file: No such file or directory\n",
      "2022-01-27 18:42:37.491440: W tensorflow/core/common_runtime/gpu/gpu_device.cc:1598] Cannot dlopen some GPU libraries. Please make sure the missing libraries mentioned above are installed properly if you would like to use GPU. Follow the guide at https://www.tensorflow.org/install/gpu for how to download and setup the required libraries for your platform.\n",
      "Skipping registering GPU devices...\n",
      "2022-01-27 18:42:37.492321: I tensorflow/core/platform/cpu_feature_guard.cc:143] Your CPU supports instructions that this TensorFlow binary was not compiled to use: AVX2 FMA\n",
      "2022-01-27 18:42:37.543746: I tensorflow/core/platform/profile_utils/cpu_utils.cc:102] CPU Frequency: 3293770000 Hz\n",
      "2022-01-27 18:42:37.546553: I tensorflow/compiler/xla/service/service.cc:168] XLA service 0x7f750c000b60 initialized for platform Host (this does not guarantee that XLA will be used). Devices:\n",
      "2022-01-27 18:42:37.546626: I tensorflow/compiler/xla/service/service.cc:176]   StreamExecutor device (0): Host, Default Version\n",
      "2022-01-27 18:42:37.549130: I tensorflow/core/common_runtime/gpu/gpu_device.cc:1102] Device interconnect StreamExecutor with strength 1 edge matrix:\n",
      "2022-01-27 18:42:37.549172: I tensorflow/core/common_runtime/gpu/gpu_device.cc:1108]      \n"
     ]
    }
   ],
   "source": [
    "actor = Actor(selected_input, selected_states, tracking_states, indices_tracking_states,\n",
    "                 number_time_steps, actor_start_training, actor_layers, actor_activations,\n",
    "                 actor_learning_rate, actor_learning_rate_cascaded, actor_learning_rate_exponent_limit,\n",
    "                  type_PE, amplitude_3211, pulse_length_3211, WB_limits,\n",
    "                 maximum_input, maximum_q_rate, cascaded_actor, NN_initial)\n",
    "actor.build_actor_model()\n",
    "critic = Critic(Q_weights, selected_states, tracking_states, indices_tracking_states, number_time_steps,\n",
    "                 critic_start_training, gamma, critic_learning_rate, critic_learning_rate_exponent_limit, critic_layers,\n",
    "                 critic_activations, WB_limits, NN_initial)\n",
    "critic.build_critic_model()\n",
    "incremental_model = IncrementalModel(selected_states, selected_input, number_time_steps, dt,\n",
    "                 input_magnitude_limits, input_rate_limits)"
   ]
  },
  {
   "cell_type": "code",
   "execution_count": 9,
   "id": "ba1042f3",
   "metadata": {},
   "outputs": [],
   "source": [
    "alpha_states = []\n",
    "initial_state = set_initial_state({'alpha':np.deg2rad(3)})"
   ]
  },
  {
   "cell_type": "code",
   "execution_count": 10,
   "id": "7aa013b2",
   "metadata": {},
   "outputs": [],
   "source": [
    "model = LongitudinalF16(initial_state, number_time_steps, selected_state_output=['alpha', 'q'])"
   ]
  },
  {
   "cell_type": "code",
   "execution_count": 11,
   "id": "ff148789",
   "metadata": {},
   "outputs": [
    {
     "name": "stderr",
     "output_type": "stream",
     "text": [
      "  1%|          | 15/2000 [00:00<00:26, 73.90it/s]"
     ]
    },
    {
     "name": "stdout",
     "output_type": "stream",
     "text": [
      "[[7.5517354]]\n",
      "[[7.538331]]\n",
      "[[7.544944]]\n",
      "[[7.544513]]\n",
      "[[7.5520234]]\n",
      "[[7.5456786]]\n",
      "[[7.5436473]]\n",
      "[[7.5379124]]\n",
      "[[7.541381]]\n",
      "[[7.542652]]\n",
      "[[7.5535574]]\n",
      "[[7.5448403]]\n",
      "[[7.5446]]\n",
      "[[7.548562]]\n",
      "[[7.538966]]\n"
     ]
    },
    {
     "name": "stderr",
     "output_type": "stream",
     "text": [
      "\r",
      "  1%|          | 23/2000 [00:00<00:27, 71.58it/s]"
     ]
    },
    {
     "name": "stdout",
     "output_type": "stream",
     "text": [
      "[[7.538]]\n",
      "[[7.540826]]\n",
      "[[7.5352387]]\n",
      "[[7.538264]]\n",
      "[[7.545769]]\n",
      "[[7.5301986]]\n",
      "[[7.5330434]]\n",
      "[[7.5307717]]\n",
      "[[7.532669]]\n",
      "[[7.5297475]]\n",
      "[[7.5304766]]\n",
      "[[7.5195584]]\n",
      "[[7.5260444]]\n",
      "[[7.526529]]\n",
      "[[7.536628]]\n"
     ]
    },
    {
     "name": "stderr",
     "output_type": "stream",
     "text": [
      "  2%|▏         | 39/2000 [00:00<00:26, 73.20it/s]"
     ]
    },
    {
     "name": "stdout",
     "output_type": "stream",
     "text": [
      "[[7.527696]]\n",
      "[[7.524728]]\n",
      "[[7.5231013]]\n",
      "[[7.5201187]]\n",
      "[[7.519741]]\n",
      "[[7.5271955]]\n",
      "[[7.5189667]]\n",
      "[[7.5206666]]\n",
      "[[7.52721]]\n",
      "[[7.512751]]\n",
      "[[7.5120897]]\n",
      "[[7.5107336]]\n",
      "[[7.5076003]]\n",
      "[[7.508314]]\n",
      "[[7.512965]]\n"
     ]
    },
    {
     "name": "stderr",
     "output_type": "stream",
     "text": [
      "  3%|▎         | 55/2000 [00:00<00:30, 64.29it/s]"
     ]
    },
    {
     "name": "stdout",
     "output_type": "stream",
     "text": [
      "[[7.498215]]\n",
      "[[7.5035305]]\n",
      "[[7.501876]]\n",
      "[[7.5078387]]\n",
      "[[7.500912]]\n",
      "[[7.4981685]]\n",
      "[[7.490892]]\n",
      "[[7.4940557]]\n",
      "[[7.494477]]\n",
      "[[7.504652]]\n",
      "[[7.494982]]\n",
      "[[7.493515]]\n"
     ]
    },
    {
     "name": "stderr",
     "output_type": "stream",
     "text": [
      "  3%|▎         | 69/2000 [00:01<00:30, 63.74it/s]"
     ]
    },
    {
     "name": "stdout",
     "output_type": "stream",
     "text": [
      "[[7.4960647]]\n",
      "[[7.48637]]\n",
      "[[7.484603]]\n",
      "[[7.4872003]]\n",
      "[[7.480481]]\n",
      "[[7.482759]]\n",
      "[[7.4895983]]\n",
      "[[7.473244]]\n",
      "[[7.4748898]]\n",
      "[[7.47185]]\n",
      "[[7.472403]]\n",
      "[[7.4692616]]\n",
      "[[7.469778]]\n"
     ]
    },
    {
     "name": "stderr",
     "output_type": "stream",
     "text": [
      "\r",
      "  4%|▍         | 76/2000 [00:01<00:30, 63.27it/s]"
     ]
    },
    {
     "name": "stdout",
     "output_type": "stream",
     "text": [
      "[[7.4576645]]\n",
      "[[7.4635706]]\n",
      "[[7.463205]]\n",
      "[[7.472328]]\n",
      "[[7.4628897]]\n",
      "[[7.4591556]]\n",
      "[[7.4562407]]\n",
      "[[7.453478]]\n",
      "[[7.4526453]]\n",
      "[[7.46]]\n",
      "[[7.4509687]]\n",
      "[[7.451789]]\n",
      "[[7.4574475]]\n"
     ]
    },
    {
     "name": "stderr",
     "output_type": "stream",
     "text": [
      "  4%|▍         | 90/2000 [00:01<00:31, 59.99it/s]"
     ]
    },
    {
     "name": "stdout",
     "output_type": "stream",
     "text": [
      "[[7.442828]]\n",
      "[[7.4413624]]\n",
      "[[7.4398136]]\n",
      "[[7.435666]]\n",
      "[[7.4362025]]\n",
      "[[7.4407525]]\n",
      "[[7.4251857]]\n",
      "[[7.429661]]\n",
      "[[7.427278]]\n",
      "[[7.4321585]]\n",
      "[[7.425151]]\n",
      "[[7.4222083]]\n"
     ]
    },
    {
     "name": "stderr",
     "output_type": "stream",
     "text": [
      "  5%|▌         | 104/2000 [00:01<00:31, 59.54it/s]"
     ]
    },
    {
     "name": "stdout",
     "output_type": "stream",
     "text": [
      "[[7.413867]]\n",
      "[[7.417135]]\n",
      "[[7.4171324]]\n",
      "[[7.426967]]\n",
      "[[7.4168057]]\n",
      "[[7.414555]]\n",
      "[[7.4160943]]\n",
      "[[7.4067445]]\n",
      "[[7.404603]]\n",
      "[[7.4073606]]\n",
      "[[7.399872]]\n",
      "[[7.4016523]]\n",
      "[[7.407989]]\n"
     ]
    },
    {
     "name": "stderr",
     "output_type": "stream",
     "text": [
      "  6%|▌         | 118/2000 [00:01<00:30, 61.53it/s]"
     ]
    },
    {
     "name": "stdout",
     "output_type": "stream",
     "text": [
      "[[7.3909597]]\n",
      "[[7.391189]]\n",
      "[[7.3866234]]\n",
      "[[7.3838444]]\n",
      "[[7.375919]]\n",
      "[[7.36627]]\n",
      "[[7.3327065]]\n",
      "[[7.3015704]]\n",
      "[[7.2448754]]\n",
      "[[7.1801753]]\n",
      "[[7.0834374]]\n",
      "[[6.98026]]\n",
      "[[6.866286]]\n"
     ]
    },
    {
     "name": "stderr",
     "output_type": "stream",
     "text": [
      "  6%|▋         | 129/2000 [00:02<00:29, 63.94it/s]\n"
     ]
    },
    {
     "name": "stdout",
     "output_type": "stream",
     "text": [
      "[[6.743149]]\n",
      "[[6.6105146]]\n",
      "[[6.4756618]]\n",
      "[[6.313137]]\n",
      "[[6.1498632]]\n",
      "[[5.9811416]]\n",
      "[[5.7829666]]\n",
      "[[5.5875936]]\n",
      "[[5.3834176]]\n"
     ]
    },
    {
     "name": "stderr",
     "output_type": "stream",
     "text": [
      "\n",
      "KeyboardInterrupt\n",
      "\n"
     ]
    }
   ],
   "source": [
    "xt = np.array([[np.deg2rad(3)], [0]])\n",
    "for time_step in tqdm(range(number_time_steps-1)):\n",
    "    xt_ref = np.reshape(reference_signals[:, time_step], [-1, 1])\n",
    "    \n",
    "    ut = actor.run_actor_online(xt, xt_ref)\n",
    "\n",
    "\n",
    "\n",
    "    G = incremental_model.identify_incremental_model_LS(xt, ut)\n",
    "    xt1_est = incremental_model.evaluate_incremental_model()\n",
    "\n",
    "    xt_ref1 = np.reshape(reference_signals[:, time_step + 1], [-1, 1])\n",
    "    \n",
    "    _ = critic.run_train_critic_online_alpha_decay(xt, xt_ref)\n",
    "    Jt1, dJt1_dxt1 = critic.evaluate_critic(np.reshape(xt1_est, [-1, 1]), xt_ref1)       \n",
    "    actor.train_actor_online_alpha_decay(Jt1, dJt1_dxt1, G, incremental_model, critic, xt_ref1)\n",
    "    \n",
    "    incremental_model.update_incremental_model_attributes()\n",
    "    critic.update_critic_attributes()\n",
    "    actor.update_actor_attributes()\n",
    "\n",
    "    xt = model.run_step(ut)\n",
    "    xt_track = np.reshape(xt1[indices_tracking_states, :], [-1, 1])"
   ]
  },
  {
   "cell_type": "code",
   "execution_count": 13,
   "id": "3d7031e9",
   "metadata": {},
   "outputs": [
    {
     "name": "stdout",
     "output_type": "stream",
     "text": [
      "Статическая ошибка: 0.07608608278515301 град.\n",
      "Перелегулирование: 39.181531166976384 %\n"
     ]
    }
   ],
   "source": [
    "print(\"Статическая ошибка:\",np.rad2deg(reference_signals[0][-1]-model.get_state('alpha')[-1]), \"град.\")\n",
    "print(\"Перелегулирование:\",(np.max(model.get_state('alpha')[1000:15000]) - reference_signals[0][1001])*100/reference_signals[0][1001], \"%\")"
   ]
  },
  {
   "cell_type": "code",
   "execution_count": 14,
   "id": "5e62623f",
   "metadata": {},
   "outputs": [
    {
     "data": {
      "image/png": "[encoded data removed]",
      "text/plain": [
       "<Figure size 1080x288 with 1 Axes>"
      ]
     },
     "metadata": {
      "needs_background": "light"
     },
     "output_type": "display_data"
    }
   ],
   "source": [
    "plot = model.plot_transient_process('alpha', time , reference_signals[0], to_deg=True, figsize=(15,4)) #  График переходного процесса по углу атаки"
   ]
  },
  {
   "cell_type": "code",
   "execution_count": null,
   "id": "f34f2134",
   "metadata": {},
   "outputs": [],
   "source": []
  }
 ],
 "metadata": {
  "kernelspec": {
   "display_name": "Python 3 (ipykernel)",
   "language": "python",
   "name": "python3"
  },
  "language_info": {
   "codemirror_mode": {
    "name": "ipython",
    "version": 3
   },
   "file_extension": ".py",
   "mimetype": "text/x-python",
   "name": "python",
   "nbconvert_exporter": "python",
   "pygments_lexer": "ipython3",
   "version": "3.8.10"
  }
 },
 "nbformat": 4,
 "nbformat_minor": 5
}