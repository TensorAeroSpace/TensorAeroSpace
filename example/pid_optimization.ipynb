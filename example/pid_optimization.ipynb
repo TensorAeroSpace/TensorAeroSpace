{
 "cells": [
  {
   "cell_type": "code",
   "execution_count": 7,
   "metadata": {},
   "outputs": [
    {
     "name": "stderr",
     "output_type": "stream",
     "text": [
      "\u001b[33m(raylet)\u001b[0m [2024-08-15 03:17:41,010 E 79956 2131403] (raylet) file_system_monitor.cc:111: /tmp/ray/session_2024-08-15_03-16-19_045046_79511 is over 95% full, available space: 10041540608; capacity: 494384795648. Object creation will fail if spilling is required.\n",
      "\u001b[33m(raylet)\u001b[0m [2024-08-15 03:17:51,019 E 79956 2131403] (raylet) file_system_monitor.cc:111: /tmp/ray/session_2024-08-15_03-16-19_045046_79511 is over 95% full, available space: 10044186624; capacity: 494384795648. Object creation will fail if spilling is required.\n"
     ]
    }
   ],
   "source": [
    "from tensoraerospace.agent.pid import PID\n",
    "import numpy as np\n",
    "from ray import train, tune\n",
    "\n",
    "from tensoraerospace.envs.f16.linear_longitudial import LinearLongitudinalF16\n",
    "from tensoraerospace.utils import generate_time_period, convert_tp_to_sec_tp\n",
    "from tensoraerospace.signals.standart import unit_step\n",
    "\n",
    "import gymnasium as gym \n",
    "from tensoraerospace.benchmark.function import overshoot, settling_time, static_error"
   ]
  },
  {
   "cell_type": "code",
   "execution_count": 8,
   "metadata": {},
   "outputs": [],
   "source": [
    "dt = 0.01  # Дискретизация\n",
    "tp = generate_time_period(tn=20, dt=dt) # Временной периуд\n",
    "tps = convert_tp_to_sec_tp(tp, dt=dt)\n",
    "number_time_steps = len(tp) # Количество временных шагов\n",
    "reference_signals = np.reshape(unit_step(degree=5, tp=tp, time_step=10, output_rad=True), [1, -1]) # Заданный сигнал"
   ]
  },
  {
   "cell_type": "code",
   "execution_count": 19,
   "metadata": {},
   "outputs": [],
   "source": [
    "def env_optimization(ki, kp, kd):\n",
    "    \"\"\"\n",
    "    Оптимизация среды моделирования для настройки коэффициентов ПИД-регулятора.\n",
    "\n",
    "    Эта функция оптимизирует параметры ПИД-регулятора (ки, кп, кд), используя модельную среду.\n",
    "    Она оценивает качество настройки по критериям статической ошибки, перерегулирования и времени установления.\n",
    "\n",
    "    Args:\n",
    "        ki (float): Коэффициент интегральной составляющей.\n",
    "        kp (float): Коэффициент пропорциональной составляющей.\n",
    "        kd (float): Коэффициент дифференциальной составляющей.\n",
    "\n",
    "    Returns:\n",
    "        float: Суммарная оценка качества настройки регулятора.\n",
    "\n",
    "    \"\"\"\n",
    "\n",
    "    # Инициализация истории и настройка параметров времени\n",
    "    hist = []\n",
    "    dt = 0.01\n",
    "    tp = generate_time_period(tn=25, dt=dt)\n",
    "    tps = convert_tp_to_sec_tp(tp, dt=dt)\n",
    "    number_time_steps = len(tp)\n",
    "\n",
    "    # Создание заданного сигнала\n",
    "    reference_signals = np.reshape(unit_step(degree=5, tp=tp, time_step=10, output_rad=True), [1, -1])\n",
    "\n",
    "    # Настройка модельной среды\n",
    "    env = gym.make('LinearLongitudinalF16-v0',\n",
    "               number_time_steps=number_time_steps, \n",
    "               use_reward = False,\n",
    "               initial_state=[[0],[0], [0]],\n",
    "               reference_signal=reference_signals,\n",
    "               state_space = [ \"theta\", \"alpha\", \"q\",],\n",
    "                output_space = [\"theta\", \"alpha\", \"q\", ],\n",
    "                tracking_states=[\"alpha\"])\n",
    "    env.reset()\n",
    "\n",
    "    # Инициализация ПИД-регулятора\n",
    "    pid = PID(env=env, kp=kp, ki=ki, kd=kd, dt=dt)\n",
    "    xt, info = env.reset()\n",
    "\n",
    "    # Цикл моделирования среды\n",
    "    for step in range(number_time_steps - 2):\n",
    "        setpoint = reference_signals[0, step]\n",
    "        hist.append(xt[1])\n",
    "        ut = pid.select_action(setpoint, xt[1])\n",
    "        xt, reward, terminated, truncated, info = env.step(np.array([ut.item()]))\n",
    "\n",
    "    # Условие для досрочного прекращения оптимизации\n",
    "    if 6 < max(hist):\n",
    "        return 10000\n",
    "\n",
    "    # Получение исходных сигналов для анализа\n",
    "    system_signal_orig = env.unwrapped.model.get_state('alpha', to_deg=True)[:2500]\n",
    "    control_signal_orig = np.rad2deg(reference_signals[0])[:2500]\n",
    "\n",
    "    # Расчет оценочной функции\n",
    "    return np.abs(static_error(control_signal_orig, system_signal_orig)) * 0.3 + \\\n",
    "           np.abs(overshoot(control_signal_orig, system_signal_orig)) ** 0.6 \n"
   ]
  },
  {
   "cell_type": "code",
   "execution_count": 20,
   "metadata": {},
   "outputs": [
    {
     "data": {
      "text/plain": [
       "42.16761640895795"
      ]
     },
     "execution_count": 20,
     "metadata": {},
     "output_type": "execute_result"
    }
   ],
   "source": [
    "env_optimization(1, 1, 1)"
   ]
  },
  {
   "cell_type": "code",
   "execution_count": 21,
   "metadata": {},
   "outputs": [],
   "source": [
    "def easy_objective(config):\n",
    "    \"\"\"\n",
    "    Функция цели для оптимизатора.\n",
    "\n",
    "    Принимает конфигурацию с параметрами ПИД-регулятора и возвращает оценку качества настройки.\n",
    "\n",
    "    Args:\n",
    "        config (dict): Словарь с параметрами ПИД-регулятора (ki, kp, kd).\n",
    "\n",
    "    \"\"\"\n",
    "\n",
    "    # Извлечение гиперпараметров из конфигурации\n",
    "    ki, kp, kd = config[\"ki\"], config[\"kp\"], config[\"kd\"]\n",
    "\n",
    "    # Вычисление оценки\n",
    "    intermediate_score = env_optimization(ki, kp, kd)\n",
    "\n",
    "    # Отчет о текущем значении потерь\n",
    "\n",
    "    train.report({\"mean_loss\": intermediate_score})"
   ]
  },
  {
   "cell_type": "code",
   "execution_count": 22,
   "metadata": {},
   "outputs": [],
   "source": [
    "from ray.train import RunConfig, ScalingConfig\n",
    "\n",
    "# Настройка и запуск оптимизатора\n",
    "tuner = tune.Tuner(\n",
    "        easy_objective,\n",
    "        tune_config=tune.TuneConfig(\n",
    "            metric=\"mean_loss\",\n",
    "            mode=\"min\",\n",
    "            num_samples=5000,\n",
    "        ),\n",
    "        run_config = RunConfig(\n",
    "            verbose=False\n",
    "        ),\n",
    "        param_space={\n",
    "            \"ki\": tune.uniform(-25, 25),\n",
    "            \"kp\": tune.uniform(-25, 25),\n",
    "            \"kd\": tune.uniform(-25, 25),\n",
    "        },\n",
    "    )"
   ]
  },
  {
   "cell_type": "code",
   "execution_count": null,
   "metadata": {},
   "outputs": [],
   "source": []
  },
  {
   "cell_type": "code",
   "execution_count": 23,
   "metadata": {},
   "outputs": [
    {
     "data": {
      "text/html": [],
      "text/plain": [
       "<IPython.core.display.HTML object>"
      ]
     },
     "metadata": {},
     "output_type": "display_data"
    },
    {
     "name": "stderr",
     "output_type": "stream",
     "text": [
      "2024-08-15 03:20:52,703\tERROR worker.py:406 -- Unhandled error (suppress with 'RAY_IGNORE_UNHANDLED_ERRORS=1'): The worker died unexpectedly while executing this task. Check python-core-worker-*.log files for more information.\n",
      "2024-08-15 03:20:52,992\tERROR worker.py:406 -- Unhandled error (suppress with 'RAY_IGNORE_UNHANDLED_ERRORS=1'): The worker died unexpectedly while executing this task. Check python-core-worker-*.log files for more information.\n",
      "2024-08-15 03:21:14,269\tERROR worker.py:406 -- Unhandled error (suppress with 'RAY_IGNORE_UNHANDLED_ERRORS=1'): The worker died unexpectedly while executing this task. Check python-core-worker-*.log files for more information.\n",
      "2024-08-15 03:21:14,381\tERROR worker.py:406 -- Unhandled error (suppress with 'RAY_IGNORE_UNHANDLED_ERRORS=1'): The worker died unexpectedly while executing this task. Check python-core-worker-*.log files for more information.\n",
      "2024-08-15 03:21:34,074\tERROR worker.py:406 -- Unhandled error (suppress with 'RAY_IGNORE_UNHANDLED_ERRORS=1'): The worker died unexpectedly while executing this task. Check python-core-worker-*.log files for more information.\n",
      "2024-08-15 03:21:53,903\tERROR worker.py:406 -- Unhandled error (suppress with 'RAY_IGNORE_UNHANDLED_ERRORS=1'): The worker died unexpectedly while executing this task. Check python-core-worker-*.log files for more information.\n",
      "2024-08-15 03:22:23,191\tERROR worker.py:406 -- Unhandled error (suppress with 'RAY_IGNORE_UNHANDLED_ERRORS=1'): The worker died unexpectedly while executing this task. Check python-core-worker-*.log files for more information.\n",
      "2024-08-15 03:22:24,231\tERROR worker.py:406 -- Unhandled error (suppress with 'RAY_IGNORE_UNHANDLED_ERRORS=1'): The worker died unexpectedly while executing this task. Check python-core-worker-*.log files for more information.\n"
     ]
    }
   ],
   "source": [
    "# Выполнение оптимизации\n",
    "results = tuner.fit()"
   ]
  },
  {
   "cell_type": "code",
   "execution_count": 26,
   "metadata": {},
   "outputs": [
    {
     "data": {
      "text/plain": [
       "{'ki': -7.047057683739116, 'kp': 24.900324972774946, 'kd': 9.50889143291738}"
      ]
     },
     "execution_count": 26,
     "metadata": {},
     "output_type": "execute_result"
    }
   ],
   "source": [
    "# Получение лучших результатов оптимизации\n",
    "results.get_best_result().config"
   ]
  },
  {
   "cell_type": "code",
   "execution_count": 27,
   "metadata": {},
   "outputs": [
    {
     "data": {
      "text/plain": [
       "3666     0.317434\n",
       "3947     0.380368\n",
       "1176     0.398261\n",
       "1317     0.436818\n",
       "1331     0.484023\n",
       "          ...    \n",
       "3422    42.235931\n",
       "3421    42.235931\n",
       "1551    42.235931\n",
       "4380    42.235931\n",
       "3751    42.235931\n",
       "Name: mean_loss, Length: 5000, dtype: float64"
      ]
     },
     "execution_count": 27,
     "metadata": {},
     "output_type": "execute_result"
    }
   ],
   "source": [
    "# Сортировка и получение значений средних потерь\n",
    "results.get_dataframe()['mean_loss'].sort_values()"
   ]
  },
  {
   "cell_type": "code",
   "execution_count": null,
   "metadata": {},
   "outputs": [],
   "source": []
  },
  {
   "cell_type": "code",
   "execution_count": null,
   "metadata": {},
   "outputs": [],
   "source": []
  },
  {
   "cell_type": "code",
   "execution_count": null,
   "metadata": {},
   "outputs": [],
   "source": []
  }
 ],
 "metadata": {
  "kernelspec": {
   "display_name": ".venv",
   "language": "python",
   "name": "python3"
  },
  "language_info": {
   "codemirror_mode": {
    "name": "ipython",
    "version": 3
   },
   "file_extension": ".py",
   "mimetype": "text/x-python",
   "name": "python",
   "nbconvert_exporter": "python",
   "pygments_lexer": "ipython3",
   "version": "3.11.7"
  }
 },
 "nbformat": 4,
 "nbformat_minor": 2
}
