{
 "cells": [
  {
   "cell_type": "code",
   "execution_count": 1,
   "id": "372cb5df",
   "metadata": {},
   "outputs": [],
   "source": [
    "import gymnasium as gym \n",
    "from tensoraerospace.agent import SAC "
   ]
  },
  {
   "cell_type": "code",
   "execution_count": 2,
   "id": "9d294d9f",
   "metadata": {},
   "outputs": [
    {
     "data": {
      "text/plain": [
       "(array([-0.7727582 , -0.63470054, -0.22259322], dtype=float32), {})"
      ]
     },
     "execution_count": 2,
     "metadata": {},
     "output_type": "execute_result"
    }
   ],
   "source": [
    "env = gym.make('Pendulum-v1')\n",
    "env.reset()"
   ]
  },
  {
   "cell_type": "code",
   "execution_count": 3,
   "id": "e2d126c7",
   "metadata": {},
   "outputs": [],
   "source": [
    "agent = SAC(env, memory_capacity=1000000, hidden_size=32, verbose_histogram=False, device=\"cpu\")"
   ]
  },
  {
   "cell_type": "code",
   "execution_count": 6,
   "id": "f155e7f4",
   "metadata": {},
   "outputs": [
    {
     "name": "stderr",
     "output_type": "stream",
     "text": [
      "100%|██████████| 1000/1000 [06:51<00:00,  2.43it/s]\n"
     ]
    }
   ],
   "source": [
    "agent.train(num_episodes=1000)"
   ]
  },
  {
   "cell_type": "code",
   "execution_count": 9,
   "id": "2ad46bcd",
   "metadata": {},
   "outputs": [
    {
     "name": "stdout",
     "output_type": "stream",
     "text": [
      "-225.703344198225\n"
     ]
    }
   ],
   "source": [
    "# Evaluation\n",
    "state, info = env.reset()\n",
    "done = False\n",
    "total_rew = 0\n",
    "while not done:\n",
    "    action = agent.select_action(state)\n",
    "    state, reward, terminated, truncated, info = env.step(action)\n",
    "    done = terminated or truncated\n",
    "    total_rew+=reward\n",
    "print(total_rew)"
   ]
  },
  {
   "cell_type": "code",
   "execution_count": 10,
   "id": "c94ca6b2",
   "metadata": {},
   "outputs": [
    {
     "name": "stdout",
     "output_type": "stream",
     "text": [
      "{'gamma': 0.99, 'tau': 0.005, 'alpha': 0.2, 'verbose_histogram': False, 'memory_capacity': 1000000, 'policy_type': 'Gaussian', 'updates_per_step': 1, 'target_update_interval': 1, 'batch_size': 32, 'automatic_entropy_tuning': False, 'device': 'cpu', 'lr': 0.0003}\n"
     ]
    },
    {
     "name": "stderr",
     "output_type": "stream",
     "text": [
      "/Users/asmazaev/Projects/TensorAeroSpace/.venv/lib/python3.11/site-packages/gymnasium/core.py:311: UserWarning: \u001b[33mWARN: env.ref_signal to get variables from other wrappers is deprecated and will be removed in v1.0, to get this variable you can do `env.unwrapped.ref_signal` for environment variables or `env.get_wrapper_attr('ref_signal')` that will search the reminding wrappers.\u001b[0m\n",
      "  logger.warn(\n"
     ]
    }
   ],
   "source": [
    "agent.save()"
   ]
  },
  {
   "cell_type": "code",
   "execution_count": 11,
   "id": "7b23a78a",
   "metadata": {},
   "outputs": [],
   "source": [
    "del agent"
   ]
  },
  {
   "cell_type": "code",
   "execution_count": 12,
   "id": "c5535d2f",
   "metadata": {},
   "outputs": [],
   "source": [
    "agent = SAC.from_pretrained(\"./May02_16-05-38_SAC\")"
   ]
  },
  {
   "cell_type": "code",
   "execution_count": 13,
   "id": "22c8879c",
   "metadata": {},
   "outputs": [
    {
     "name": "stdout",
     "output_type": "stream",
     "text": [
      "-123.38432087840711\n"
     ]
    }
   ],
   "source": [
    "# Evaluation\n",
    "state, info = env.reset()\n",
    "done = False\n",
    "total_rew = 0\n",
    "while not done:\n",
    "    action = agent.select_action(state)\n",
    "    state, reward, terminated, truncated, info = env.step(action)\n",
    "    done = terminated or truncated\n",
    "    total_rew+=reward\n",
    "print(total_rew)"
   ]
  },
  {
   "cell_type": "code",
   "execution_count": null,
   "id": "7e185643",
   "metadata": {},
   "outputs": [],
   "source": [
    "\n",
    "from gymnasium.wrappers import RecordEpisodeStatistics, RecordVideo\n",
    "\n",
    "num_eval_episodes = 4\n",
    "env = gym.make('Pendulum-v1', render_mode=\"rgb_array\")\n",
    "env = RecordVideo(env, video_folder=\"./pendulum-agent\", name_prefix=\"eval\", episode_trigger=lambda x: True)\n",
    "env = RecordEpisodeStatistics(env)\n",
    "\n",
    "for episode_num in range(num_eval_episodes):\n",
    "    obs, info = env.reset()\n",
    "\n",
    "    episode_over = False\n",
    "    while not episode_over:\n",
    "        \n",
    "        action = agent.select_action(state)\n",
    "        state, reward, terminated, truncated, info = env.step(action)\n",
    "\n",
    "        episode_over = terminated or truncated\n",
    "env.close()\n",
    "\n",
    "print(f'Episode total rewards: {env.return_queue}')\n",
    "print(f'Episode lengths: {env.length_queue}')"
   ]
  }
 ],
 "metadata": {
  "kernelspec": {
   "display_name": "Python 3 (ipykernel)",
   "language": "python",
   "name": "python3"
  },
  "language_info": {
   "codemirror_mode": {
    "name": "ipython",
    "version": 3
   },
   "file_extension": ".py",
   "mimetype": "text/x-python",
   "name": "python",
   "nbconvert_exporter": "python",
   "pygments_lexer": "ipython3",
   "version": "3.11.7"
  }
 },
 "nbformat": 4,
 "nbformat_minor": 5
}
