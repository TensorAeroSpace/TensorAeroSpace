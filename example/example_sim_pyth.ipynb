{
 "cells": [
  {
   "cell_type": "code",
   "execution_count": null,
   "id": "11152707",
   "metadata": {},
   "outputs": [],
   "source": [
    "import os\n",
    "import ctypes\n",
    "from tensorairspace.aircraftmodel.model.rtwtypes import *"
   ]
  },
  {
   "cell_type": "code",
   "execution_count": null,
   "id": "83413634",
   "metadata": {},
   "outputs": [],
   "source": [
    "dll_path = os.path.abspath(\"../tensorairspace/aircraftmodel/model/b747/b747.dll\")\n",
    "dll = ctypes.windll.LoadLibrary(dll_path)\n",
    "\n",
    "model_initialize = dll.aircraft_sim_initialize\n",
    "model_step = dll.aircraft_sim_step\n",
    "model_terminate = dll.aircraft_sim_terminate"
   ]
  },
  {
   "cell_type": "code",
   "execution_count": null,
   "id": "7ffa967e",
   "metadata": {},
   "outputs": [],
   "source": [
    "# Model Parameters\n",
    "ref_signal = real32_T.in_dll(dll, \"ref_signal\")"
   ]
  },
  {
   "cell_type": "code",
   "execution_count": null,
   "id": "f5a57cde",
   "metadata": {},
   "outputs": [],
   "source": [
    "# Model output\n",
    "Y = ExtY_T.in_dll(dll, \"aircraft_sim_Y\")"
   ]
  },
  {
   "cell_type": "code",
   "execution_count": null,
   "id": "0612bfec",
   "metadata": {},
   "outputs": [],
   "source": [
    "model_initialize()\n",
    "ans = dict()\n",
    "ref_signal = -0.05\n",
    "\n",
    "time = []\n",
    "u = []\n",
    "w = []\n",
    "q = []\n",
    "theta = []\n",
    "\n",
    "for step in range(int(21)):\n",
    "    model_step()\n",
    "    ref_signal = 0\n",
    "   \n",
    "    time.append(float(Y.time))\n",
    "    u.append(float(Y.u))\n",
    "    w.append(float(Y.w))\n",
    "    q.append(float(Y.q))\n",
    "    theta.append(float(Y.theta))\n",
    "\n",
    "ans['time'] = time\n",
    "ans['u'] = u\n",
    "ans['w'] = w\n",
    "ans['q'] = q\n",
    "ans['theta'] = theta"
   ]
  },
  {
   "cell_type": "code",
   "execution_count": null,
   "id": "245a93b3",
   "metadata": {},
   "outputs": [],
   "source": []
  }
 ],
 "metadata": {
  "kernelspec": {
   "display_name": "Python 3 (ipykernel)",
   "language": "python",
   "name": "python3"
  },
  "language_info": {
   "codemirror_mode": {
    "name": "ipython",
    "version": 3
   },
   "file_extension": ".py",
   "mimetype": "text/x-python",
   "name": "python",
   "nbconvert_exporter": "python",
   "pygments_lexer": "ipython3",
   "version": "3.10.2"
  }
 },
 "nbformat": 4,
 "nbformat_minor": 5
}
