{
 "cells": [
  {
   "cell_type": "code",
   "execution_count": 2,
   "metadata": {},
   "outputs": [
    {
     "name": "stderr",
     "output_type": "stream",
     "text": [
      "2024-07-30 08:20:06.617740: E external/local_xla/xla/stream_executor/cuda/cuda_dnn.cc:9261] Unable to register cuDNN factory: Attempting to register factory for plugin cuDNN when one has already been registered\n",
      "2024-07-30 08:20:06.617773: E external/local_xla/xla/stream_executor/cuda/cuda_fft.cc:607] Unable to register cuFFT factory: Attempting to register factory for plugin cuFFT when one has already been registered\n",
      "2024-07-30 08:20:06.618389: E external/local_xla/xla/stream_executor/cuda/cuda_blas.cc:1515] Unable to register cuBLAS factory: Attempting to register factory for plugin cuBLAS when one has already been registered\n",
      "2024-07-30 08:20:06.622701: I tensorflow/core/platform/cpu_feature_guard.cc:182] This TensorFlow binary is optimized to use available CPU instructions in performance-critical operations.\n",
      "To enable the following instructions: AVX2 FMA, in other operations, rebuild TensorFlow with the appropriate compiler flags.\n",
      "2024-07-30 08:20:07.254391: W tensorflow/compiler/tf2tensorrt/utils/py_utils.cc:38] TF-TRT Warning: Could not find TensorRT\n",
      "/root/.cache/pypoetry/virtualenvs/tensoraerospace-CmFnmCpV-py3.10/lib/python3.10/site-packages/torch/cuda/__init__.py:141: UserWarning: CUDA initialization: Unexpected error from cudaGetDeviceCount(). Did you run some cuda functions before calling NumCudaDevices() that might have already set an error? Error 804: forward compatibility was attempted on non supported HW (Triggered internally at ../c10/cuda/CUDAFunctions.cpp:108.)\n",
      "  return torch._C._cuda_getDeviceCount() > 0\n"
     ]
    },
    {
     "name": "stdout",
     "output_type": "stream",
     "text": [
      "-3500.8337473891365\n",
      "-3589.4876147512236\n",
      "-2197.0131623913207\n",
      "-1858.0237090207388\n",
      "-1272.014623989684\n",
      "-1212.7939297872063\n",
      "-1197.3503752233062\n",
      "-753.8523564655063\n",
      "-1057.0673585256325\n",
      "-774.4367515912473\n",
      "-628.3070771533033\n",
      "-509.580943392905\n",
      "-506.72415759831176\n",
      "-1018.2413158148908\n",
      "-890.5926284650565\n",
      "-744.808548877132\n",
      "-1131.9461972053632\n",
      "-1019.1800693146189\n",
      "-803.4071011635544\n",
      "-1140.3282973414496\n",
      "-875.98839626264\n",
      "-890.5032597943205\n",
      "-1014.317796226746\n",
      "-1014.6442220416678\n"
     ]
    }
   ],
   "source": [
    "import gymnasium as gym\n",
    "import numpy as np\n",
    "\n",
    "class NormalizedActions(gym.ActionWrapper):\n",
    "\n",
    "    def action(self, action):\n",
    "        low_bound   = self.action_space.low\n",
    "        upper_bound = self.action_space.high\n",
    "\n",
    "        action = low_bound + (action + 1.0) * 0.5 * (upper_bound - low_bound)\n",
    "        action = np.clip(action, low_bound, upper_bound)\n",
    "\n",
    "        return action\n",
    "\n",
    "    def reverse_action(self, action):\n",
    "        low_bound   = self.action_space.low\n",
    "        upper_bound = self.action_space.high\n",
    "\n",
    "        action = 2 * (action - low_bound) / (upper_bound - low_bound) - 1\n",
    "        action = np.clip(action, low_bound, upper_bound)\n",
    "\n",
    "        return actions\n",
    "\n",
    "from tensoraerospace.agent.ddpg.model import DDPG\n",
    "\n",
    "env = NormalizedActions(gym.make(\"Pendulum-v1\"))\n",
    "\n",
    "agent = DDPG(env, 1e-3, 1e-4, 1000000)\n",
    "\n",
    "agent.learn(12000, 500, 128)"
   ]
  }
 ],
 "metadata": {
  "kernelspec": {
   "display_name": "tensoraerospace-CmFnmCpV-py3.10",
   "language": "python",
   "name": "python3"
  },
  "language_info": {
   "codemirror_mode": {
    "name": "ipython",
    "version": 3
   },
   "file_extension": ".py",
   "mimetype": "text/x-python",
   "name": "python",
   "nbconvert_exporter": "python",
   "pygments_lexer": "ipython3",
   "version": "3.10.12"
  }
 },
 "nbformat": 4,
 "nbformat_minor": 2
}
