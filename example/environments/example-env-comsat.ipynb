{
 "cells": [
  {
   "cell_type": "markdown",
   "id": "title-cell",
   "metadata": {},
   "source": [
    "# 🛰️ Пример работы с окружением ComSat\n",
    "\n",
    "Этот notebook демонстрирует использование окружения **ComSat** (спутник связи) из библиотеки TensorAeroSpace.\n",
    "\n",
    "## 📋 Содержание\n",
    "1. Импорт необходимых библиотек\n",
    "2. Настройка параметров симуляции\n",
    "3. Создание и инициализация окружения\n",
    "4. Выполнение шага симуляции\n",
    "5. Анализ результатов\n",
    "\n",
    "---"
   ]
  },
  {
   "cell_type": "markdown",
   "id": "imports-header",
   "metadata": {},
   "source": [
    "## 📚 Импорт библиотек\n",
    "\n",
    "Загружаем все необходимые модули для работы с окружением спутника связи:"
   ]
  },
  {
   "cell_type": "code",
   "execution_count": 5,
   "id": "7bc885d6",
   "metadata": {},
   "outputs": [],
   "source": [
    "# Основные библиотеки для работы с окружениями и численными вычислениями\n",
    "import gymnasium as gym \n",
    "import numpy as np\n",
    "from tqdm import tqdm\n",
    "\n",
    "# Специализированные модули TensorAeroSpace\n",
    "from tensoraerospace.envs import ComSatEnv\n",
    "from tensoraerospace.utils import generate_time_period, convert_tp_to_sec_tp\n",
    "from tensoraerospace.signals.standart import unit_step"
   ]
  },
  {
   "cell_type": "markdown",
   "id": "parameters-header",
   "metadata": {},
   "source": [
    "## ⚙️ Настройка параметров симуляции\n",
    "\n",
    "Определяем основные параметры для моделирования динамики спутника:"
   ]
  },
  {
   "cell_type": "code",
   "execution_count": 6,
   "id": "5b5a8f3e",
   "metadata": {
    "pycharm": {
     "name": "#%%\n"
    }
   },
   "outputs": [],
   "source": [
    "# Параметры дискретизации и времени\n",
    "dt = 0.01  # Шаг дискретизации (секунды)\n",
    "tp = generate_time_period(tn=20, dt=dt)  # Временной период (20 секунд)\n",
    "tps = convert_tp_to_sec_tp(tp, dt=dt)    # Преобразование временного периода\n",
    "number_time_steps = len(tp)              # Общее количество временных шагов\n",
    "\n",
    "# Формирование опорного сигнала (единичный скачок)\n",
    "reference_signals = np.reshape(\n",
    "    unit_step(degree=5, tp=tp, time_step=10, output_rad=True), \n",
    "    [1, -1]\n",
    ")  # Заданный сигнал управления"
   ]
  },
  {
   "cell_type": "markdown",
   "id": "environment-header",
   "metadata": {},
   "source": [
    "## 🚀 Создание окружения ComSat\n",
    "\n",
    "Инициализируем окружение спутника связи с заданными параметрами:"
   ]
  },
  {
   "cell_type": "code",
   "execution_count": 7,
   "id": "2668e4d6",
   "metadata": {},
   "outputs": [
    {
     "data": {
      "text/plain": [
       "(array([0., 0., 0.], dtype=float32), {})"
      ]
     },
     "execution_count": 7,
     "metadata": {},
     "output_type": "execute_result"
    }
   ],
   "source": [
    "# Создание окружения спутника связи\n",
    "env = gym.make('ComSat-v0',\n",
    "               number_time_steps=number_time_steps,  # Количество временных шагов\n",
    "               initial_state=[[0],[0],[0]],          # Начальное состояние системы\n",
    "               output_space=None,                    # Пространство выходов (автоматическое)\n",
    "               reference_signal=reference_signals)   # Опорный сигнал\n",
    "\n",
    "# Сброс окружения к начальному состоянию\n",
    "env.reset()"
   ]
  },
  {
   "cell_type": "markdown",
   "id": "step-header",
   "metadata": {},
   "source": [
    "## 🎯 Выполнение шага симуляции\n",
    "\n",
    "Применяем управляющее воздействие и получаем отклик системы:"
   ]
  },
  {
   "cell_type": "code",
   "execution_count": 8,
   "id": "6f7ebd29",
   "metadata": {
    "pycharm": {
     "name": "#%%\n"
    }
   },
   "outputs": [],
   "source": [
    "# Выполнение одного шага симуляции с управляющим сигналом\n",
    "observation, reward, terminated, truncated, info = env.step(np.array([[1]]))"
   ]
  },
  {
   "cell_type": "markdown",
   "id": "analysis-header",
   "metadata": {},
   "source": [
    "## 📊 Анализ результатов\n",
    "\n",
    "Исследуем полученные данные о состоянии системы:"
   ]
  },
  {
   "cell_type": "code",
   "execution_count": 12,
   "id": "76c9c14d",
   "metadata": {
    "pycharm": {
     "name": "#%%\n"
    }
   },
   "outputs": [
    {
     "data": {
      "text/plain": [
       "array([[1., 0., 0., ..., 0., 0., 0.]])"
      ]
     },
     "execution_count": 12,
     "metadata": {},
     "output_type": "execute_result"
    }
   ],
   "source": [
    "# Просмотр истории управляющих воздействий\n",
    "env.unwrapped.model.store_input"
   ]
  },
  {
   "cell_type": "code",
   "execution_count": 13,
   "id": "dc9b6906",
   "metadata": {},
   "outputs": [
    {
     "data": {
      "text/plain": [
       "0.0"
      ]
     },
     "execution_count": 13,
     "metadata": {},
     "output_type": "execute_result"
    }
   ],
   "source": [
    "# Значение опорного сигнала на втором временном шаге\n",
    "env.unwrapped.reference_signal[0][1]"
   ]
  },
  {
   "cell_type": "code",
   "execution_count": 14,
   "id": "c404c317",
   "metadata": {},
   "outputs": [
    {
     "data": {
      "text/plain": [
       "array([5.86126179e-06])"
      ]
     },
     "execution_count": 14,
     "metadata": {},
     "output_type": "execute_result"
    }
   ],
   "source": [
    "# Полученная награда за выполненное действие\n",
    "reward"
   ]
  },
  {
   "cell_type": "markdown",
   "id": "conclusion",
   "metadata": {},
   "source": [
    "## 🎉 Заключение\n",
    "\n",
    "В данном примере мы успешно:\n",
    "\n",
    "- ✅ Настроили параметры симуляции спутника связи\n",
    "- ✅ Создали окружение ComSat с заданными характеристиками\n",
    "- ✅ Выполнили шаг симуляции с управляющим воздействием\n",
    "- ✅ Проанализировали результаты работы системы\n",
    "\n",
    "Полученная награда `5.86126179e-06` показывает качество управления на данном шаге.\n",
    "\n",
    "---\n",
    "\n",
    "💡 **Совет**: Для более детального анализа рекомендуется выполнить несколько шагов симуляции и построить графики изменения состояний системы во времени."
   ]
  },
  {
   "cell_type": "markdown",
   "id": "096e295a",
   "metadata": {},
   "source": []
  }
 ],
 "metadata": {
  "kernelspec": {
   "display_name": ".venv",
   "language": "python",
   "name": "python3"
  },
  "language_info": {
   "codemirror_mode": {
    "name": "ipython",
    "version": 3
   },
   "file_extension": ".py",
   "mimetype": "text/x-python",
   "name": "python",
   "nbconvert_exporter": "python",
   "pygments_lexer": "ipython3",
   "version": "3.11.7"
  }
 },
 "nbformat": 4,
 "nbformat_minor": 5
}
