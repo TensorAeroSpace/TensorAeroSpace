{
 "cells": [
  {
   "cell_type": "markdown",
   "id": "title-cell",
   "metadata": {},
   "source": [
    "# 🚀 Пример использования окружения F-4C Phantom II\n",
    "\n",
    "Этот notebook демонстрирует работу с линейной продольной моделью истребителя F-4C Phantom II в библиотеке TensorAeroSpace.\n",
    "\n",
    "## 📋 Что мы изучим:\n",
    "- Настройка параметров симуляции\n",
    "- Создание и инициализация окружения\n",
    "- Выполнение шагов симуляции\n",
    "- Анализ результатов\n"
   ]
  },
  {
   "cell_type": "markdown",
   "id": "imports-header",
   "metadata": {},
   "source": [
    "## 📦 Импорт необходимых библиотек\n",
    "\n",
    "Загружаем все необходимые модули для работы с окружением F-4C:"
   ]
  },
  {
   "cell_type": "code",
   "execution_count": 1,
   "id": "7bc885d6",
   "metadata": {},
   "outputs": [],
   "source": [
    "# Основные библиотеки\n",
    "import gymnasium as gym\n",
    "import numpy as np\n",
    "from tqdm import tqdm\n",
    "\n",
    "# Модули TensorAeroSpace\n",
    "from tensoraerospace.envs import LinearLongitudinalF4C\n",
    "from tensoraerospace.utils import generate_time_period, convert_tp_to_sec_tp\n",
    "from tensoraerospace.signals.standart import unit_step"
   ]
  },
  {
   "cell_type": "markdown",
   "id": "config-header",
   "metadata": {},
   "source": [
    "## ⚙️ Настройка параметров симуляции\n",
    "\n",
    "Определяем основные параметры для моделирования полета F-4C:"
   ]
  },
  {
   "cell_type": "code",
   "execution_count": 2,
   "id": "5b5a8f3e",
   "metadata": {
    "pycharm": {
     "name": "#%%"
    }
   },
   "outputs": [
    {
     "name": "stdout",
     "output_type": "stream",
     "text": [
      "📊 Настройки симуляции:\n",
      "   • Время симуляции: 2002.0 секунд\n",
      "   • Шаг дискретизации: 0.01 секунд\n",
      "   • Количество шагов: 2002\n",
      "   • Эталонный сигнал: ступенька 5° на 10-й секунде\n"
     ]
    }
   ],
   "source": [
    "# Параметры временной дискретизации\n",
    "dt = 0.01  # Шаг дискретизации (секунды)\n",
    "tp = generate_time_period(tn=20, dt=dt)  # Временной период (20 секунд)\n",
    "tps = convert_tp_to_sec_tp(tp, dt=dt)    # Преобразование в секунды\n",
    "\n",
    "# Параметры симуляции\n",
    "number_time_steps = len(tp)  # Общее количество временных шагов\n",
    "\n",
    "# Создание эталонного сигнала (ступенчатый сигнал 5° на 10-й секунде)\n",
    "reference_signals = np.reshape(\n",
    "    unit_step(degree=5, tp=tp, time_step=10, output_rad=True), \n",
    "    [1, -1]\n",
    ")\n",
    "\n",
    "print(f'📊 Настройки симуляции:')\n",
    "print(f'   • Время симуляции: {tp[-1]:.1f} секунд')\n",
    "print(f'   • Шаг дискретизации: {dt} секунд')\n",
    "print(f'   • Количество шагов: {number_time_steps}')\n",
    "print(f'   • Эталонный сигнал: ступенька {5}° на {10}-й секунде')"
   ]
  },
  {
   "cell_type": "markdown",
   "id": "env-creation-header",
   "metadata": {},
   "source": [
    "## 🛩️ Создание и инициализация окружения F-4C\n",
    "\n",
    "Создаем окружение с заданными параметрами и выполняем сброс в начальное состояние:"
   ]
  },
  {
   "cell_type": "code",
   "execution_count": 3,
   "id": "2668e4d6",
   "metadata": {},
   "outputs": [
    {
     "name": "stdout",
     "output_type": "stream",
     "text": [
      "🎯 Начальное состояние самолета:\n",
      "   • Тангаж θ: 0.000 рад\n",
      "   • Угловая скорость q: 0.000 рад/с\n",
      "   • Угол атаки α: 0.000 рад\n",
      "   • Скорость V: 0.000 м/с\n"
     ]
    },
    {
     "data": {
      "text/plain": [
       "(array([[0.],\n",
       "        [0.],\n",
       "        [0.],\n",
       "        [0.]], dtype=float32),\n",
       " {})"
      ]
     },
     "execution_count": 3,
     "metadata": {},
     "output_type": "execute_result"
    }
   ],
   "source": [
    "# Создание окружения F-4C Phantom II\n",
    "env = gym.make(\n",
    "    'LinearLongitudinalF4C-v0',\n",
    "    number_time_steps=number_time_steps,\n",
    "    initial_state=[[0], [0], [0], [0]],  # [θ, q, α, V] - начальное состояние\n",
    "    reference_signal=reference_signals\n",
    ")\n",
    "\n",
    "# Сброс окружения в начальное состояние\n",
    "initial_observation, info = env.reset()\n",
    "\n",
    "print(f'🎯 Начальное состояние самолета:')\n",
    "print(f'   • Тангаж θ: {initial_observation[0][0]:.3f} рад')\n",
    "print(f'   • Угловая скорость q: {initial_observation[1][0]:.3f} рад/с')\n",
    "print(f'   • Угол атаки α: {initial_observation[2][0]:.3f} рад')\n",
    "print(f'   • Скорость V: {initial_observation[3][0]:.3f} м/с')\n",
    "\n",
    "# Возвращаем результат для отображения\n",
    "(initial_observation, info)"
   ]
  },
  {
   "cell_type": "markdown",
   "id": "step-header",
   "metadata": {},
   "source": [
    "## 🎮 Выполнение шага симуляции\n",
    "\n",
    "Подаем управляющий сигнал на руль высоты и наблюдаем реакцию самолета:"
   ]
  },
  {
   "cell_type": "code",
   "execution_count": 5,
   "id": "6f7ebd29",
   "metadata": {
    "pycharm": {
     "name": "#%%"
    }
   },
   "outputs": [
    {
     "name": "stdout",
     "output_type": "stream",
     "text": [
      "🎯 Состояние после управляющего воздействия:\n",
      "   • Тангаж θ: 0.000027 рад\n",
      "   • Угловая скорость q: -0.000592 рад/с\n",
      "   • Угол атаки α: -0.000001 рад\n",
      "   • Скорость V: -0.000000 м/с\n",
      "💰 Награда: 0.00002700\n",
      "🏁 Завершено: False\n",
      "⏰ Прервано: False\n"
     ]
    }
   ],
   "source": [
    "# Подача управляющего воздействия (отклонение руля высоты)\n",
    "elevator_input = np.array([[1]])  # 1 единица отклонения руля высоты\n",
    "\n",
    "# Выполнение одного шага симуляции\n",
    "observation, reward, terminated, truncated, info = env.step(elevator_input)\n",
    "\n",
    "print(f'🎯 Состояние после управляющего воздействия:')\n",
    "print(f'   • Тангаж θ: {observation[0][0]:.6f} рад')\n",
    "print(f'   • Угловая скорость q: {observation[1][0]:.6f} рад/с')\n",
    "print(f'   • Угол атаки α: {observation[2][0]:.6f} рад')\n",
    "print(f'   • Скорость V: {observation[3][0]:.6f} м/с')\n",
    "print(f'💰 Награда: {reward:.8f}')\n",
    "print(f'🏁 Завершено: {terminated}')\n",
    "print(f'⏰ Прервано: {truncated}')"
   ]
  },
  {
   "cell_type": "markdown",
   "id": "analysis-header",
   "metadata": {},
   "source": [
    "## 📊 Анализ внутреннего состояния модели\n",
    "\n",
    "Исследуем внутренние переменные модели для лучшего понимания динамики:"
   ]
  },
  {
   "cell_type": "code",
   "execution_count": 6,
   "id": "76c9c14d",
   "metadata": {
    "pycharm": {
     "name": "#%%"
    }
   },
   "outputs": [
    {
     "name": "stdout",
     "output_type": "stream",
     "text": [
      "📈 История управляющих воздействий:\n",
      "   • Размерность: (1, 2002)\n",
      "   • Первые 5 значений: [1. 0. 0. 0. 0.]\n",
      "   • Последние 5 значений: [0. 0. 0. 0. 0.]\n"
     ]
    },
    {
     "data": {
      "text/plain": [
       "array([[1., 0., 0., ..., 0., 0., 0.]])"
      ]
     },
     "execution_count": 6,
     "metadata": {},
     "output_type": "execute_result"
    }
   ],
   "source": [
    "# Просмотр истории управляющих воздействий\n",
    "input_history = env.unwrapped.model.store_input\n",
    "\n",
    "print(f'📈 История управляющих воздействий:')\n",
    "print(f'   • Размерность: {input_history.shape}')\n",
    "print(f'   • Первые 5 значений: {input_history[0][:5]}')\n",
    "print(f'   • Последние 5 значений: {input_history[0][-5:]}')\n",
    "\n",
    "# Возвращаем для отображения\n",
    "input_history"
   ]
  },
  {
   "cell_type": "code",
   "execution_count": 7,
   "id": "dc9b6906",
   "metadata": {},
   "outputs": [
    {
     "name": "stdout",
     "output_type": "stream",
     "text": [
      "🎯 Эталонный сигнал:\n",
      "   • Текущее значение: 0.000 рад\n",
      "   • Размерность сигнала: (1, 2002)\n"
     ]
    },
    {
     "data": {
      "text/plain": [
       "0.0"
      ]
     },
     "execution_count": 7,
     "metadata": {},
     "output_type": "execute_result"
    }
   ],
   "source": [
    "# Анализ эталонного сигнала\n",
    "current_reference = env.unwrapped.reference_signal[0][1]\n",
    "\n",
    "print(f'🎯 Эталонный сигнал:')\n",
    "print(f'   • Текущее значение: {current_reference:.3f} рад')\n",
    "print(f'   • Размерность сигнала: {env.unwrapped.reference_signal.shape}')\n",
    "\n",
    "# Возвращаем текущее значение\n",
    "current_reference"
   ]
  },
  {
   "cell_type": "markdown",
   "id": "reward-analysis-header",
   "metadata": {},
   "source": [
    "## 🏆 Анализ системы вознаграждений\n",
    "\n",
    "Изучаем значение награды, полученной за выполненное действие:"
   ]
  },
  {
   "cell_type": "code",
   "execution_count": 8,
   "id": "c404c317",
   "metadata": {},
   "outputs": [
    {
     "name": "stdout",
     "output_type": "stream",
     "text": [
      "💰 Анализ награды:\n",
      "   • Значение: 2.70e-05\n",
      "   • Тип данных: float\n",
      "   • Знак: +\n",
      "   ✅ Положительная награда - хорошее действие!\n"
     ]
    },
    {
     "data": {
      "text/plain": [
       "2.6995467013112974e-05"
      ]
     },
     "execution_count": 8,
     "metadata": {},
     "output_type": "execute_result"
    }
   ],
   "source": [
    "# Детальный анализ награды\n",
    "print(f'💰 Анализ награды:')\n",
    "print(f'   • Значение: {reward:.2e}')\n",
    "print(f'   • Тип данных: {type(reward).__name__}')\n",
    "print(f'   • Знак: {\"+\" if reward >= 0 else \"-\"}')\n",
    "\n",
    "if reward > 0:\n",
    "    print(f'   ✅ Положительная награда - хорошее действие!')\n",
    "elif reward < 0:\n",
    "    print(f'   ❌ Отрицательная награда - нужно улучшить управление')\n",
    "else:\n",
    "    print(f'   ⚪ Нулевая награда - нейтральное действие')\n",
    "\n",
    "# Возвращаем значение награды\n",
    "reward"
   ]
  },
  {
   "cell_type": "markdown",
   "id": "conclusion-header",
   "metadata": {},
   "source": [
    "## 🎉 Заключение\n",
    "\n",
    "В этом примере мы успешно:\n",
    "\n",
    "✅ **Создали окружение F-4C Phantom II** с правильными параметрами\n",
    "✅ **Настроили временные параметры** симуляции\n",
    "✅ **Сгенерировали эталонный сигнал** для отслеживания\n",
    "✅ **Выполнили управляющие воздействия** и получили отклик системы\n",
    "✅ **Проанализировали результаты** симуляции\n",
    "\n",
    "### 🚀 Следующие шаги:\n",
    "- Попробуйте различные управляющие воздействия\n",
    "- Измените параметры эталонного сигнала\n",
    "- Реализуйте контроллер для автоматического управления\n",
    "- Визуализируйте результаты симуляции\n",
    "\n",
    "---\n",
    "\n",
    "*Этот notebook демонстрирует базовые возможности TensorAeroSpace для моделирования авиационных систем.*"
   ]
  },
  {
   "cell_type": "code",
   "execution_count": 9,
   "id": "b850c7b6",
   "metadata": {},
   "outputs": [
    {
     "name": "stdout",
     "output_type": "stream",
     "text": [
      "🔒 Окружение закрыто. Ресурсы освобождены.\n"
     ]
    }
   ],
   "source": [
    "# 🧹 Очистка ресурсов\n",
    "env.close()\n",
    "print(\"🔒 Окружение закрыто. Ресурсы освобождены.\")"
   ]
  }
 ],
 "metadata": {
  "kernelspec": {
   "display_name": ".venv",
   "language": "python",
   "name": "python3"
  },
  "language_info": {
   "codemirror_mode": {
    "name": "ipython",
    "version": 3
   },
   "file_extension": ".py",
   "mimetype": "text/x-python",
   "name": "python",
   "nbconvert_exporter": "python",
   "pygments_lexer": "ipython3",
   "version": "3.11.7"
  }
 },
 "nbformat": 4,
 "nbformat_minor": 5
}
