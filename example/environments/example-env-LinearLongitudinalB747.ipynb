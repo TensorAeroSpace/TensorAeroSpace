{
 "cells": [
  {
   "cell_type": "markdown",
   "id": "title-cell",
   "metadata": {},
   "source": [
    "# 🛩️ Пример работы с моделью Boeing 747\n",
    "\n",
    "Этот notebook демонстрирует использование линейной продольной модели Boeing 747 в среде TensorAeroSpace.\n",
    "\n",
    "## 📋 Что мы будем делать:\n",
    "1. Импортируем необходимые библиотеки\n",
    "2. Настроим временные параметры и опорный сигнал\n",
    "3. Создадим и инициализируем среду\n",
    "4. Выполним один шаг симуляции\n",
    "5. Проанализируем результаты"
   ]
  },
  {
   "cell_type": "markdown",
   "id": "imports-header",
   "metadata": {},
   "source": [
    "## 📚 Импорт библиотек\n",
    "\n",
    "Загружаем все необходимые модули для работы с моделью самолета:"
   ]
  },
  {
   "cell_type": "code",
   "execution_count": 1,
   "id": "7bc885d6",
   "metadata": {
    "execution": {
     "iopub.execute_input": "2024-08-14T21:44:43.185609Z",
     "iopub.status.busy": "2024-08-14T21:44:43.185104Z",
     "iopub.status.idle": "2024-08-14T21:44:48.076981Z",
     "shell.execute_reply": "2024-08-14T21:44:48.076689Z"
    }
   },
   "outputs": [],
   "source": [
    "# Основные библиотеки\n",
    "import gymnasium as gym\n",
    "import numpy as np\n",
    "from tqdm import tqdm\n",
    "\n",
    "# Модули TensorAeroSpace\n",
    "from tensoraerospace.envs import LinearLongitudinalB747\n",
    "from tensoraerospace.utils import generate_time_period, convert_tp_to_sec_tp\n",
    "from tensoraerospace.signals.standart import unit_step\n",
    "from tensoraerospace.agent.ihdp.model import IHDPAgent"
   ]
  },
  {
   "cell_type": "markdown",
   "id": "parameters-header",
   "metadata": {},
   "source": [
    "## ⚙️ Настройка параметров симуляции\n",
    "\n",
    "Определяем временные параметры и создаем опорный сигнал для управления углом тангажа:"
   ]
  },
  {
   "cell_type": "code",
   "execution_count": 2,
   "id": "5b5a8f3e",
   "metadata": {
    "execution": {
     "iopub.execute_input": "2024-08-14T21:44:48.079079Z",
     "iopub.status.busy": "2024-08-14T21:44:48.078865Z",
     "iopub.status.idle": "2024-08-14T21:44:48.081196Z",
     "shell.execute_reply": "2024-08-14T21:44:48.080969Z"
    },
    "pycharm": {
     "name": "#%%\n"
    }
   },
   "outputs": [],
   "source": [
    "# Параметры дискретизации\n",
    "dt = 0.01  # Шаг дискретизации (секунды)\n",
    "\n",
    "# Генерация временного периода\n",
    "tp = generate_time_period(tn=20, dt=dt)  # 20 секунд симуляции\n",
    "tps = convert_tp_to_sec_tp(tp, dt=dt)    # Преобразование в секунды\n",
    "number_time_steps = len(tp)             # Общее количество временных шагов\n",
    "\n",
    "# Создание ступенчатого опорного сигнала\n",
    "# Сигнал активируется на 10-й секунде с амплитудой 5 градусов\n",
    "reference_signals = np.reshape(\n",
    "    unit_step(degree=5, tp=tp, time_step=10, output_rad=True), \n",
    "    [1, -1]\n",
    ")\n",
    "\n",
    "print(f'📊 Параметры симуляции:')\n",
    "print(f'   • Время симуляции: {tp[-1]:.1f} сек')\n",
    "print(f'   • Шаг дискретизации: {dt} сек')\n",
    "print(f'   • Количество шагов: {number_time_steps}')"
   ]
  },
  {
   "cell_type": "markdown",
   "id": "environment-header",
   "metadata": {},
   "source": [
    "## 🚀 Создание и инициализация среды\n",
    "\n",
    "Создаем среду Boeing 747 с заданными параметрами и выполняем сброс:"
   ]
  },
  {
   "cell_type": "code",
   "execution_count": 3,
   "id": "2668e4d6",
   "metadata": {
    "execution": {
     "iopub.execute_input": "2024-08-14T21:44:48.082630Z",
     "iopub.status.busy": "2024-08-14T21:44:48.082528Z",
     "iopub.status.idle": "2024-08-14T21:44:48.095128Z",
     "shell.execute_reply": "2024-08-14T21:44:48.092901Z"
    }
   },
   "outputs": [
    {
     "name": "stderr",
     "output_type": "stream",
     "text": [
      "/Users/asmazaev/Projects/TensorAeroSpace/.venv/lib/python3.11/site-packages/gymnasium/utils/passive_env_checker.py:159: UserWarning: \u001b[33mWARN: The obs returned by the `reset()` method is not within the observation space.\u001b[0m\n",
      "  logger.warn(f\"{pre} is not within the observation space.\")\n"
     ]
    }
   ],
   "source": [
    "# Создание среды Boeing 747\n",
    "env = gym.make(\n",
    "    'LinearLongitudinalB747-v0',\n",
    "    number_time_steps=number_time_steps,     # Количество временных шагов\n",
    "    initial_state=[[0],[0],[0],[0]],         # Начальное состояние [u, w, q, theta]\n",
    "    reference_signal=reference_signals,      # Опорный сигнал\n",
    "    state_space=['u', 'w', 'q', 'theta'],   # Пространство состояний\n",
    "    output_space=['u', 'w', 'q', 'theta']   # Пространство выходов\n",
    ")\n",
    "\n",
    "# Инициализация среды\n",
    "state, info = env.reset()\n",
    "\n",
    "print(f'✅ Среда успешно создана и инициализирована!')\n",
    "print(f'📈 Начальное состояние: {state.flatten()}')\n",
    "print(f'🎯 Форма пространства состояний: {env.observation_space.shape}')"
   ]
  },
  {
   "cell_type": "markdown",
   "id": "step-header",
   "metadata": {},
   "source": [
    "## 🎮 Выполнение шага симуляции\n",
    "\n",
    "Применяем управляющее воздействие и наблюдаем реакцию системы:"
   ]
  },
  {
   "cell_type": "code",
   "execution_count": 4,
   "id": "6f7ebd29",
   "metadata": {
    "execution": {
     "iopub.execute_input": "2024-08-14T21:44:48.099906Z",
     "iopub.status.busy": "2024-08-14T21:44:48.099603Z",
     "iopub.status.idle": "2024-08-14T21:44:48.106480Z",
     "shell.execute_reply": "2024-08-14T21:44:48.104376Z"
    },
    "pycharm": {
     "name": "#%%\n"
    }
   },
   "outputs": [
    {
     "name": "stderr",
     "output_type": "stream",
     "text": [
      "/Users/asmazaev/Projects/TensorAeroSpace/.venv/lib/python3.11/site-packages/gymnasium/utils/passive_env_checker.py:159: UserWarning: \u001b[33mWARN: The obs returned by the `step()` method is not within the observation space.\u001b[0m\n",
      "  logger.warn(f\"{pre} is not within the observation space.\")\n"
     ]
    }
   ],
   "source": [
    "# Применение управляющего воздействия\n",
    "control_input = np.array([[1]])  # Управляющий сигнал (отклонение руля высоты)\n",
    "\n",
    "# Выполнение одного шага симуляции\n",
    "state, reward, terminated, truncated, info = env.step(control_input)\n",
    "\n",
    "print(f'🎯 Управляющее воздействие: {control_input.flatten()[0]}')\n",
    "print(f'📊 Новое состояние: {state.flatten()}')\n",
    "print(f'🏆 Награда: {reward:.6f}')\n",
    "print(f'🔚 Завершено: {terminated}')\n",
    "print(f'⏰ Прервано: {truncated}')"
   ]
  },
  {
   "cell_type": "markdown",
   "id": "analysis-header",
   "metadata": {},
   "source": [
    "## 📊 Анализ результатов\n",
    "\n",
    "Исследуем внутреннее состояние модели и опорные сигналы:"
   ]
  },
  {
   "cell_type": "code",
   "execution_count": 5,
   "id": "76c9c14d",
   "metadata": {
    "execution": {
     "iopub.execute_input": "2024-08-14T21:44:48.111164Z",
     "iopub.status.busy": "2024-08-14T21:44:48.110760Z",
     "iopub.status.idle": "2024-08-14T21:44:48.123941Z",
     "shell.execute_reply": "2024-08-14T21:44:48.121917Z"
    },
    "pycharm": {
     "name": "#%%\n"
    }
   },
   "outputs": [
    {
     "data": {
      "text/plain": [
       "array([[1., 0., 0., ..., 0., 0., 0.]])"
      ]
     },
     "execution_count": 5,
     "metadata": {},
     "output_type": "execute_result"
    }
   ],
   "source": [
    "# Просмотр истории управляющих воздействий\n",
    "print(f'📝 История управляющих воздействий:')\n",
    "env.unwrapped.model.store_input"
   ]
  },
  {
   "cell_type": "code",
   "execution_count": 6,
   "id": "dc9b6906",
   "metadata": {
    "execution": {
     "iopub.execute_input": "2024-08-14T21:44:48.127866Z",
     "iopub.status.busy": "2024-08-14T21:44:48.127586Z",
     "iopub.status.idle": "2024-08-14T21:44:48.132409Z",
     "shell.execute_reply": "2024-08-14T21:44:48.131827Z"
    }
   },
   "outputs": [
    {
     "data": {
      "text/plain": [
       "0.0"
      ]
     },
     "execution_count": 6,
     "metadata": {},
     "output_type": "execute_result"
    }
   ],
   "source": [
    "# Проверка опорного сигнала для угла тангажа (theta)\n",
    "print(f'🎯 Текущее значение опорного сигнала для theta:')\n",
    "env.unwrapped.reference_signal[3][1]  # Четвертое состояние (theta) на втором временном шаге"
   ]
  },
  {
   "cell_type": "code",
   "execution_count": 7,
   "id": "c404c317",
   "metadata": {
    "execution": {
     "iopub.execute_input": "2024-08-14T21:44:48.136783Z",
     "iopub.status.busy": "2024-08-14T21:44:48.136533Z",
     "iopub.status.idle": "2024-08-14T21:44:48.140995Z",
     "shell.execute_reply": "2024-08-14T21:44:48.140237Z"
    }
   },
   "outputs": [
    {
     "data": {
      "text/plain": [
       "8.243965275209204e-06"
      ]
     },
     "execution_count": 7,
     "metadata": {},
     "output_type": "execute_result"
    }
   ],
   "source": [
    "# Анализ полученной награды\n",
    "print(f'🏆 Детальный анализ награды:')\n",
    "print(f'   • Значение: {reward:.2e}')\n",
    "print(f'   • Тип: {type(reward)}')\n",
    "print(f'   • Интерпретация: Чем меньше значение, тем лучше отслеживание опорного сигнала')\n",
    "\n",
    "reward"
   ]
  },
  {
   "cell_type": "markdown",
   "id": "conclusion-header",
   "metadata": {},
   "source": [
    "## 🎉 Заключение\n",
    "\n",
    "В этом примере мы успешно:\n",
    "\n",
    "✅ **Создали среду Boeing 747** с правильными параметрами\n",
    "✅ **Настроили временные параметры** и опорный сигнал\n",
    "✅ **Выполнили симуляцию** с управляющим воздействием\n",
    "✅ **Проанализировали результаты** и внутреннее состояние модели\n",
    "\n",
    "### 📈 Состояния модели:\n",
    "- **u**: Продольная скорость\n",
    "- **w**: Вертикальная скорость\n",
    "- **q**: Угловая скорость тангажа\n",
    "- **theta**: Угол тангажа\n",
    "\n",
    "### 🎮 Управление:\n",
    "- **Вход**: Отклонение руля высоты\n",
    "- **Цель**: Отслеживание заданного угла тангажа\n",
    "\n",
    "Модель готова для использования в задачах управления и обучения с подкреплением! 🚀"
   ]
  }
 ],
 "metadata": {
  "kernelspec": {
   "display_name": ".venv",
   "language": "python",
   "name": "python3"
  },
  "language_info": {
   "codemirror_mode": {
    "name": "ipython",
    "version": 3
   },
   "file_extension": ".py",
   "mimetype": "text/x-python",
   "name": "python",
   "nbconvert_exporter": "python",
   "pygments_lexer": "ipython3",
   "version": "3.11.7"
  }
 },
 "nbformat": 4,
 "nbformat_minor": 5
}
