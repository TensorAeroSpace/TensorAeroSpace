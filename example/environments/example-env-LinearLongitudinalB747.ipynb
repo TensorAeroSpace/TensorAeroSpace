{
 "cells": [
  {
   "cell_type": "code",
   "execution_count": 1,
   "id": "7bc885d6",
   "metadata": {
    "execution": {
     "iopub.execute_input": "2024-08-14T21:44:43.185609Z",
     "iopub.status.busy": "2024-08-14T21:44:43.185104Z",
     "iopub.status.idle": "2024-08-14T21:44:48.076981Z",
     "shell.execute_reply": "2024-08-14T21:44:48.076689Z"
    }
   },
   "outputs": [],
   "source": [
    "import gymnasium as gym\n",
    "import numpy as np\n",
    "from tqdm import tqdm\n",
    "\n",
    "from tensoraerospace.envs import LinearLongitudinalB747\n",
    "from tensoraerospace.utils import generate_time_period, convert_tp_to_sec_tp\n",
    "from tensoraerospace.signals.standart import unit_step\n",
    "from tensoraerospace.agent.ihdp.model import IHDPAgent"
   ]
  },
  {
   "cell_type": "code",
   "execution_count": 2,
   "id": "5b5a8f3e",
   "metadata": {
    "execution": {
     "iopub.execute_input": "2024-08-14T21:44:48.079079Z",
     "iopub.status.busy": "2024-08-14T21:44:48.078865Z",
     "iopub.status.idle": "2024-08-14T21:44:48.081196Z",
     "shell.execute_reply": "2024-08-14T21:44:48.080969Z"
    },
    "pycharm": {
     "name": "#%%\n"
    }
   },
   "outputs": [],
   "source": [
    "dt = 0.01  # Дискретизация\n",
    "tp = generate_time_period(tn=20, dt=dt) # Временной периуд\n",
    "tps = convert_tp_to_sec_tp(tp, dt=dt)\n",
    "number_time_steps = len(tp) # Количество временных шагов\n",
    "reference_signals = np.reshape(unit_step(degree=5, tp=tp, time_step=10, output_rad=True), [1, -1]) # Заданный сигнал"
   ]
  },
  {
   "cell_type": "code",
   "execution_count": 3,
   "id": "2668e4d6",
   "metadata": {
    "execution": {
     "iopub.execute_input": "2024-08-14T21:44:48.082630Z",
     "iopub.status.busy": "2024-08-14T21:44:48.082528Z",
     "iopub.status.idle": "2024-08-14T21:44:48.095128Z",
     "shell.execute_reply": "2024-08-14T21:44:48.092901Z"
    }
   },
   "outputs": [
    {
     "name": "stderr",
     "output_type": "stream",
     "text": [
      "/Users/asmazaev/Projects/TensorAeroSpace/.venv/lib/python3.11/site-packages/gymnasium/utils/passive_env_checker.py:168: DeprecationWarning: \u001b[33mWARN: Current gymnasium version requires that `Env.reset` can be passed a `seed` instead of using `Env.seed` for resetting the environment random number generator.\u001b[0m\n",
      "  logger.deprecation(\n",
      "/Users/asmazaev/Projects/TensorAeroSpace/.venv/lib/python3.11/site-packages/gymnasium/utils/passive_env_checker.py:181: DeprecationWarning: \u001b[33mWARN: Current gymnasium version requires that `Env.reset` can be passed `options` to allow the environment initialisation to be passed additional information.\u001b[0m\n",
      "  logger.deprecation(\n",
      "/Users/asmazaev/Projects/TensorAeroSpace/.venv/lib/python3.11/site-packages/gymnasium/utils/passive_env_checker.py:135: UserWarning: \u001b[33mWARN: The obs returned by the `reset()` method was expecting numpy array dtype to be float32, actual type: float64\u001b[0m\n",
      "  logger.warn(\n",
      "/Users/asmazaev/Projects/TensorAeroSpace/.venv/lib/python3.11/site-packages/gymnasium/utils/passive_env_checker.py:159: UserWarning: \u001b[33mWARN: The obs returned by the `reset()` method is not within the observation space.\u001b[0m\n",
      "  logger.warn(f\"{pre} is not within the observation space.\")\n"
     ]
    }
   ],
   "source": [
    "env = gym.make('LinearLongitudinalB747-v0',\n",
    "               number_time_steps=number_time_steps, \n",
    "               initial_state=[[0],[0],[0],[0]],\n",
    "               reference_signal = reference_signals)\n",
    "state, info = env.reset()"
   ]
  },
  {
   "cell_type": "code",
   "execution_count": 4,
   "id": "6f7ebd29",
   "metadata": {
    "execution": {
     "iopub.execute_input": "2024-08-14T21:44:48.099906Z",
     "iopub.status.busy": "2024-08-14T21:44:48.099603Z",
     "iopub.status.idle": "2024-08-14T21:44:48.106480Z",
     "shell.execute_reply": "2024-08-14T21:44:48.104376Z"
    },
    "pycharm": {
     "name": "#%%\n"
    }
   },
   "outputs": [
    {
     "name": "stderr",
     "output_type": "stream",
     "text": [
      "/Users/asmazaev/Projects/TensorAeroSpace/.venv/lib/python3.11/site-packages/gymnasium/utils/passive_env_checker.py:135: UserWarning: \u001b[33mWARN: The obs returned by the `step()` method was expecting numpy array dtype to be float32, actual type: float64\u001b[0m\n",
      "  logger.warn(\n",
      "/Users/asmazaev/Projects/TensorAeroSpace/.venv/lib/python3.11/site-packages/gymnasium/utils/passive_env_checker.py:159: UserWarning: \u001b[33mWARN: The obs returned by the `step()` method is not within the observation space.\u001b[0m\n",
      "  logger.warn(f\"{pre} is not within the observation space.\")\n",
      "/Users/asmazaev/Projects/TensorAeroSpace/.venv/lib/python3.11/site-packages/gymnasium/utils/passive_env_checker.py:246: UserWarning: \u001b[33mWARN: The reward returned by `step()` must be a float, int, np.integer or np.floating, actual type: <class 'numpy.ndarray'>\u001b[0m\n",
      "  logger.warn(\n"
     ]
    }
   ],
   "source": [
    "state, reward, terminated, truncated, info = env.step(np.array([[1]]))"
   ]
  },
  {
   "cell_type": "code",
   "execution_count": 5,
   "id": "76c9c14d",
   "metadata": {
    "execution": {
     "iopub.execute_input": "2024-08-14T21:44:48.111164Z",
     "iopub.status.busy": "2024-08-14T21:44:48.110760Z",
     "iopub.status.idle": "2024-08-14T21:44:48.123941Z",
     "shell.execute_reply": "2024-08-14T21:44:48.121917Z"
    },
    "pycharm": {
     "name": "#%%\n"
    }
   },
   "outputs": [
    {
     "name": "stderr",
     "output_type": "stream",
     "text": [
      "/Users/asmazaev/Projects/TensorAeroSpace/.venv/lib/python3.11/site-packages/gymnasium/core.py:311: UserWarning: \u001b[33mWARN: env.model to get variables from other wrappers is deprecated and will be removed in v1.0, to get this variable you can do `env.unwrapped.model` for environment variables or `env.get_wrapper_attr('model')` that will search the reminding wrappers.\u001b[0m\n",
      "  logger.warn(\n"
     ]
    },
    {
     "data": {
      "text/plain": [
       "array([[1., 0., 0., ..., 0., 0., 0.]])"
      ]
     },
     "execution_count": 5,
     "metadata": {},
     "output_type": "execute_result"
    }
   ],
   "source": [
    "env.model.store_input"
   ]
  },
  {
   "cell_type": "code",
   "execution_count": 6,
   "id": "dc9b6906",
   "metadata": {
    "execution": {
     "iopub.execute_input": "2024-08-14T21:44:48.127866Z",
     "iopub.status.busy": "2024-08-14T21:44:48.127586Z",
     "iopub.status.idle": "2024-08-14T21:44:48.132409Z",
     "shell.execute_reply": "2024-08-14T21:44:48.131827Z"
    }
   },
   "outputs": [
    {
     "name": "stderr",
     "output_type": "stream",
     "text": [
      "/Users/asmazaev/Projects/TensorAeroSpace/.venv/lib/python3.11/site-packages/gymnasium/core.py:311: UserWarning: \u001b[33mWARN: env.reference_signal to get variables from other wrappers is deprecated and will be removed in v1.0, to get this variable you can do `env.unwrapped.reference_signal` for environment variables or `env.get_wrapper_attr('reference_signal')` that will search the reminding wrappers.\u001b[0m\n",
      "  logger.warn(\n"
     ]
    },
    {
     "data": {
      "text/plain": [
       "0.0"
      ]
     },
     "execution_count": 6,
     "metadata": {},
     "output_type": "execute_result"
    }
   ],
   "source": [
    "env.reference_signal[0][1]"
   ]
  },
  {
   "cell_type": "code",
   "execution_count": 7,
   "id": "c404c317",
   "metadata": {
    "execution": {
     "iopub.execute_input": "2024-08-14T21:44:48.136783Z",
     "iopub.status.busy": "2024-08-14T21:44:48.136533Z",
     "iopub.status.idle": "2024-08-14T21:44:48.140995Z",
     "shell.execute_reply": "2024-08-14T21:44:48.140237Z"
    }
   },
   "outputs": [
    {
     "data": {
      "text/plain": [
       "array([2.86790771e-05])"
      ]
     },
     "execution_count": 7,
     "metadata": {},
     "output_type": "execute_result"
    }
   ],
   "source": [
    "reward"
   ]
  },
  {
   "cell_type": "code",
   "execution_count": null,
   "id": "565d6267",
   "metadata": {},
   "outputs": [],
   "source": []
  }
 ],
 "metadata": {
  "kernelspec": {
   "display_name": "Python 3 (ipykernel)",
   "language": "python",
   "name": "python3"
  },
  "language_info": {
   "codemirror_mode": {
    "name": "ipython",
    "version": 3
   },
   "file_extension": ".py",
   "mimetype": "text/x-python",
   "name": "python",
   "nbconvert_exporter": "python",
   "pygments_lexer": "ipython3",
   "version": "3.11.7"
  }
 },
 "nbformat": 4,
 "nbformat_minor": 5
}
