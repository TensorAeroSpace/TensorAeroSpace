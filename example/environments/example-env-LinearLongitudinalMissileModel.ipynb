{
 "cells": [
  {
   "cell_type": "markdown",
   "id": "title-header",
   "metadata": {},
   "source": [
    "# 🚀 Пример работы с линейной продольной моделью ракеты\n",
    "\n",
    "## 📖 Введение\n",
    "\n",
    "Данный notebook демонстрирует основы работы с **LinearLongitudinalMissileModel** в библиотеке TensorAeroSpace. \n",
    "Мы изучим:\n",
    "\n",
    "- 🛠️ **Настройку параметров симуляции** для ракетной модели\n",
    "- 🎯 **Создание опорных сигналов** для управления\n",
    "- 🚀 **Инициализацию среды** LinearLongitudinalMissileModel\n",
    "- 📊 **Выполнение шагов симуляции** и анализ результатов\n",
    "- 🔍 **Исследование внутренних состояний** модели\n",
    "\n",
    "Эта модель представляет упрощенную продольную динамику ракеты и идеально подходит для изучения основ управления летательными аппаратами."
   ]
  },
  {
   "cell_type": "markdown",
   "id": "setup-header",
   "metadata": {},
   "source": [
    "## 🔧 Настройка рабочей среды\n",
    "\n",
    "Переходим в корневую директорию проекта:"
   ]
  },
  {
   "cell_type": "code",
   "execution_count": 1,
   "id": "eacf7dbd",
   "metadata": {},
   "outputs": [
    {
     "name": "stdout",
     "output_type": "stream",
     "text": [
      "/app\n"
     ]
    }
   ],
   "source": [
    "# Переход в корневую директорию проекта\n",
    "print('📁 Переходим в корневую директорию...')\n",
    "%cd .."
   ]
  },
  {
   "cell_type": "markdown",
   "id": "imports-header",
   "metadata": {},
   "source": [
    "## 📦 Импорт необходимых библиотек\n",
    "\n",
    "Загружаем все необходимые модули для работы с ракетной моделью:"
   ]
  },
  {
   "cell_type": "code",
   "execution_count": 2,
   "id": "7bc885d6",
   "metadata": {},
   "outputs": [],
   "source": [
    "# Основные библиотеки для работы с данными и средами\n",
    "import gymnasium as gym          # Стандартная библиотека для RL сред\n",
    "import numpy as np              # Численные вычисления\n",
    "from tqdm import tqdm           # Прогресс-бары для циклов\n",
    "\n",
    "# Специализированные модули TensorAeroSpace\n",
    "from tensoraerospace.envs import LinearLongitudinalMissileModel  # Модель ракеты\n",
    "from tensoraerospace.utils import generate_time_period, convert_tp_to_sec_tp  # Утилиты времени\n",
    "from tensoraerospace.signals.standart import unit_step  # Генератор ступенчатых сигналов\n",
    "from tensoraerospace.agent.ihdp.model import IHDPAgent  # Агент IHDP\n",
    "\n",
    "print('✅ Все библиотеки успешно загружены!')"
   ]
  },
  {
   "cell_type": "markdown",
   "id": "simulation-params-header",
   "metadata": {},
   "source": [
    "## ⚙️ Настройка параметров симуляции\n",
    "\n",
    "Определяем основные параметры для симуляции ракетной модели:"
   ]
  },
  {
   "cell_type": "code",
   "execution_count": 3,
   "id": "5b5a8f3e",
   "metadata": {
    "pycharm": {
     "name": "#%%\n"
    }
   },
   "outputs": [],
   "source": [
    "# Основные параметры симуляции\n",
    "dt = 0.01  # Шаг дискретизации по времени (секунды)\n",
    "print(f'🕐 Шаг дискретизации: {dt} сек')\n",
    "\n",
    "# Генерация временного периода\n",
    "tp = generate_time_period(tn=20, dt=dt)  # Временной период 20 секунд\n",
    "tps = convert_tp_to_sec_tp(tp, dt=dt)    # Преобразование в секунды\n",
    "number_time_steps = len(tp)             # Общее количество временных шагов\n",
    "\n",
    "print(f'⏱️  Общее время симуляции: 20 сек')\n",
    "print(f'📊 Количество временных шагов: {number_time_steps}')\n",
    "\n",
    "# Создание опорного сигнала (ступенчатый сигнал)\n",
    "reference_signals = np.reshape(\n",
    "    unit_step(degree=5, tp=tp, time_step=10, output_rad=True), \n",
    "    [1, -1]\n",
    ")\n",
    "\n",
    "print(f'🎯 Опорный сигнал создан:')\n",
    "print(f'   • Амплитуда: 5 градусов')\n",
    "print(f'   • Время активации: 1.0 сек (шаг {10})')\n",
    "print(f'   • Форма сигнала: {reference_signals.shape}')"
   ]
  },
  {
   "cell_type": "markdown",
   "id": "environment-creation-header",
   "metadata": {},
   "source": [
    "## 🚀 Создание среды ракетной модели\n",
    "\n",
    "Инициализируем среду LinearLongitudinalMissileModel с заданными параметрами:"
   ]
  },
  {
   "cell_type": "code",
   "execution_count": 4,
   "id": "2668e4d6",
   "metadata": {},
   "outputs": [
    {
     "name": "stderr",
     "output_type": "stream",
     "text": [
      "/Users/asmazaev/Projects/TensorAeroSpace/.venv/lib/python3.11/site-packages/gymnasium/utils/passive_env_checker.py:159: UserWarning: \u001b[33mWARN: The obs returned by the `reset()` method is not within the observation space.\u001b[0m\n",
      "  logger.warn(f\"{pre} is not within the observation space.\")\n"
     ]
    },
    {
     "data": {
      "text/plain": [
       "(array([[0.],\n",
       "        [0.],\n",
       "        [0.],\n",
       "        [0.]], dtype=float32),\n",
       " {})"
      ]
     },
     "execution_count": 4,
     "metadata": {},
     "output_type": "execute_result"
    }
   ],
   "source": [
    "# Создание среды LinearLongitudinalMissileModel\n",
    "print('🏗️  Создаем среду ракетной модели...')\n",
    "\n",
    "env = gym.make('LinearLongitudinalMissileModel-v0',\n",
    "               number_time_steps=number_time_steps,    # Количество временных шагов\n",
    "               initial_state=[[0],[0],[0],[0]],        # Начальное состояние [x, x_dot, theta, theta_dot]\n",
    "               reference_signal=reference_signals)     # Опорный сигнал\n",
    "\n",
    "print('✅ Среда успешно создана!')\n",
    "print('🔄 Выполняем сброс среды...')\n",
    "\n",
    "# Сброс среды и получение начального состояния\n",
    "initial_observation, info = env.reset()\n",
    "\n",
    "print('📊 Начальное состояние ракеты:')\n",
    "print(f'   • Позиция (x): {initial_observation[0][0]:.6f} м')\n",
    "print(f'   • Скорость (x_dot): {initial_observation[1][0]:.6f} м/с')\n",
    "print(f'   • Угол тангажа (theta): {initial_observation[2][0]:.6f} рад')\n",
    "print(f'   • Угловая скорость (theta_dot): {initial_observation[3][0]:.6f} рад/с')\n",
    "\n",
    "initial_observation, info"
   ]
  },
  {
   "cell_type": "markdown",
   "id": "simulation-step-header",
   "metadata": {},
   "source": [
    "## 🎮 Выполнение шага симуляции\n",
    "\n",
    "Применяем управляющее воздействие и наблюдаем реакцию ракетной системы:"
   ]
  },
  {
   "cell_type": "code",
   "execution_count": 6,
   "id": "6f7ebd29",
   "metadata": {
    "pycharm": {
     "name": "#%%\n"
    }
   },
   "outputs": [],
   "source": [
    "# Применение управляющего воздействия\n",
    "control_input = np.array([[1]])  # Управляющий сигнал (тяга)\n",
    "\n",
    "print('🎯 Применяем управляющее воздействие...')\n",
    "print(f'   • Управляющий сигнал: {control_input[0][0]} (единичная тяга)')\n",
    "\n",
    "# Выполнение одного шага симуляции\n",
    "observation, reward, terminated, truncated, info = env.step(control_input)\n",
    "\n",
    "print('✅ Шаг симуляции выполнен!')\n",
    "print(f'🏁 Статус завершения: terminated={terminated}, truncated={truncated}')"
   ]
  },
  {
   "cell_type": "markdown",
   "id": "internal-data-header",
   "metadata": {},
   "source": [
    "## 🔍 Анализ внутренних данных модели\n",
    "\n",
    "Исследуем внутренние состояния и данные ракетной модели:"
   ]
  },
  {
   "cell_type": "code",
   "execution_count": 11,
   "id": "76c9c14d",
   "metadata": {
    "pycharm": {
     "name": "#%%\n"
    }
   },
   "outputs": [
    {
     "data": {
      "text/plain": [
       "array([[1., 1., 0., ..., 0., 0., 0.]])"
      ]
     },
     "execution_count": 11,
     "metadata": {},
     "output_type": "execute_result"
    }
   ],
   "source": [
    "# Анализ истории управляющих воздействий\n",
    "input_history = env.unwrapped.model.store_input\n",
    "\n",
    "print('📈 История управляющих воздействий:')\n",
    "print(f'   • Форма массива: {input_history.shape}')\n",
    "print(f'   • Первые 5 значений: {input_history[0][:5]}')\n",
    "print(f'   • Последние 5 значений: {input_history[0][-5:]}')\n",
    "\n",
    "# Подсчет ненулевых управляющих воздействий\n",
    "non_zero_inputs = np.count_nonzero(input_history)\n",
    "print(f'🎯 Количество ненулевых управляющих воздействий: {non_zero_inputs}')\n",
    "\n",
    "input_history"
   ]
  },
  {
   "cell_type": "markdown",
   "id": "reference-signal-header",
   "metadata": {},
   "source": [
    "### 🎯 Анализ опорного сигнала\n",
    "\n",
    "Исследуем текущее значение опорного сигнала:"
   ]
  },
  {
   "cell_type": "code",
   "execution_count": 10,
   "id": "dc9b6906",
   "metadata": {},
   "outputs": [
    {
     "data": {
      "text/plain": [
       "0.0"
      ]
     },
     "execution_count": 10,
     "metadata": {},
     "output_type": "execute_result"
    }
   ],
   "source": [
    "# Анализ текущего значения опорного сигнала\n",
    "current_reference = env.unwrapped.reference_signal[0][1]\n",
    "\n",
    "print('🎯 Анализ опорного сигнала:')\n",
    "print(f'   • Текущее значение (шаг 1): {current_reference:.6f} рад')\n",
    "print(f'   • Значение в градусах: {np.degrees(current_reference):.2f}°')\n",
    "\n",
    "# Показать несколько значений опорного сигнала\n",
    "ref_signal = env.unwrapped.reference_signal[0]\n",
    "print(f'📊 Форма опорного сигнала: {ref_signal.shape}')\n",
    "print(f'   • Первые 5 значений: {ref_signal[:5]}')\n",
    "print(f'   • Значения 8-12 (около активации): {ref_signal[8:13]}')\n",
    "\n",
    "current_reference"
   ]
  },
  {
   "cell_type": "markdown",
   "id": "reward-analysis-header",
   "metadata": {},
   "source": [
    "### 🏆 Анализ награды\n",
    "\n",
    "Оценим качество управления через полученную награду:"
   ]
  },
  {
   "cell_type": "code",
   "execution_count": 9,
   "id": "c404c317",
   "metadata": {},
   "outputs": [
    {
     "data": {
      "text/plain": [
       "array([0.19481281])"
      ]
     },
     "execution_count": 9,
     "metadata": {},
     "output_type": "execute_result"
    }
   ],
   "source": [
    "# Анализ полученной награды\n",
    "current_reward = reward[0] if isinstance(reward, np.ndarray) else reward\n",
    "\n",
    "print('🏆 Анализ награды:')\n",
    "print(f'   • Текущая награда: {current_reward:.6f}')\n",
    "\n",
    "# Интерпретация награды\n",
    "if current_reward > 0:\n",
    "    print('   ✅ Положительная награда - хорошее управление!')\n",
    "    print('   📈 Система движется в правильном направлении')\n",
    "elif current_reward == 0:\n",
    "    print('   ⚖️  Нейтральная награда - система в равновесии')\n",
    "else:\n",
    "    print('   ⚠️  Отрицательная награда - требуется коррекция')\n",
    "\n",
    "print('\n📊 Интерпретация награды:')\n",
    "print('   • Награда отражает качество отслеживания опорного сигнала')\n",
    "print('   • Высокие значения указывают на точное следование траектории')\n",
    "print('   • Отрицательные значения сигнализируют об ошибках управления')\n",
    "\n",
    "reward"
   ]
  },
  {
   "cell_type": "markdown",
   "id": "conclusion-header",
   "metadata": {},
   "source": [
    "---\n",
    "\n",
    "## 🎓 Заключение\n",
    "\n",
    "В этом примере мы успешно продемонстрировали работу с **LinearLongitudinalMissileModel** в TensorAeroSpace! 🚀\n",
    "\n",
    "### ✅ Что мы изучили:\n",
    "\n",
    "- 🛠️ **Настройку параметров симуляции** для ракетной модели\n",
    "- 🎯 **Создание опорных сигналов** с помощью unit_step\n",
    "- 🚀 **Инициализацию среды** LinearLongitudinalMissileModel\n",
    "- 🎮 **Выполнение шагов симуляции** с управляющими воздействиями\n",
    "- 🔍 **Анализ внутренних состояний** модели и истории управления\n",
    "- 📊 **Интерпретацию наград** и оценку качества управления\n",
    "\n",
    "### 🔄 Следующие шаги для изучения:\n",
    "\n",
    "- 🎮 **Экспериментируйте с различными управляющими воздействиями**\n",
    "- 📈 **Создайте более сложные опорные сигналы** (синусоидальные, рамповые)\n",
    "- 🧠 **Реализуйте контроллеры** (PID, MPC, или RL-агенты)\n",
    "- 📊 **Визуализируйте траектории** и динамику системы\n",
    "- 🔬 **Изучите влияние параметров** на поведение ракеты\n",
    "\n",
    "### 📚 Полезные ресурсы:\n",
    "\n",
    "- [Документация TensorAeroSpace](https://tensoraerospace.readthedocs.io/)\n",
    "- [Примеры контроллеров](https://github.com/TensorAeroSpace/TensorAeroSpace/tree/main/examples)\n",
    "- [Теория управления ракетами](https://en.wikipedia.org/wiki/Missile_guidance)\n",
    "\n",
    "**Удачи в изучении ракетных систем и управления! 🚀🎯**"
   ]
  }
 ],
 "metadata": {
  "kernelspec": {
   "display_name": ".venv",
   "language": "python",
   "name": "python3"
  },
  "language_info": {
   "codemirror_mode": {
    "name": "ipython",
    "version": 3
   },
   "file_extension": ".py",
   "mimetype": "text/x-python",
   "name": "python",
   "nbconvert_exporter": "python",
   "pygments_lexer": "ipython3",
   "version": "3.11.7"
  }
 },
 "nbformat": 4,
 "nbformat_minor": 5
}
