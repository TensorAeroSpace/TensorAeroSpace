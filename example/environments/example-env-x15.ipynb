{
 "cells": [
  {
   "cell_type": "markdown",
   "id": "title-header",
   "metadata": {},
   "source": [
    "# 🚀 Модель X-15: Экспериментальный гиперзвуковой самолёт\n",
    "\n",
    "## 📖 Введение\n",
    "\n",
    "Добро пожаловать в интерактивный пример работы с моделью **X-15** - легендарного экспериментального гиперзвукового самолёта! В этом notebook мы изучим:\n",
    "\n",
    "- 🛩️ **Модель X-15**: Линейная продольная модель гиперзвукового самолёта\n",
    "- 🎮 **Среда Gymnasium**: Создание и управление средой симуляции\n",
    "- 📊 **Анализ данных**: Исследование состояний, управляющих воздействий и наград\n",
    "- 🎯 **Система управления**: Понимание принципов управления гиперзвуковым полётом\n",
    "\n",
    "X-15 был революционным самолётом, который достигал скоростей свыше 6 Махов и высот более 100 км, внося огромный вклад в развитие космонавтики и аэродинамики высоких скоростей.\n",
    "\n",
    "---"
   ]
  },
  {
   "cell_type": "markdown",
   "id": "setup-header",
   "metadata": {},
   "source": [
    "## ⚙️ Настройка\n",
    "\n",
    "Начнём с настройки рабочей среды и импорта необходимых библиотек."
   ]
  },
  {
   "cell_type": "markdown",
   "id": "directory-header",
   "metadata": {},
   "source": [
    "### 📁 Настройка рабочей директории\n",
    "\n",
    "Переходим в корневую директорию проекта для корректного импорта модулей:"
   ]
  },
  {
   "cell_type": "code",
   "execution_count": 1,
   "id": "29162813",
   "metadata": {},
   "outputs": [
    {
     "name": "stdout",
     "output_type": "stream",
     "text": [
      "/app\n"
     ]
    }
   ],
   "source": [
    "# 📁 Переход в корневую директорию проекта\n",
    "print('🔄 Переходим в корневую директорию...')\n",
    "%cd ..\n",
    "print('✅ Рабочая директория настроена!')"
   ]
  },
  {
   "cell_type": "markdown",
   "id": "imports-header",
   "metadata": {},
   "source": [
    "### 📦 Импорт библиотек\n",
    "\n",
    "Загружаем необходимые модули для работы с моделью X-15:"
   ]
  },
  {
   "cell_type": "code",
   "execution_count": 2,
   "id": "59761eac",
   "metadata": {},
   "outputs": [],
   "source": [
    "# 🎮 Основные библиотеки для работы со средой\n",
    "import gym  # Фреймворк для сред обучения с подкреплением\n",
    "import numpy as np  # Библиотека для численных вычислений\n",
    "from tqdm import tqdm  # Прогресс-бары для циклов\n",
    "\n",
    "# 🚀 Специфичные модули TensorAeroSpace для X-15\n",
    "from tensoraerospace.envs import LinearLongitudinalX15  # Модель X-15\n",
    "from tensoraerospace.utils import generate_time_period, convert_tp_to_sec_tp  # Утилиты времени\n",
    "from tensoraerospace.signals.standart import unit_step  # Генератор ступенчатых сигналов\n",
    "\n",
    "# 📊 Информация о загруженных модулях\n",
    "print('📦 Библиотеки успешно загружены!')\n",
    "print('🚀 Модель X-15 готова к использованию!')\n",
    "print('🎯 Среда для гиперзвукового полёта настроена!')"
   ]
  },
  {
   "cell_type": "markdown",
   "id": "simulation-params-header",
   "metadata": {},
   "source": [
    "### ⚙️ Параметры симуляции\n",
    "\n",
    "Настраиваем временные параметры и опорные сигналы для симуляции гиперзвукового полёта X-15:"
   ]
  },
  {
   "cell_type": "code",
   "execution_count": 3,
   "id": "4425b561",
   "metadata": {},
   "outputs": [],
   "source": [
    "# ⏱️ Временные параметры симуляции\n",
    "dt = 0.01  # Шаг дискретизации (секунды)\n",
    "tp = generate_time_period(tn=20, dt=dt)  # Временной период (20 секунд)\n",
    "tps = convert_tp_to_sec_tp(tp, dt=dt)  # Преобразование в секунды\n",
    "number_time_steps = len(tp)  # Общее количество временных шагов\n",
    "\n",
    "# 🎯 Создание опорного сигнала (ступенчатый сигнал)\n",
    "reference_signals = np.reshape(\n",
    "    unit_step(degree=5, tp=tp, time_step=10, output_rad=True), \n",
    "    [1, -1]\n",
    ")\n",
    "\n",
    "# 📊 Информация о параметрах симуляции\n",
    "print('⏱️ Параметры времени:')\n",
    "print(f'   📏 Шаг дискретизации: {dt} сек')\n",
    "print(f'   ⏰ Общее время симуляции: {tp[-1]:.1f} сек')\n",
    "print(f'   🔢 Количество шагов: {number_time_steps}')\n",
    "print()\n",
    "print('🎯 Опорный сигнал:')\n",
    "print(f'   📐 Амплитуда ступеньки: {np.degrees(5):.1f}°')\n",
    "print(f'   ⏰ Время активации: {10 * dt:.1f} сек')\n",
    "print(f'   📊 Размерность сигнала: {reference_signals.shape}')"
   ]
  },
  {
   "cell_type": "markdown",
   "id": "environment-creation-header",
   "metadata": {},
   "source": [
    "### 🚀 Создание среды X-15\n",
    "\n",
    "Инициализируем среду симуляции гиперзвукового самолёта X-15 с заданными параметрами:"
   ]
  },
  {
   "cell_type": "code",
   "execution_count": 4,
   "id": "05443048",
   "metadata": {},
   "outputs": [],
   "source": [
    "# 🚀 Создание среды симуляции X-15\n",
    "print('🔧 Создаём среду LinearLongitudinalX15-v0...')\n",
    "\n",
    "env = gym.make(\n",
    "    'LinearLongitudinalX15-v0',\n",
    "    number_time_steps=number_time_steps,\n",
    "    initial_state=[[0], [0], [0], [0]],  # Начальное состояние [u, w, q, θ]\n",
    "    reference_signal=reference_signals\n",
    ")\n",
    "\n",
    "# 🔄 Сброс среды в начальное состояние\n",
    "initial_observation = env.reset()\n",
    "\n",
    "# 📊 Анализ начального состояния X-15\n",
    "print('✅ Среда X-15 успешно создана!')\n",
    "print()\n",
    "print('🛩️ Начальное состояние X-15:')\n",
    "print(f'   🏃 Продольная скорость (u): {initial_observation[0]:.6f} м/с')\n",
    "print(f'   ⬇️ Вертикальная скорость (w): {initial_observation[1]:.6f} м/с')\n",
    "print(f'   🔄 Угловая скорость тангажа (q): {initial_observation[2]:.6f} рад/с')\n",
    "print(f'   📐 Угол тангажа (θ): {initial_observation[3]:.6f} рад')\n",
    "print()\n",
    "print('🎯 X-15 готов к гиперзвуковому полёту!')"
   ]
  },
  {
   "cell_type": "markdown",
   "id": "simulation-step-header",
   "metadata": {},
   "source": [
    "### 🎮 Выполнение шага симуляции\n",
    "\n",
    "Применяем управляющее воздействие к X-15 и анализируем результат:"
   ]
  },
  {
   "cell_type": "code",
   "execution_count": 5,
   "id": "87d80940",
   "metadata": {},
   "outputs": [],
   "source": [
    "# 🎮 Применение управляющего воздействия\n",
    "control_input = np.array([[1]])  # Управляющий сигнал (отклонение руля высоты)\n",
    "\n",
    "print('🎯 Применяем управляющее воздействие к X-15...')\n",
    "print(f'🕹️ Управляющий сигнал: {control_input[0][0]:.3f}')\n",
    "print('⚡ Выполняем шаг симуляции...')\n",
    "\n",
    "# 🚀 Выполнение одного шага симуляции\n",
    "observation, reward, done, info = env.step(control_input)\n",
    "\n",
    "# 📊 Анализ результатов шага\n",
    "print('✅ Шаг симуляции выполнен!')\n",
    "print()\n",
    "print('📈 Результаты симуляции:')\n",
    "print(f'   🎯 Управляющий сигнал: {control_input[0][0]:.3f}')\n",
    "print(f'   🏁 Завершение эпизода: {done}')\n",
    "print(f'   🎁 Награда: {reward[0]:.2e}')\n",
    "print(f'   📊 Размерность наблюдения: {observation.shape}')\n",
    "print()\n",
    "print('🛩️ X-15 успешно отреагировал на управление!')"
   ]
  },
  {
   "cell_type": "markdown",
   "id": "model-data-analysis-header",
   "metadata": {},
   "source": [
    "### 🔍 Анализ внутренних данных модели\n",
    "\n",
    "Исследуем историю управляющих воздействий, сохранённую в модели X-15:"
   ]
  },
  {
   "cell_type": "code",
   "execution_count": 6,
   "id": "05461e52",
   "metadata": {},
   "outputs": [
    {
     "data": {
      "text/plain": [
       "array([[1., 0., 0., ..., 0., 0., 0.]])"
      ]
     },
     "execution_count": 6,
     "metadata": {},
     "output_type": "execute_result"
    }
   ],
   "source": [
    "# 🔍 Получение истории управляющих воздействий\n",
    "input_history = env.model.store_input\n",
    "\n",
    "# 📊 Анализ истории входных сигналов\n",
    "print('🔍 Анализ истории управляющих воздействий X-15:')\n",
    "print(f'📏 Размерность истории: {input_history.shape}')\n",
    "print(f'🔢 Количество ненулевых входов: {np.count_nonzero(input_history)}')\n",
    "print(f'🎯 Первые 5 значений: {input_history[0, :5]}')\n",
    "print(f'📈 Максимальное значение: {np.max(input_history):.3f}')\n",
    "print(f'📉 Минимальное значение: {np.min(input_history):.3f}')\n",
    "print()\n",
    "print('💡 История показывает применённые управляющие сигналы')\n",
    "print('   к рулю высоты X-15 на каждом временном шаге')\n",
    "\n",
    "input_history"
   ]
  },
  {
   "cell_type": "markdown",
   "id": "observation-analysis-header",
   "metadata": {},
   "source": [
    "### 📊 Анализ состояния X-15\n",
    "\n",
    "Исследуем текущее состояние гиперзвукового самолёта после применения управляющего воздействия:"
   ]
  },
  {
   "cell_type": "code",
   "execution_count": 7,
   "id": "b4239755",
   "metadata": {},
   "outputs": [
    {
     "data": {
      "text/plain": [
       "array([[-5.91396593e-09],\n",
       "       [-1.16165197e-06]])"
      ]
     },
     "execution_count": 7,
     "metadata": {},
     "output_type": "execute_result"
    }
   ],
   "source": [
    "# 📊 Анализ текущего состояния X-15\n",
    "current_observation = observation\n",
    "\n",
    "# 🛩️ Детальный разбор состояния\n",
    "print('📊 Анализ состояния X-15 после управляющего воздействия:')\n",
    "print(f'📏 Размерность наблюдения: {current_observation.shape}')\n",
    "print()\n",
    "\n",
    "# Примечание: В данной модели наблюдение содержит только часть состояния\n",
    "print('🔍 Компоненты наблюдения:')\n",
    "for i, value in enumerate(current_observation):\n",
    "    print(f'   📈 Компонент {i+1}: {value[0]:.2e}')\n",
    "\n",
    "print()\n",
    "print('💡 Наблюдение показывает изменения в динамике X-15')\n",
    "print('   после применения управляющего сигнала к рулю высоты')\n",
    "print('🚀 Значения в научной нотации указывают на малые изменения')\n",
    "print('   что характерно для начальных моментов управления')\n",
    "\n",
    "current_observation"
   ]
  },
  {
   "cell_type": "markdown",
   "id": "reward-analysis-header",
   "metadata": {},
   "source": [
    "### 🏆 Анализ системы наград\n",
    "\n",
    "Исследуем награду, полученную X-15 за выполненное управляющее воздействие:"
   ]
  },
  {
   "cell_type": "code",
   "execution_count": 8,
   "id": "1ab576cf",
   "metadata": {},
   "outputs": [
    {
     "data": {
      "text/plain": [
       "array([5.91396593e-09])"
      ]
     },
     "execution_count": 8,
     "metadata": {},
     "output_type": "execute_result"
    }
   ],
   "source": [
    "# 🏆 Анализ системы наград X-15\n",
    "current_reward = reward[0]\n",
    "\n",
    "# 🔍 Интерпретация награды\n",
    "print('🏆 Анализ награды за управление X-15:')\n",
    "print(f'🎯 Значение награды: {current_reward:.2e}')\n",
    "print(f'📊 Порядок величины: {np.log10(abs(current_reward)):.1f}')\n",
    "print()\n",
    "\n",
    "# 💡 Интерпретация результата\n",
    "if current_reward > 0:\n",
    "    print('✅ Положительная награда - хорошее управление!')\n",
    "    print('🚀 X-15 движется в правильном направлении')\n",
    "    print('📈 Система управления работает эффективно')\n",
    "elif current_reward == 0:\n",
    "    print('⚖️ Нейтральная награда - стабильное состояние')\n",
    "    print('🛩️ X-15 поддерживает текущий режим полёта')\n",
    "else:\n",
    "    print('❌ Отрицательная награда - требуется коррекция')\n",
    "    print('🔧 Необходимо улучшить управляющие воздействия')\n",
    "\n",
    "print()\n",
    "print('💡 Интерпретация для X-15:')\n",
    "print(f'   Награда {current_reward:.2e} отражает качество')\n",
    "print('   отслеживания опорного сигнала гиперзвуковым самолётом')\n",
    "print('🎯 Малое значение характерно для начальных этапов управления')\n",
    "\n",
    "reward"
   ]
  },
  {
   "cell_type": "markdown",
   "id": "conclusion-section",
   "metadata": {},
   "source": [
    "## 🎯 Заключение и следующие шаги\n",
    "\n",
    "### 📚 Что мы изучили:\n",
    "\n",
    "1. **🚀 Модель X-15** - экспериментальный гиперзвуковой самолёт\n",
    "2. **🏋️ Среда Gymnasium** - интерфейс для обучения с подкреплением\n",
    "3. **📊 Анализ состояния** - 4-мерный вектор наблюдений (скорости, угловая скорость, угол тангажа)\n",
    "4. **🎮 Система управления** - одномерные управляющие воздействия\n",
    "5. **🏆 Система наград** - оценка качества управления\n",
    "6. **📈 Мониторинг** - отслеживание внутренних данных модели\n",
    "\n",
    "### 🚀 Следующие шаги:\n",
    "\n",
    "1. **🤖 Обучение RL-агента** - создание интеллектуального пилота\n",
    "2. **⚙️ Настройка параметров** - оптимизация симуляции\n",
    "3. **🛩️ Сложные траектории** - тестирование различных манёвров\n",
    "4. **📊 Визуализация** - графики состояний и управления\n",
    "5. **🔬 Анализ производительности** - метрики качества управления\n",
    "\n",
    "### 📖 Полезные ресурсы:\n",
    "\n",
    "- [Reinforcement Learning: An Introduction](http://incompleteideas.net/book/the-book-2nd.html) - классический учебник по RL\n",
    "- [Gymnasium Documentation](https://gymnasium.farama.org/) - документация по средам RL\n",
    "- [TensorAeroSpace](https://github.com/TensorAeroSpace/TensorAeroSpace) - библиотека аэрокосмических сред\n",
    "\n",
    "---\n",
    "\n",
    "🎉 **Поздравляем!** Вы успешно освоили основы работы с гиперзвуковым самолётом X-15 в TensorAeroSpace. \n",
    "Используйте этот notebook как отправную точку для ваших исследований в области управления летательными аппаратами!"
   ]
  }
 ],
 "metadata": {
  "kernelspec": {
   "display_name": "Python 3 (ipykernel)",
   "language": "python",
   "name": "python3"
  },
  "language_info": {
   "codemirror_mode": {
    "name": "ipython",
    "version": 3
   },
   "file_extension": ".py",
   "mimetype": "text/x-python",
   "name": "python",
   "nbconvert_exporter": "python",
   "pygments_lexer": "ipython3",
   "version": "3.7.16"
  }
 },
 "nbformat": 4,
 "nbformat_minor": 5
}
