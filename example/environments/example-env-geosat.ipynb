{
 "cells": [
  {
   "cell_type": "markdown",
   "id": "title-cell",
   "metadata": {},
   "source": [
    "# 🛰️ Пример использования окружения GeoSat (Геостационарный спутник)\n",
    "\n",
    "Этот notebook демонстрирует работу с моделью геостационарного спутника в библиотеке TensorAeroSpace.\n",
    "\n",
    "## 📋 Что мы изучим:\n",
    "- Настройка параметров орбитальной симуляции\n",
    "- Создание и инициализация спутникового окружения\n",
    "- Выполнение маневров коррекции орбиты\n",
    "- Анализ динамики спутника\n"
   ]
  },
  {
   "cell_type": "markdown",
   "id": "imports-header",
   "metadata": {},
   "source": [
    "## 📦 Импорт необходимых библиотек\n",
    "\n",
    "Загружаем все необходимые модули для работы с окружением геостационарного спутника:"
   ]
  },
  {
   "cell_type": "code",
   "execution_count": 2,
   "id": "7bc885d6",
   "metadata": {},
   "outputs": [],
   "source": [
    "# Основные библиотеки\n",
    "import gymnasium as gym\n",
    "import numpy as np\n",
    "from tqdm import tqdm\n",
    "\n",
    "# Модули TensorAeroSpace для спутниковых систем\n",
    "from tensoraerospace.envs import GeoSatEnv\n",
    "from tensoraerospace.utils import generate_time_period, convert_tp_to_sec_tp\n",
    "from tensoraerospace.signals.standart import unit_step"
   ]
  },
  {
   "cell_type": "markdown",
   "id": "config-header",
   "metadata": {},
   "source": [
    "## ⚙️ Настройка параметров орбитальной симуляции\n",
    "\n",
    "Определяем основные параметры для моделирования движения геостационарного спутника:"
   ]
  },
  {
   "cell_type": "code",
   "execution_count": 3,
   "id": "5b5a8f3e",
   "metadata": {
    "pycharm": {
     "name": "#%%"
    }
   },
   "outputs": [],
   "source": [
    "# Параметры временной дискретизации\n",
    "dt = 0.01  # Шаг дискретизации (секунды)\n",
    "tp = generate_time_period(tn=20, dt=dt)  # Временной период симуляции (20 секунд)\n",
    "tps = convert_tp_to_sec_tp(tp, dt=dt)    # Преобразование в секунды\n",
    "\n",
    "# Параметры орбитальной симуляции\n",
    "number_time_steps = len(tp)  # Общее количество временных шагов\n",
    "\n",
    "# Создание эталонного сигнала для коррекции орбиты\n",
    "# (ступенчатый сигнал 5° на 10-й секунде для маневра)\n",
    "reference_signals = np.reshape(\n",
    "    unit_step(degree=5, tp=tp, time_step=10, output_rad=True), \n",
    "    [1, -1]\n",
    ")\n",
    "\n",
    "print(f'🛰️ Настройки орбитальной симуляции:')\n",
    "print(f'   • Время симуляции: {tp[-1]:.1f} секунд')\n",
    "print(f'   • Шаг дискретизации: {dt} секунд')\n",
    "print(f'   • Количество шагов: {number_time_steps}')\n",
    "print(f'   • Команда коррекции: {5}° на {10}-й секунде')"
   ]
  },
  {
   "cell_type": "markdown",
   "id": "env-creation-header",
   "metadata": {},
   "source": [
    "## 🌍 Создание и инициализация спутникового окружения\n",
    "\n",
    "Создаем окружение геостационарного спутника с заданными параметрами:"
   ]
  },
  {
   "cell_type": "code",
   "execution_count": 4,
   "id": "2668e4d6",
   "metadata": {},
   "outputs": [
    {
     "data": {
      "text/plain": [
       "(array([[0.],\n",
       "        [0.],\n",
       "        [0.]], dtype=float32),\n",
       " {})"
      ]
     },
     "execution_count": 4,
     "metadata": {},
     "output_type": "execute_result"
    }
   ],
   "source": [
    "# Создание окружения геостационарного спутника\n",
    "env = gym.make(\n",
    "    'GeoSat-v0',\n",
    "    number_time_steps=number_time_steps,\n",
    "    initial_state=[[0], [0], [0]],  # [позиция, скорость, ориентация] - начальное состояние\n",
    "    output_space=None,              # Автоматическое определение выходного пространства\n",
    "    reference_signal=reference_signals\n",
    ")\n",
    "\n",
    "# Сброс окружения в начальное состояние\n",
    "initial_observation, info = env.reset()\n",
    "\n",
    "print(f'🎯 Начальное состояние спутника:')\n",
    "print(f'   • Состояние 1: {initial_observation[0][0]:.3f}')\n",
    "print(f'   • Состояние 2: {initial_observation[1][0]:.3f}')\n",
    "print(f'   • Состояние 3: {initial_observation[2][0]:.3f}')\n",
    "print(f'   • Размерность состояния: {initial_observation.shape}')\n",
    "\n",
    "# Возвращаем результат для отображения\n",
    "(initial_observation, info)"
   ]
  },
  {
   "cell_type": "markdown",
   "id": "maneuver-header",
   "metadata": {},
   "source": [
    "## 🚀 Выполнение орбитального маневра\n",
    "\n",
    "Подаем команду на двигатели коррекции для изменения орбиты спутника:"
   ]
  },
  {
   "cell_type": "code",
   "execution_count": 6,
   "id": "6f7ebd29",
   "metadata": {
    "pycharm": {
     "name": "#%%"
    }
   },
   "outputs": [],
   "source": [
    "# Подача команды на двигатели коррекции орбиты\n",
    "thruster_command = np.array([[1]])  # 1 единица тяги двигателя\n",
    "\n",
    "# Выполнение одного шага орбитальной симуляции\n",
    "observation, reward, terminated, truncated, info = env.step(thruster_command)\n",
    "\n",
    "print(f'🛰️ Состояние после орбитального маневра:')\n",
    "print(f'   • Состояние 1: {observation[0][0]:.6f}')\n",
    "print(f'   • Состояние 2: {observation[1][0]:.6f}')\n",
    "print(f'   • Состояние 3: {observation[2][0]:.6f}')\n",
    "print(f'\n🎯 Результаты маневра:')\n",
    "print(f'   • Награда: {reward if isinstance(reward, (int, float)) else reward[0]:.8f}')\n",
    "print(f'   • Миссия завершена: {terminated}')\n",
    "print(f'   • Симуляция прервана: {truncated}')"
   ]
  },
  {
   "cell_type": "markdown",
   "id": "telemetry-header",
   "metadata": {},
   "source": [
    "## 📡 Анализ телеметрии спутника\n",
    "\n",
    "Исследуем внутренние данные модели для понимания динамики спутника:"
   ]
  },
  {
   "cell_type": "code",
   "execution_count": 9,
   "id": "76c9c14d",
   "metadata": {
    "pycharm": {
     "name": "#%%"
    }
   },
   "outputs": [
    {
     "data": {
      "text/plain": [
       "array([[1., 1., 0., ..., 0., 0., 0.]])"
      ]
     },
     "execution_count": 9,
     "metadata": {},
     "output_type": "execute_result"
    }
   ],
   "source": [
    "# Анализ истории команд управления\n",
    "command_history = env.unwrapped.model.store_input\n",
    "\n",
    "print(f'📈 История команд управления:')\n",
    "print(f'   • Размерность: {command_history.shape}')\n",
    "print(f'   • Активные команды: {np.count_nonzero(command_history)}')\n",
    "print(f'   • Первые 5 команд: {command_history[0][:5]}')\n",
    "print(f'   • Последние 5 команд: {command_history[0][-5:]}')\n",
    "\n",
    "# Возвращаем для отображения\n",
    "command_history"
   ]
  },
  {
   "cell_type": "code",
   "execution_count": 10,
   "id": "dc9b6906",
   "metadata": {},
   "outputs": [
    {
     "data": {
      "text/plain": [
       "0.0"
      ]
     },
     "execution_count": 10,
     "metadata": {},
     "output_type": "execute_result"
    }
   ],
   "source": [
    "# Анализ эталонного сигнала миссии\n",
    "current_reference = env.unwrapped.reference_signal[0][1]\n",
    "\n",
    "print(f'🎯 Эталонный сигнал миссии:')\n",
    "print(f'   • Текущее целевое значение: {current_reference:.3f}')\n",
    "print(f'   • Размерность сигнала: {env.unwrapped.reference_signal.shape}')\n",
    "print(f'   • Тип миссии: Коррекция геостационарной орбиты')\n",
    "\n",
    "# Возвращаем текущее значение\n",
    "current_reference"
   ]
  },
  {
   "cell_type": "markdown",
   "id": "performance-header",
   "metadata": {},
   "source": [
    "## 🏆 Анализ эффективности миссии\n",
    "\n",
    "Оцениваем качество выполненного орбитального маневра:"
   ]
  },
  {
   "cell_type": "code",
   "execution_count": 11,
   "id": "c404c317",
   "metadata": {},
   "outputs": [
    {
     "data": {
      "text/plain": [
       "array([2.34725824e-05])"
      ]
     },
     "execution_count": 11,
     "metadata": {},
     "output_type": "execute_result"
    }
   ],
   "source": [
    "# Детальный анализ эффективности маневра\n",
    "reward_value = reward[0] if isinstance(reward, np.ndarray) else reward\n",
    "\n",
    "print(f'🏆 Анализ эффективности миссии:')\n",
    "print(f'   • Значение награды: {reward_value:.2e}')\n",
    "print(f'   • Тип данных: {type(reward).__name__}')\n",
    "print(f'   • Размерность: {reward.shape if hasattr(reward, \"shape\") else \"скаляр\"}')\n",
    "\n",
    "if reward_value > 0:\n",
    "    print(f'   ✅ Успешный маневр - орбита скорректирована!')\n",
    "    print(f'   🛰️ Спутник движется к целевой позиции')\n",
    "elif reward_value < 0:\n",
    "    print(f'   ⚠️ Неэффективный маневр - требуется коррекция')\n",
    "    print(f'   🔧 Рекомендуется пересмотреть стратегию управления')\n",
    "else:\n",
    "    print(f'   ⚪ Нейтральный результат - спутник в стабильном состоянии')\n",
    "\n",
    "# Возвращаем значение награды\n",
    "reward"
   ]
  },
  {
   "cell_type": "markdown",
   "id": "conclusion-header",
   "metadata": {},
   "source": [
    "## 🎉 Заключение\n",
    "\n",
    "В этом примере мы успешно:\n",
    "\n",
    "✅ **Создали окружение геостационарного спутника** с правильными параметрами\n",
    "✅ **Настроили временные параметры** орбитальной симуляции\n",
    "✅ **Сгенерировали эталонный сигнал** для коррекции орбиты\n",
    "✅ **Выполнили орбитальные маневры** с помощью двигателей коррекции\n",
    "✅ **Проанализировали телеметрию** и эффективность миссии\n",
    "\n",
    "### 🚀 Следующие шаги:\n",
    "- Попробуйте различные стратегии управления двигателями\n",
    "- Измените параметры эталонного сигнала для разных типов маневров\n",
    "- Реализуйте автоматический контроллер для поддержания орбиты\n",
    "- Визуализируйте траекторию движения спутника\n",
    "- Добавьте анализ расхода топлива\n",
    "\n",
    "### 🛰️ Особенности геостационарных спутников:\n",
    "- **Высота орбиты**: ~35,786 км над экватором\n",
    "- **Период обращения**: 24 часа (синхронно с вращением Земли)\n",
    "- **Применение**: Телекоммуникации, метеорология, навигация\n",
    "- **Коррекция орбиты**: Необходима для компенсации возмущений\n",
    "\n",
    "---\n",
    "\n",
    "*Этот notebook демонстрирует возможности TensorAeroSpace для моделирования спутниковых систем и орбитальной механики.*"
   ]
  }
 ],
 "metadata": {
  "kernelspec": {
   "display_name": ".venv",
   "language": "python",
   "name": "python3"
  },
  "language_info": {
   "codemirror_mode": {
    "name": "ipython",
    "version": 3
   },
   "file_extension": ".py",
   "mimetype": "text/x-python",
   "name": "python",
   "nbconvert_exporter": "python",
   "pygments_lexer": "ipython3",
   "version": "3.11.7"
  }
 },
 "nbformat": 4,
 "nbformat_minor": 5
}
