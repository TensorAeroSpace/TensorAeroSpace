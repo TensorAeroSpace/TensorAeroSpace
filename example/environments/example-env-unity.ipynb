{
 "cells": [
  {
   "cell_type": "code",
   "execution_count": null,
   "metadata": {},
   "outputs": [],
   "source": [
    "!pip install gym-unity==0.28.0"
   ]
  },
  {
   "cell_type": "code",
   "execution_count": null,
   "metadata": {},
   "outputs": [],
   "source": [
    "from mlagents_envs.environment import UnityEnvironment\n",
    "from gym_unity.envs import UnityToGymWrapper\n",
    "\n",
    "\n",
    "def get_plane_env(env_path=\"\", server=False, worker=0):\n",
    "    \"\"\"Функция которая возвращает gym обёртку для нашей юнити среды\n",
    "\n",
    "    Returns:\n",
    "         env --> wrapped unity environment\n",
    "    \"\"\"\n",
    "\n",
    "    unity_env = UnityEnvironment(env_path, worker_id=worker, no_graphics=server)\n",
    "    \n",
    "    env = UnityToGymWrapper(unity_env, uint8_visual=True)\n",
    "    return env"
   ]
  },
  {
   "cell_type": "code",
   "execution_count": null,
   "metadata": {},
   "outputs": [],
   "source": [
    "env_path = None\n",
    "server = False"
   ]
  },
  {
   "cell_type": "code",
   "execution_count": null,
   "metadata": {},
   "outputs": [],
   "source": [
    "env = get_plane_env(env_path, server)"
   ]
  },
  {
   "cell_type": "code",
   "execution_count": null,
   "metadata": {},
   "outputs": [],
   "source": [
    "from tensoraerospace.envs.unity_env import unity_discrete_env\n",
    "wrapped_env = unity_discrete_env(env)"
   ]
  },
  {
   "cell_type": "code",
   "execution_count": null,
   "metadata": {},
   "outputs": [],
   "source": [
    "wrapped_env.reset()\n",
    "wrapped_env.step(1)\n",
    "wrapped_env.close()"
   ]
  }
 ],
 "metadata": {
  "language_info": {
   "name": "python"
  }
 },
 "nbformat": 4,
 "nbformat_minor": 2
}
