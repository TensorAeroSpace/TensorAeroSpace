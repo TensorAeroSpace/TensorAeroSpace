{
 "cells": [
  {
   "cell_type": "markdown",
   "id": "title-cell",
   "metadata": {},
   "source": [
    "# 🚀 Пример использования LinearLongitudinalF16\n",
    "\n",
    "Этот notebook демонстрирует работу с продольной динамической моделью самолёта F-16 в библиотеке TensorAeroSpace.\n",
    "\n",
    "## 📋 Что мы изучим:\n",
    "- Создание и настройка среды F-16\n",
    "- Генерация опорных сигналов\n",
    "- Выполнение шагов симуляции\n",
    "- Анализ результатов\n",
    "\n",
    "---"
   ]
  },
  {
   "cell_type": "markdown",
   "id": "imports-header",
   "metadata": {},
   "source": [
    "## 📦 Импорт необходимых библиотек\n",
    "\n",
    "Загружаем все необходимые модули для работы с моделью F-16:"
   ]
  },
  {
   "cell_type": "code",
   "execution_count": 1,
   "id": "7bc885d6",
   "metadata": {
    "execution": {
     "iopub.execute_input": "2025-06-27T08:28:09.400916Z",
     "iopub.status.busy": "2025-06-27T08:28:09.400805Z",
     "iopub.status.idle": "2025-06-27T08:28:16.365489Z",
     "shell.execute_reply": "2025-06-27T08:28:16.365119Z"
    }
   },
   "outputs": [],
   "source": [
    "# Основные библиотеки\n",
    "import gymnasium as gym \n",
    "import numpy as np\n",
    "from tqdm import tqdm\n",
    "\n",
    "# Модули TensorAeroSpace\n",
    "from tensoraerospace.envs import LinearLongitudinalF16\n",
    "from tensoraerospace.utils import generate_time_period, convert_tp_to_sec_tp\n",
    "from tensoraerospace.signals.standart import unit_step\n",
    "from tensoraerospace.agent.ihdp.model import IHDPAgent"
   ]
  },
  {
   "cell_type": "markdown",
   "id": "config-header",
   "metadata": {},
   "source": [
    "## ⚙️ Настройка параметров симуляции\n",
    "\n",
    "Определяем временные параметры и создаём опорный сигнал для управления углом тангажа:"
   ]
  },
  {
   "cell_type": "code",
   "execution_count": 2,
   "id": "5b5a8f3e",
   "metadata": {
    "execution": {
     "iopub.execute_input": "2025-06-27T08:28:16.367918Z",
     "iopub.status.busy": "2025-06-27T08:28:16.367693Z",
     "iopub.status.idle": "2025-06-27T08:28:16.370450Z",
     "shell.execute_reply": "2025-06-27T08:28:16.370017Z"
    },
    "pycharm": {
     "name": "#%%\n"
    }
   },
   "outputs": [],
   "source": [
    "# Параметры времени\n",
    "dt = 0.01  # Шаг дискретизации (секунды)\n",
    "tp = generate_time_period(tn=20, dt=dt)  # Временной период 20 секунд\n",
    "tps = convert_tp_to_sec_tp(tp, dt=dt)  # Преобразование в секунды\n",
    "number_time_steps = len(tp)  # Общее количество временных шагов\n",
    "\n",
    "# Создание опорного сигнала\n",
    "reference_signals = unit_step(degree=5, tp=tp, time_step=10, output_rad=True)\n",
    "reference_signals = np.reshape(reference_signals, [1, -1])  # Формат: [1, время] для отслеживания угла тангажа\n",
    "\n",
    "print(f'📊 Параметры симуляции:')\n",
    "print(f'   • Шаг времени: {dt} сек')\n",
    "print(f'   • Общее время: {tp[-1]:.1f} сек')\n",
    "print(f'   • Количество шагов: {number_time_steps}')\n",
    "print(f'   • Размер опорного сигнала: {reference_signals.shape}')"
   ]
  },
   {
    "cell_type": "markdown",
    "id": "env-creation-header",
    "metadata": {},
    "source": [
     "## 🛩️ Создание среды F-16\n",
     "\n",
     "Создаём среду продольной динамики F-16 с 5 состояниями:\n",
     "- **theta** - угол тангажа\n",
     "- **alpha** - угол атаки\n",
     "- **q** - угловая скорость тангажа\n",
     "- **altitude** - высота\n",
     "- **velocity** - скорость"
    ]
   },
   {
    "cell_type": "code",
    "execution_count": 3,
    "id": "2668e4d6",
    "metadata": {
     "execution": {
      "iopub.execute_input": "2025-06-27T08:28:16.372267Z",
      "iopub.status.busy": "2025-06-27T08:28:16.372153Z",
      "iopub.status.idle": "2025-06-27T08:28:16.397881Z",
      "shell.execute_reply": "2025-06-27T08:28:16.395247Z"
     }
    },
    "outputs": [
     {
      "data": {
       "text/plain": [
        "(array([[0.],\n",
        "        [0.],\n",
        "        [0.],\n",
        "        [0.],\n",
        "        [0.]], dtype=float32),\n",
        " {})"
       ]
      },
      "execution_count": 3,
      "metadata": {},
      "output_type": "execute_result"
     }
    ],
    "source": [
     "# Создание среды F-16 с полной конфигурацией\n",
     "env = gym.make('LinearLongitudinalF16-v0',\n",
     "                number_time_steps=number_time_steps,  # Количество временных шагов\n",
     "                initial_state=[[0],[0],[0],[0],[0]],  # Начальное состояние (все нули)\n",
     "                reference_signal=reference_signals,   # Опорный сигнал\n",
     "                state_space=[\"theta\", \"alpha\", \"q\", \"altitude\", \"velocity\"],  # Пространство состояний\n",
     "                output_space=[\"theta\", \"alpha\", \"q\", \"altitude\", \"velocity\"], # Выходное пространство\n",
     "                tracking_states=[\"theta\"],           # Отслеживаемые состояния\n",
     "                use_reward=False)                    # Без функции награды\n",
     "\n",
     "# Инициализация среды\n",
     "initial_observation, info = env.reset()\n",
     "print(f'✅ Среда F-16 успешно создана!')\n",
     "print(f'📏 Размер начального наблюдения: {initial_observation.shape}')\n",
     "initial_observation, info"
    ]
   },
   {
    "cell_type": "markdown",
    "id": "simulation-header",
    "metadata": {},
    "source": [
     "## 🎮 Выполнение шага симуляции\n",
     "\n",
     "Применяем управляющее воздействие (отклонение руля высоты) и наблюдаем реакцию системы:"
    ]
   },
   {
    "cell_type": "code",
    "execution_count": 4,
    "id": "6f7ebd29",
    "metadata": {
     "execution": {
      "iopub.execute_input": "2025-06-27T08:28:16.404300Z",
      "iopub.status.busy": "2025-06-27T08:28:16.403993Z",
      "iopub.status.idle": "2025-06-27T08:28:16.425855Z",
      "shell.execute_reply": "2025-06-27T08:28:16.424226Z"
     },
     "pycharm": {
      "name": "#%%\n"
     }
    },
    "outputs": [
     {
      "name": "stderr",
      "output_type": "stream",
      "text": [
       "/Users/asmazaev/Projects/TensorAeroSpace/.venv/lib/python3.11/site-packages/gymnasium/utils/passive_env_checker.py:135: UserWarning: \u001b[33mWARN: The obs returned by the `step()` method was expecting numpy array dtype to be float32, actual type: float64\u001b[0m\n",
       "  logger.warn(\n",
       "/Users/asmazaev/Projects/TensorAeroSpace/.venv/lib/python3.11/site-packages/gymnasium/utils/passive_env_checker.py:159: UserWarning: \u001b[33mWARN: The obs returned by the `step()` method is not within the observation space.\u001b[0m\n",
       "  logger.warn(f\"{pre} is not within the observation space.\")\n"
      ]
     }
    ],
    "source": [
     "# Применение управляющего воздействия\n",
     "control_action = np.array([1])  # Отклонение руля высоты (elevator)\n",
     "\n",
     "# Выполнение одного шага симуляции\n",
     "observation, reward, terminated, truncated, info = env.step(control_action)\n",
     "\n",
     "print(f'🎯 Управляющее воздействие: {control_action[0]}')\n",
     "print(f'🏆 Награда: {reward}')\n",
     "print(f'🔚 Завершено: {terminated}')\n",
     "print(f'⏰ Прервано по времени: {truncated}')"
    ]
   },
   {
    "cell_type": "markdown",
    "id": "results-header",
    "metadata": {},
    "source": [
     "## 📊 Анализ результатов\n",
     "\n",
     "Рассмотрим полученные наблюдения и награды после выполнения шага:"
    ]
   },
   {
    "cell_type": "code",
    "execution_count": 5,
    "id": "021d5acc",
    "metadata": {
     "execution": {
      "iopub.execute_input": "2025-06-27T08:28:16.450466Z",
      "iopub.status.busy": "2025-06-27T08:28:16.448593Z",
      "iopub.status.idle": "2025-06-27T08:28:16.458173Z",
      "shell.execute_reply": "2025-06-27T08:28:16.456347Z"
     }
    },
    "outputs": [
     {
      "data": {
       "text/plain": [
        "array([[0.],\n",
        "       [0.],\n",
        "       [0.],\n",
        "       [0.],\n",
        "       [0.]])"
       ]
      },
      "execution_count": 5,
      "metadata": {},
      "output_type": "execute_result"
     }
    ],
    "source": [
     "# Текущее состояние системы после применения управления\n",
     "print('🔍 Состояние системы F-16:')\n",
     "print(f'   • Угол тангажа (theta): {observation[0][0]:.6f} рад')\n",
     "print(f'   • Угол атаки (alpha): {observation[1][0]:.6f} рад')\n",
     "print(f'   • Угловая скорость тангажа (q): {observation[2][0]:.6f} рад/с')\n",
     "print(f'   • Высота (altitude): {observation[3][0]:.6f} м')\n",
     "print(f'   • Скорость (velocity): {observation[4][0]:.6f} м/с')\n",
     "\n",
     "observation"
    ]
   },
   {
    "cell_type": "markdown",
    "id": "reward-analysis",
    "metadata": {},
    "source": [
     "### 🎯 Анализ награды\n",
     "\n",
     "Оценим качество управления через полученную награду:"
    ]
   },
   {
    "cell_type": "code",
    "execution_count": 6,
    "id": "c404c317",
    "metadata": {
     "execution": {
      "iopub.execute_input": "2025-06-27T08:28:16.470318Z",
      "iopub.status.busy": "2025-06-27T08:28:16.469939Z",
      "iopub.status.idle": "2025-06-27T08:28:16.474882Z",
      "shell.execute_reply": "2025-06-27T08:28:16.473843Z"
     }
    },
    "outputs": [
     {
      "data": {
       "text/plain": [
        "1"
       ]
      },
      "execution_count": 6,
      "metadata": {},
      "output_type": "execute_result"
     }
    ],
    "source": [
     "# Анализ полученной награды\n",
     "print('🎯 Анализ награды:')\n",
     "print(f'   • Текущая награда: {reward:.6f}')\n",
     "\n",
     "if reward >= 0:\n",
     "    print('   ✅ Положительная награда - хорошее управление!')\n",
     "elif reward < 0:\n",
     "    print('   ⚠️  Отрицательная награда - требуется улучшение управления')\n",
     "\n",
     "print('\\n📈 Интерпретация:')\n",
     "print('   • Награда отражает качество отслеживания опорного сигнала')\n",
     "print('   • Чем ближе к нулю отклонение, тем выше награда')\n",
     "print('   • Отрицательные значения указывают на ошибки управления')\n",
     "\n",
     "reward"
    ]
   },
   {
    "cell_type": "markdown",
    "id": "conclusion",
    "metadata": {},
    "source": [
     "### 🏁 Завершение эпизода\n",
     "\n",
     "Проверим статус завершения симуляции:"
    ]
   },
   {
    "cell_type": "code",
    "execution_count": 7,
    "id": "conclusion-code",
    "metadata": {
     "execution": {
      "iopub.execute_input": "2025-06-27T08:28:16.470318Z",
      "iopub.status.busy": "2025-06-27T08:28:16.469939Z",
      "iopub.status.idle": "2025-06-27T08:28:16.474882Z",
      "shell.execute_reply": "2025-06-27T08:28:16.473843Z"
     }
    },
    "outputs": [
     {
      "data": {
       "text/plain": [
        "False"
       ]
      },
      "execution_count": 7,
      "metadata": {},
      "output_type": "execute_result"
     }
    ],
    "source": [
     "# Проверка статуса завершения эпизода\n",
     "done = terminated or truncated\n",
     "print('🏁 Статус симуляции:')\n",
     "if done:\n",
     "    print('   ✅ Эпизод завершен')\n",
     "    print('   📊 Можно анализировать результаты или начать новый эпизод')\n",
     "else:\n",
     "    print('   🔄 Эпизод продолжается')\n",
     "    print('   ➡️  Можно выполнить следующий шаг симуляции')\n",
     "\n",
     "print(f'\\n🔢 Числовое значение done: {done}')\n",
     "print('   • True = эпизод завершен')\n",
     "print('   • False = эпизод продолжается')\n",
     "\n",
     "done"
    ]
   },
  {
   "cell_type": "markdown",
   "id": "final-conclusion",
   "metadata": {},
   "source": [
    "---\n",
    "\n",
    "## 🎓 Заключение\n",
    "\n",
    "В этом примере мы продемонстрировали основы работы с **линейной продольной моделью F-16** в TensorAeroSpace:\n",
    "\n",
    "### ✅ Что мы изучили:\n",
    "- 🛠️ **Создание среды**: Инициализация LinearLongitudinalF16Environment\n",
    "- 🎯 **Настройка параметров**: Конфигурация симуляции и опорных сигналов\n",
    "- 🚀 **Выполнение шагов**: Применение управляющих воздействий\n",
    "- 📊 **Анализ результатов**: Интерпретация состояний, наград и статусов\n",
    "\n",
    "### 🔄 Следующие шаги:\n",
    "- 🎮 **Попробуйте разные управляющие воздействия** для изучения поведения системы\n",
    "- 📈 **Реализуйте контроллер** для автоматического управления\n",
    "- 🧠 **Обучите агента обучения с подкреплением** для оптимального управления\n",
    "- 📋 **Изучите другие среды** в TensorAeroSpace\n",
    "\n",
    "### 📚 Полезные ресурсы:\n",
    "- [Документация TensorAeroSpace](https://tensoraerospace.readthedocs.io/)\n",
    "- [Примеры использования](https://github.com/TensorAeroSpace/TensorAeroSpace/tree/main/examples)\n",
    "- [Теория управления летательными аппаратами](https://en.wikipedia.org/wiki/Aircraft_flight_dynamics)\n",
    "\n",
    "**Удачи в изучении аэрокосмических систем! 🚀✈️**"
   ]
  }
 ],
 "metadata": {
  "kernelspec": {
   "display_name": ".venv",
   "language": "python",
   "name": "python3"
  },
  "language_info": {
   "codemirror_mode": {
    "name": "ipython",
    "version": 3
   },
   "file_extension": ".py",
   "mimetype": "text/x-python",
   "name": "python",
   "nbconvert_exporter": "python",
   "pygments_lexer": "ipython3",
   "version": "3.11.7"
  }
 },
 "nbformat": 4,
 "nbformat_minor": 5
}
