{
 "cells": [
  {
   "cell_type": "markdown",
   "id": "title-header",
   "metadata": {},
   "source": [
    "# 🛩️ Пример работы с LinearLongitudinalUAV в TensorAeroSpace\n",
    "\n",
    "Добро пожаловать в интерактивный пример работы с **LinearLongitudinalUAV** - линеаризованной продольной моделью беспилотного летательного аппарата (БПЛА)! ✈️\n",
    "\n",
    "## 📋 Описание\n",
    "\n",
    "В этом notebook мы изучим:\n",
    "\n",
    "- 🔧 **Настройку параметров симуляции** для БПЛА\n",
    "- 🎯 **Создание опорных сигналов** с помощью unit_step\n",
    "- 🛩️ **Инициализацию среды** LinearLongitudinalUAV\n",
    "- 🎮 **Выполнение шагов симуляции** с управляющими воздействиями\n",
    "- 📊 **Анализ результатов** и состояний системы\n",
    "\n",
    "LinearLongitudinalUAV представляет собой упрощенную модель продольного движения БПЛА, которая идеально подходит для изучения основ управления летательными аппаратами и разработки алгоритмов автопилота.\n",
    "\n",
    "---"
   ]
  },
  {
   "cell_type": "markdown",
   "id": "setup-header",
   "metadata": {},
   "source": [
    "## 🚀 Настройка среды\n",
    "\n",
    "Начнем с подготовки рабочего окружения и импорта необходимых библиотек."
   ]
  },
  {
   "cell_type": "markdown",
   "id": "imports-header",
   "metadata": {},
   "source": [
    "### 📦 Импорт библиотек\n",
    "\n",
    "Импортируем все необходимые модули для работы с БПЛА:"
   ]
  },
  {
   "cell_type": "code",
   "execution_count": 1,
   "id": "7bc885d6",
   "metadata": {},
   "outputs": [],
   "source": [
    "# 📚 Основные библиотеки для работы с окружениями и численными вычислениями\n",
    "import gymnasium as gym\n",
    "import numpy as np\n",
    "from tqdm import tqdm\n",
    "\n",
    "# 🛩️ Специализированные модули TensorAeroSpace для БПЛА\n",
    "from tensoraerospace.envs import LinearLongitudinalUAV\n",
    "from tensoraerospace.utils import generate_time_period, convert_tp_to_sec_tp\n",
    "from tensoraerospace.signals.standart import unit_step\n",
    "\n",
    "print(\"✅ Все библиотеки успешно импортированы!\")\n",
    "print(\"🛩️ Готовы к работе с LinearLongitudinalUAV\")"
   ]
  },
  {
   "cell_type": "markdown",
   "id": "simulation-params-header",
   "metadata": {},
   "source": [
    "### ⚙️ Параметры симуляции\n",
    "\n",
    "Настроим основные параметры для симуляции БПЛА:"
   ]
  },
  {
   "cell_type": "code",
   "execution_count": 2,
   "id": "5b5a8f3e",
   "metadata": {
    "pycharm": {
     "name": "#%%\n"
    }
   },
   "outputs": [],
   "source": [
    "# ⏱️ Временные параметры симуляции\n",
    "dt = 0.01  # Шаг дискретизации (секунды) - определяет точность симуляции\n",
    "tp = generate_time_period(tn=20, dt=dt)  # Временной период: 20 секунд симуляции\n",
    "tps = convert_tp_to_sec_tp(tp, dt=dt)  # Преобразование в секунды\n",
    "number_time_steps = len(tp)  # Общее количество временных шагов\n",
    "\n",
    "# 🎯 Создание опорного сигнала (целевая траектория)\n",
    "# unit_step создает ступенчатый сигнал: 5 градусов на 10-м шаге\n",
    "reference_signals = np.reshape(\n",
    "    unit_step(degree=5, tp=tp, time_step=10, output_rad=True), \n",
    "    [1, -1]\n",
    ")\n",
    "\n",
    "# 📊 Вывод информации о параметрах симуляции\n",
    "print(f\"⏱️ Шаг дискретизации: {dt} сек\")\n",
    "print(f\"🕐 Общее время симуляции: {tp[-1]:.1f} сек\")\n",
    "print(f\"📈 Количество временных шагов: {number_time_steps}\")\n",
    "print(f\"🎯 Опорный сигнал: ступенька {np.degrees(reference_signals[0, 15]):.1f}° на {10*dt:.1f} сек\")"
   ]
  },
  {
   "cell_type": "markdown",
   "id": "env-creation-header",
   "metadata": {},
   "source": [
    "### 🛩️ Создание среды БПЛА\n",
    "\n",
    "Инициализируем среду LinearLongitudinalUAV с заданными параметрами:"
   ]
  },
  {
   "cell_type": "code",
   "execution_count": 3,
   "id": "2668e4d6",
   "metadata": {},
   "outputs": [
    {
     "name": "stderr",
     "output_type": "stream",
     "text": [
      "/Users/asmazaev/Projects/TensorAeroSpace/.venv/lib/python3.11/site-packages/gymnasium/utils/passive_env_checker.py:159: UserWarning: \u001b[33mWARN: The obs returned by the `reset()` method is not within the observation space.\u001b[0m\n",
      "  logger.warn(f\"{pre} is not within the observation space.\")\n"
     ]
    },
    {
     "data": {
      "text/plain": [
       "(array([[0.],\n",
       "        [0.],\n",
       "        [0.],\n",
       "        [0.]], dtype=float32),\n",
       " {})"
      ]
     },
     "execution_count": 3,
     "metadata": {},
     "output_type": "execute_result"
    }
   ],
   "source": [
    "# 🏗️ Создание среды LinearLongitudinalUAV\n",
    "env = gym.make(\n",
    "    'LinearLongitudinalUAV-v0',  # Идентификатор среды БПЛА\n",
    "    number_time_steps=number_time_steps,  # Количество временных шагов\n",
    "    initial_state=[[0],[0],[0],[0]],  # Начальное состояние: [u, w, q, θ] = [0, 0, 0, 0]\n",
    "    output_space=None,  # Автоматическое определение пространства выходов\n",
    "    reference_signal=reference_signals  # Опорный сигнал для отслеживания\n",
    ")\n",
    "\n",
    "# 🔄 Сброс среды в начальное состояние\n",
    "initial_observation, info = env.reset()\n",
    "\n",
    "# 📊 Анализ начального состояния БПЛА\n",
    "print(\"🛩️ Среда LinearLongitudinalUAV успешно создана!\")\n",
    "print(\"\\n📋 Начальное состояние БПЛА:\")\n",
    "print(f\"   u (продольная скорость): {initial_observation[0][0]:.3f} м/с\")\n",
    "print(f\"   w (вертикальная скорость): {initial_observation[1][0]:.3f} м/с\")\n",
    "print(f\"   q (угловая скорость тангажа): {initial_observation[2][0]:.3f} рад/с\")\n",
    "print(f\"   θ (угол тангажа): {np.degrees(initial_observation[3][0]):.3f}°\")\n",
    "\n",
    "initial_observation"
   ]
  },
  {
   "cell_type": "markdown",
   "id": "simulation-step-header",
   "metadata": {},
   "source": [
    "### 🎮 Выполнение шага симуляции\n",
    "\n",
    "Применим управляющее воздействие и выполним один шаг симуляции:"
   ]
  },
  {
   "cell_type": "code",
   "execution_count": 5,
   "id": "6f7ebd29",
   "metadata": {
    "pycharm": {
     "name": "#%%\n"
    }
   },
   "outputs": [],
   "source": [
    "# 🎮 Применение управляющего воздействия\n",
    "# Подаем управляющий сигнал: 1 единица (например, отклонение руля высоты)\n",
    "control_input = np.array([[1]])  # Управляющее воздействие\n",
    "\n",
    "# 🚀 Выполнение одного шага симуляции\n",
    "observation, reward, terminated, truncated, info = env.step(control_input)\n",
    "\n",
    "# 📊 Вывод информации о выполненном шаге\n",
    "print(\"🎮 Шаг симуляции выполнен!\")\n",
    "print(f\"🎯 Управляющее воздействие: {control_input[0][0]}\")\n",
    "print(f\"🏁 Эпизод завершен: {terminated}\")\n",
    "print(f\"⏰ Время истекло: {truncated}\")\n",
    "print(f\"📈 Награда: {reward[0]:.6f}\")"
   ]
  },
  {
   "cell_type": "markdown",
   "id": "model-analysis-header",
   "metadata": {},
   "source": [
    "### 🔍 Анализ внутренних данных модели\n",
    "\n",
    "Исследуем историю управляющих воздействий, сохраненную в модели:"
   ]
  },
  {
   "cell_type": "code",
   "execution_count": 6,
   "id": "76c9c14d",
   "metadata": {
    "pycharm": {
     "name": "#%%\n"
    }
   },
   "outputs": [
    {
     "name": "stderr",
     "output_type": "stream",
     "text": [
      "/Users/asmazaev/Projects/TensorAeroSpace/.venv/lib/python3.11/site-packages/gymnasium/core.py:311: UserWarning: \u001b[33mWARN: env.model to get variables from other wrappers is deprecated and will be removed in v1.0, to get this variable you can do `env.unwrapped.model` for environment variables or `env.get_wrapper_attr('model')` that will search the reminding wrappers.\u001b[0m\n",
      "  logger.warn(\n"
     ]
    },
    {
     "data": {
      "text/plain": [
       "array([[1., 1., 0., ..., 0., 0., 0.]])"
      ]
     },
     "execution_count": 6,
     "metadata": {},
     "output_type": "execute_result"
    }
   ],
   "source": [
    "# 📚 Получение истории управляющих воздействий\n",
    "input_history = env.model.store_input\n",
    "\n",
    "# 🔍 Анализ истории управления\n",
    "print(\"📚 История управляющих воздействий:\")\n",
    "print(f\"📏 Размерность: {input_history.shape}\")\n",
    "print(f\"🎮 Количество ненулевых воздействий: {np.count_nonzero(input_history)}\")\n",
    "print(f\"🎯 Первые 5 значений: {input_history[0, :5]}\")\n",
    "print(f\"📊 Максимальное воздействие: {np.max(input_history):.3f}\")\n",
    "print(f\"📉 Минимальное воздействие: {np.min(input_history):.3f}\")\n",
    "\n",
    "input_history"
   ]
  },
  {
   "cell_type": "markdown",
   "id": "reference-signal-header",
   "metadata": {},
   "source": [
    "### 🎯 Анализ опорного сигнала\n",
    "\n",
    "Исследуем опорный сигнал, который БПЛА должен отслеживать:"
   ]
  },
  {
   "cell_type": "code",
   "execution_count": 7,
   "id": "dc9b6906",
   "metadata": {},
   "outputs": [
    {
     "name": "stderr",
     "output_type": "stream",
     "text": [
      "/Users/asmazaev/Projects/TensorAeroSpace/.venv/lib/python3.11/site-packages/gymnasium/core.py:311: UserWarning: \u001b[33mWARN: env.reference_signal to get variables from other wrappers is deprecated and will be removed in v1.0, to get this variable you can do `env.unwrapped.reference_signal` for environment variables or `env.get_wrapper_attr('reference_signal')` that will search the reminding wrappers.\u001b[0m\n",
      "  logger.warn(\n"
     ]
    },
    {
     "data": {
      "text/plain": [
       "0.0"
      ]
     },
     "execution_count": 7,
     "metadata": {},
     "output_type": "execute_result"
    }
   ],
   "source": [
    "# 🎯 Получение опорного сигнала\n",
    "ref_signal = env.reference_signal\n",
    "current_ref_value = env.reference_signal[0][1]  # Текущее значение на втором шаге\n",
    "\n",
    "# 📊 Анализ опорного сигнала\n",
    "print(\"🎯 Анализ опорного сигнала:\")\n",
    "print(f\"📏 Размерность: {ref_signal.shape}\")\n",
    "print(f\"🔢 Текущее значение (шаг 1): {current_ref_value:.3f} рад\")\n",
    "print(f\"📐 В градусах: {np.degrees(current_ref_value):.3f}°\")\n",
    "print(f\"🎯 Значение после ступеньки (шаг 15): {np.degrees(ref_signal[0, 15]):.3f}°\")\n",
    "print(f\"📈 Максимальное значение: {np.degrees(np.max(ref_signal)):.3f}°\")\n",
    "print(f\"📉 Минимальное значение: {np.degrees(np.min(ref_signal)):.3f}°\")\n",
    "\n",
    "current_ref_value"
   ]
  },
  {
   "cell_type": "markdown",
   "id": "reward-analysis-header",
   "metadata": {},
   "source": [
    "### 📈 Анализ награды\n",
    "\n",
    "Исследуем систему наград, которая оценивает качество управления БПЛА:"
   ]
  },
  {
   "cell_type": "code",
   "execution_count": 8,
   "id": "c404c317",
   "metadata": {},
   "outputs": [
    {
     "data": {
      "text/plain": [
       "array([0.00463475])"
      ]
     },
     "execution_count": 8,
     "metadata": {},
     "output_type": "execute_result"
    }
   ],
   "source": [
    "# 📈 Анализ системы наград\n",
    "current_reward = reward[0]\n",
    "\n",
    "# 🔍 Интерпретация награды\n",
    "print(\"📈 Анализ награды за текущий шаг:\")\n",
    "print(f\"🎯 Значение награды: {current_reward:.6f}\")\n",
    "\n",
    "if current_reward > 0:\n",
    "    print(\"✅ Положительная награда - хорошее управление!\")\n",
    "    print(\"📊 БПЛА движется в правильном направлении\")\n",
    "elif current_reward == 0:\n",
    "    print(\"⚖️ Нейтральная награда - стабильное состояние\")\n",
    "else:\n",
    "    print(\"❌ Отрицательная награда - требуется коррекция\")\n",
    "    print(\"🔧 Необходимо улучшить управляющие воздействия\")\n",
    "\n",
    "print(f\"\\n💡 Интерпретация: Награда {current_reward:.6f} указывает на\")\n",
    "print(\"   качество отслеживания опорного сигнала БПЛА\")\n",
    "\n",
    "reward"
   ]
  },
  {
   "cell_type": "markdown",
   "id": "conclusion",
   "metadata": {},
   "source": [
    "## 🎓 Заключение\n",
    "\n",
    "### 📚 Что мы изучили:\n",
    "\n",
    "1. **🚁 Модель БПЛА**: Познакомились с линейной продольной моделью беспилотного летательного аппарата\n",
    "2. **🎮 Среда Gymnasium**: Научились создавать и взаимодействовать со средой `LinearLongitudinalUAV-v0`\n",
    "3. **📊 Анализ состояний**: Изучили компоненты состояния БПЛА (скорости, угловые скорости, углы)\n",
    "4. **🎯 Управление**: Поняли принципы применения управляющих воздействий\n",
    "5. **📈 Система наград**: Разобрали механизм оценки качества управления\n",
    "6. **🔍 Мониторинг**: Освоили методы анализа внутренних данных модели\n",
    "\n",
    "### 🚀 Следующие шаги:\n",
    "\n",
    "- **🤖 Обучение RL-агентов**: Используйте эту среду для тренировки алгоритмов обучения с подкреплением\n",
    "- **📐 Настройка параметров**: Экспериментируйте с различными параметрами симуляции\n",
    "- **🎯 Сложные траектории**: Создавайте более сложные опорные сигналы\n",
    "- **📊 Визуализация**: Добавьте графики для анализа поведения БПЛА\n",
    "\n",
    "### 📖 Полезные ресурсы:\n",
    "\n",
    "- [Документация TensorAeroSpace](https://github.com/TensorAeroSpace/TensorAeroSpace)\n",
    "- [Gymnasium Documentation](https://gymnasium.farama.org/)\n",
    "- [Reinforcement Learning: An Introduction](http://incompleteideas.net/book/the-book.html)\n",
    "\n",
    "---\n",
    "\n",
    "*💡 Этот notebook демонстрирует основы работы с моделью БПЛА в TensorAeroSpace. Используйте его как отправную точку для ваших исследований в области управления летательными аппаратами!*"
   ]
  }
 ],
 "metadata": {
  "kernelspec": {
   "display_name": ".venv",
   "language": "python",
   "name": "python3"
  },
  "language_info": {
   "codemirror_mode": {
    "name": "ipython",
    "version": 3
   },
   "file_extension": ".py",
   "mimetype": "text/x-python",
   "name": "python",
   "nbconvert_exporter": "python",
   "pygments_lexer": "ipython3",
   "version": "3.11.7"
  }
 },
 "nbformat": 4,
 "nbformat_minor": 5
}
