{
 "cells": [
  {
   "cell_type": "markdown",
   "id": "title-cell",
   "metadata": {},
   "source": [
    "# 🚀 Пример работы с моделью ELV Rocket\n",
    "\n",
    "Этот notebook демонстрирует использование линейной продольной модели ракеты-носителя (ELV - Expendable Launch Vehicle) в среде TensorAeroSpace.\n",
    "\n",
    "## 📋 Что мы будем делать:\n",
    "1. Импортируем необходимые библиотеки\n",
    "2. Настроим временные параметры и опорный сигнал\n",
    "3. Создадим и инициализируем среду ракеты\n",
    "4. Выполним шаг симуляции с управляющим воздействием\n",
    "5. Проанализируем результаты и внутреннее состояние модели"
   ]
  },
  {
   "cell_type": "markdown",
   "id": "imports-header",
   "metadata": {},
   "source": [
    "## 📚 Импорт библиотек\n",
    "\n",
    "Загружаем все необходимые модули для работы с моделью ракеты-носителя:"
   ]
  },
  {
   "cell_type": "code",
   "execution_count": 2,
   "id": "7bc885d6",
   "metadata": {},
   "outputs": [],
   "source": [
    "# Основные библиотеки\n",
    "import gymnasium as gym\n",
    "import numpy as np\n",
    "from tqdm import tqdm\n",
    "\n",
    "# Модули TensorAeroSpace для работы с ракетой\n",
    "from tensoraerospace.envs import LinearLongitudinalELVRocket\n",
    "from tensoraerospace.utils import generate_time_period, convert_tp_to_sec_tp\n",
    "from tensoraerospace.signals.standart import unit_step"
   ]
  },
  {
   "cell_type": "markdown",
   "id": "parameters-header",
   "metadata": {},
   "source": [
    "## ⚙️ Настройка параметров симуляции\n",
    "\n",
    "Определяем временные параметры и создаем ступенчатый опорный сигнал для управления ракетой:"
   ]
  },
  {
   "cell_type": "code",
   "execution_count": 3,
   "id": "5b5a8f3e",
   "metadata": {
    "pycharm": {
     "name": "#%%\n"
    }
   },
   "outputs": [],
   "source": [
    "# Параметры дискретизации\n",
    "dt = 0.01  # Шаг дискретизации (секунды)\n",
    "\n",
    "# Генерация временного периода для симуляции\n",
    "tp = generate_time_period(tn=20, dt=dt)  # 20 секунд полета ракеты\n",
    "tps = convert_tp_to_sec_tp(tp, dt=dt)    # Преобразование в секунды\n",
    "number_time_steps = len(tp)             # Общее количество временных шагов\n",
    "\n",
    "# Создание ступенчатого опорного сигнала\n",
    "# Команда на изменение траектории подается на 10-й секунде полета\n",
    "reference_signals = np.reshape(\n",
    "    unit_step(degree=5, tp=tp, time_step=10, output_rad=True), \n",
    "    [1, -1]\n",
    ")\n",
    "\n",
    "print(f'🚀 Параметры симуляции ракеты:')\n",
    "print(f'   • Время полета: {tp[-1]:.1f} сек')\n",
    "print(f'   • Шаг дискретизации: {dt} сек')\n",
    "print(f'   • Количество шагов: {number_time_steps}')\n",
    "print(f'   • Команда на маневр: {10} сек')"
   ]
  },
  {
   "cell_type": "markdown",
   "id": "environment-header",
   "metadata": {},
   "source": [
    "## 🛸 Создание и инициализация среды ракеты\n",
    "\n",
    "Создаем среду ELV Rocket с заданными параметрами и выполняем инициализацию:"
   ]
  },
  {
   "cell_type": "code",
   "execution_count": 4,
   "id": "2668e4d6",
   "metadata": {},
   "outputs": [
    {
     "name": "stderr",
     "output_type": "stream",
     "text": [
      "/Users/asmazaev/Projects/TensorAeroSpace/.venv/lib/python3.11/site-packages/gymnasium/utils/passive_env_checker.py:159: UserWarning: \u001b[33mWARN: The obs returned by the `reset()` method is not within the observation space.\u001b[0m\n",
      "  logger.warn(f\"{pre} is not within the observation space.\")\n"
     ]
    },
    {
     "data": {
      "text/plain": [
       "(array([[0.],\n",
       "        [0.],\n",
       "        [0.]], dtype=float32),\n",
       " {})"
      ]
     },
     "execution_count": 4,
     "metadata": {},
     "output_type": "execute_result"
    }
   ],
   "source": [
    "# Создание среды ракеты-носителя\n",
    "env = gym.make(\n",
    "    'LinearLongitudinalELVRocket-v0',\n",
    "    number_time_steps=number_time_steps,     # Количество временных шагов\n",
    "    initial_state=[[0],[0],[0]],             # Начальное состояние [скорость, угол, угловая_скорость]\n",
    "    reference_signal=reference_signals       # Опорный сигнал для управления\n",
    ")\n",
    "\n",
    "# Инициализация среды и получение начального состояния\n",
    "initial_state, info = env.reset()\n",
    "\n",
    "print(f'✅ Среда ракеты успешно создана!')\n",
    "print(f'🎯 Начальное состояние: {initial_state.flatten()}')\n",
    "print(f'📊 Размерность пространства состояний: {env.observation_space.shape}')\n",
    "print(f'🎮 Размерность пространства действий: {env.action_space.shape}')\n",
    "\n",
    "# Возвращаем результат инициализации\n",
    "(initial_state, info)"
   ]
  },
  {
   "cell_type": "markdown",
   "id": "step-header",
   "metadata": {},
   "source": [
    "## 🎮 Выполнение управляющего воздействия\n",
    "\n",
    "Применяем команду управления двигателями ракеты и наблюдаем изменение состояния:"
   ]
  },
  {
   "cell_type": "code",
   "execution_count": 6,
   "id": "6f7ebd29",
   "metadata": {
    "pycharm": {
     "name": "#%%\n"
    }
   },
   "outputs": [],
   "source": [
    "# Применение управляющего воздействия\n",
    "control_command = np.array([[1]])  # Команда управления (тяга двигателей)\n",
    "\n",
    "# Выполнение одного шага симуляции\n",
    "state, reward, terminated, truncated, info = env.step(control_command)\n",
    "\n",
    "print(f'🚀 Управляющая команда: {control_command.flatten()[0]}')\n",
    "print(f'📈 Новое состояние ракеты: {state.flatten()}')\n",
    "print(f'🏆 Полученная награда: {reward}')\n",
    "print(f'🔚 Миссия завершена: {terminated}')\n",
    "print(f'⏰ Симуляция прервана: {truncated}')\n",
    "print(f'ℹ️ Дополнительная информация: {info}')"
   ]
  },
  {
   "cell_type": "markdown",
   "id": "analysis-header",
   "metadata": {},
   "source": [
    "## 📊 Анализ результатов полета\n",
    "\n",
    "Исследуем историю управляющих команд и опорные сигналы:"
   ]
  },
  {
   "cell_type": "code",
   "execution_count": 7,
   "id": "76c9c14d",
   "metadata": {
    "pycharm": {
     "name": "#%%\n"
    }
   },
   "outputs": [
    {
     "data": {
      "text/plain": [
       "array([[1., 1., 0., ..., 0., 0., 0.]])"
      ]
     },
     "execution_count": 7,
     "metadata": {},
     "output_type": "execute_result"
    }
   ],
   "source": [
    "# Просмотр истории управляющих команд\n",
    "print(f'📝 История команд управления двигателями:')\n",
    "print(f'   • Первые команды: {env.unwrapped.model.store_input[0][:5]}')\n",
    "print(f'   • Общее количество команд: {env.unwrapped.model.store_input.shape[1]}')\n",
    "\n",
    "# Полная история команд\n",
    "env.unwrapped.model.store_input"
   ]
  },
  {
   "cell_type": "code",
   "execution_count": 8,
   "id": "dc9b6906",
   "metadata": {},
   "outputs": [
    {
     "data": {
      "text/plain": [
       "0.0"
      ]
     },
     "execution_count": 8,
     "metadata": {},
     "output_type": "execute_result"
    }
   ],
   "source": [
    "# Анализ опорного сигнала\n",
    "print(f'🎯 Анализ опорного сигнала:')\n",
    "print(f'   • Текущее значение (шаг 1): {env.unwrapped.reference_signal[0][1]}')\n",
    "print(f'   • Форма сигнала: {env.unwrapped.reference_signal.shape}')\n",
    "print(f'   • Тип сигнала: Ступенчатый (активация на 10-й секунде)')\n",
    "\n",
    "# Значение опорного сигнала на втором временном шаге\n",
    "env.unwrapped.reference_signal[0][1]"
   ]
  },
  {
   "cell_type": "code",
   "execution_count": 9,
   "id": "c404c317",
   "metadata": {},
   "outputs": [
    {
     "data": {
      "text/plain": [
       "array([0.1760814])"
      ]
     },
     "execution_count": 9,
     "metadata": {},
     "output_type": "execute_result"
    }
   ],
   "source": [
    "# Детальный анализ системы награды\n",
    "print(f'🏆 Анализ системы награды:')\n",
    "print(f'   • Значение награды: {reward}')\n",
    "print(f'   • Тип данных: {type(reward)}')\n",
    "print(f'   • Форма массива: {reward.shape if hasattr(reward, \"shape\") else \"скаляр\"}')\n",
    "print(f'   • Интерпретация: Мера качества отслеживания опорной траектории')\n",
    "print(f'   • Цель: Минимизация отклонения от заданного маршрута')\n",
    "\n",
    "# Возвращаем значение награды\n",
    "reward"
   ]
  },
  {
   "cell_type": "markdown",
   "id": "conclusion-header",
   "metadata": {},
   "source": [
    "## 🎉 Заключение\n",
    "\n",
    "В этом примере мы успешно продемонстрировали работу с моделью ракеты-носителя:\n",
    "\n",
    "✅ **Создали среду ELV Rocket** с правильными параметрами\n",
    "✅ **Настроили временные параметры** и опорный сигнал для управления\n",
    "✅ **Выполнили симуляцию полета** с управляющими командами\n",
    "✅ **Проанализировали результаты** и внутреннее состояние модели\n",
    "\n",
    "### 🚀 Особенности модели ракеты:\n",
    "- **3 состояния**: Скорость, угол наклона траектории, угловая скорость\n",
    "- **Управление**: Команды тяги двигательной установки\n",
    "- **Цель**: Точное следование заданной траектории полета\n",
    "\n",
    "### 📊 Система награды:\n",
    "- **Принцип**: Оценка качества отслеживания опорного сигнала\n",
    "- **Оптимизация**: Минимизация отклонения от заданного маршрута\n",
    "- **Применение**: Обучение автопилота ракеты\n",
    "\n",
    "### 🎯 Практическое применение:\n",
    "Эта модель может использоваться для:\n",
    "- Разработки систем автоматического управления ракет\n",
    "- Обучения алгоритмов с подкреплением для космических миссий\n",
    "- Тестирования стратегий управления траекторией\n",
    "- Симуляции различных сценариев полета\n",
    "\n",
    "Модель готова для использования в сложных задачах управления космическими аппаратами! 🌌"
   ]
  }
 ],
 "metadata": {
  "kernelspec": {
   "display_name": ".venv",
   "language": "python",
   "name": "python3"
  },
  "language_info": {
   "codemirror_mode": {
    "name": "ipython",
    "version": 3
   },
   "file_extension": ".py",
   "mimetype": "text/x-python",
   "name": "python",
   "nbconvert_exporter": "python",
   "pygments_lexer": "ipython3",
   "version": "3.11.7"
  }
 },
 "nbformat": 4,
 "nbformat_minor": 5
}
