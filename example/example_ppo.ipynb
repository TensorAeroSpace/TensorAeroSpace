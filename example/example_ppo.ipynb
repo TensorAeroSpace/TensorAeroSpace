{
 "cells": [
  {
   "cell_type": "code",
   "execution_count": 2,
   "id": "acba9938",
   "metadata": {},
   "outputs": [],
   "source": [
    "from tensoraerospace.envs.unity_env import get_plane_env, unity_discrete_env"
   ]
  },
  {
   "cell_type": "code",
   "execution_count": 3,
   "id": "44f9c549",
   "metadata": {},
   "outputs": [],
   "source": [
    "from tensoraerospace.agent.ppo.model import Agent"
   ]
  },
  {
   "cell_type": "code",
   "execution_count": 4,
   "id": "00705ed2",
   "metadata": {},
   "outputs": [
    {
     "name": "stdout",
     "output_type": "stream",
     "text": [
      "[INFO] Connected to Unity environment with package version 2.2.1-exp.1 and communication version 1.5.0\n",
      "[INFO] Connected new brain: My Behavior?team=0\n",
      "[WARNING] uint8_visual was set to true, but visual observations are not in use. This setting will not have any effect.\n",
      "[WARNING] The environment contains multiple observations. You must define allow_multiple_obs=True to receive them all. Otherwise, only the first visual observation (or vector observation ifthere are no visual observations) will be provided in the observation.\n"
     ]
    },
    {
     "name": "stderr",
     "output_type": "stream",
     "text": [
      "D:\\anaconda3\\envs\\unity-env\\lib\\site-packages\\gym\\logger.py:34: UserWarning: \u001b[33mWARN: Box bound precision lowered by casting to float32\u001b[0m\n",
      "  warnings.warn(colorize(\"%s: %s\" % (\"WARN\", msg % args), \"yellow\"))\n"
     ]
    }
   ],
   "source": [
    "env = unity_discrete_env(env_path=\"\")\n",
    "agent = Agent(env)\n",
    "agent.train()\n",
    "env.close()"
   ]
  }
 ],
 "metadata": {
  "kernelspec": {
   "display_name": "Python 3 (ipykernel)",
   "language": "python",
   "name": "python3"
  },
  "language_info": {
   "codemirror_mode": {
    "name": "ipython",
    "version": 3
   },
   "file_extension": ".py",
   "mimetype": "text/x-python",
   "name": "python",
   "nbconvert_exporter": "python",
   "pygments_lexer": "ipython3",
   "version": "3.6.13"
  }
 },
 "nbformat": 4,
 "nbformat_minor": 5
}
