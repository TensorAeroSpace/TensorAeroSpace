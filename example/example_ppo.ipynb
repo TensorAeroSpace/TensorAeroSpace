{
 "cells": [
  {
   "cell_type": "code",
   "execution_count": 1,
   "id": "00705ed2",
   "metadata": {},
   "outputs": [],
   "source": [
    "import torch\n",
    "import torch.nn as nn\n",
    "import torch.nn.functional as F\n",
    "import gymnasium as gym\n",
    "import numpy as np\n",
    "from tensoraerospace.agent import PPO\n",
    "\n",
    "\n",
    "env = gym.make('Pendulum-v1')\n",
    "\n",
    "class ActionNormalizer(gym.ActionWrapper):\n",
    "    \"\"\"Rescale and relocate the actions.\"\"\"\n",
    "\n",
    "    def action(self, action: np.ndarray) -> np.ndarray:\n",
    "        \"\"\"Change the range (-1, 1) to (low, high).\"\"\"\n",
    "        low = self.action_space.low\n",
    "        high = self.action_space.high\n",
    "\n",
    "        scale_factor = (high - low) / 2\n",
    "        reloc_factor = high - scale_factor\n",
    "\n",
    "        action = action * scale_factor + reloc_factor\n",
    "        action = np.clip(action, low, high)\n",
    "\n",
    "        return action\n",
    "\n",
    "    def reverse_action(self, action: np.ndarray) -> np.ndarray:\n",
    "        \"\"\"Change the range (low, high) to (-1, 1).\"\"\"\n",
    "        low = self.action_space.low\n",
    "        high = self.action_space.high\n",
    "\n",
    "        scale_factor = (high - low) / 2\n",
    "        reloc_factor = high - scale_factor\n",
    "\n",
    "        action = (action - reloc_factor) / scale_factor\n",
    "        action = np.clip(action, -1.0, 1.0)\n",
    "\n",
    "\n",
    "        return action"
   ]
  },
  {
   "cell_type": "code",
   "execution_count": 2,
   "id": "db6209f9",
   "metadata": {},
   "outputs": [
    {
     "name": "stderr",
     "output_type": "stream",
     "text": [
      "100%|██████████| 100/100 [02:57<00:00,  1.77s/it]\n"
     ]
    }
   ],
   "source": [
    "\n",
    "env = ActionNormalizer(env)\n",
    "env.reset()\n",
    "\n",
    "agent = PPO(env, gamma=0.9, max_episodes = 100)\n",
    "\n",
    "agent.train()"
   ]
  },
  {
   "cell_type": "code",
   "execution_count": 3,
   "id": "328998fc",
   "metadata": {},
   "outputs": [
    {
     "name": "stderr",
     "output_type": "stream",
     "text": [
      "/Users/asmazaev/Projects/TensorAeroSpace/.venv/lib/python3.11/site-packages/gymnasium/core.py:311: UserWarning: \u001b[33mWARN: env.ref_signal to get variables from other wrappers is deprecated and will be removed in v1.0, to get this variable you can do `env.unwrapped.ref_signal` for environment variables or `env.get_wrapper_attr('ref_signal')` that will search the reminding wrappers.\u001b[0m\n",
      "  logger.warn(\n"
     ]
    }
   ],
   "source": [
    "agent.save()"
   ]
  },
  {
   "cell_type": "code",
   "execution_count": 4,
   "id": "c3d9afea",
   "metadata": {},
   "outputs": [
    {
     "name": "stderr",
     "output_type": "stream",
     "text": [
      "Upload 2 LFS files:   0%|          | 0/2 [00:00<?, ?it/s]\n",
      "\u001b[A\n",
      "critic.pth: 100%|██████████| 4.10k/4.10k [00:01<00:00, 2.80kB/s]\n",
      "actor.pth: 100%|██████████| 5.66k/5.66k [00:01<00:00, 3.85kB/s]\n",
      "Upload 2 LFS files: 100%|██████████| 2/2 [00:02<00:00,  1.43s/it]\n"
     ]
    }
   ],
   "source": [
    "agent.publish_to_hub(\"Mr8bit/ppo-pendelium\",\n",
    "                     \"./Apr29_04-21-29_PPO\",\n",
    "                     access_token=\"\")"
   ]
  },
  {
   "cell_type": "code",
   "execution_count": 6,
   "id": "203899ae",
   "metadata": {},
   "outputs": [],
   "source": [
    "from tensoraerospace.agent import PPO\n",
    "\n",
    "agent = PPO.from_pretrained(\"./Apr29_04-21-29_PPO\")"
   ]
  },
  {
   "cell_type": "code",
   "execution_count": 2,
   "id": "eb23e732",
   "metadata": {},
   "outputs": [
    {
     "name": "stdout",
     "output_type": "stream",
     "text": [
      "Mr8bit/ppo-pendelium\n"
     ]
    },
    {
     "name": "stderr",
     "output_type": "stream",
     "text": [
      "Fetching 4 files: 100%|██████████| 4/4 [00:02<00:00,  1.64it/s]\n"
     ]
    }
   ],
   "source": [
    "from tensoraerospace.agent import PPO\n",
    "\n",
    "agent = PPO.from_pretrained(repo_name=\"Mr8bit/ppo-pendelium\",\n",
    "                            access_token=\"\")"
   ]
  }
 ],
 "metadata": {
  "kernelspec": {
   "display_name": "Python 3 (ipykernel)",
   "language": "python",
   "name": "python3"
  },
  "language_info": {
   "codemirror_mode": {
    "name": "ipython",
    "version": 3
   },
   "file_extension": ".py",
   "mimetype": "text/x-python",
   "name": "python",
   "nbconvert_exporter": "python",
   "pygments_lexer": "ipython3",
   "version": "3.11.7"
  }
 },
 "nbformat": 4,
 "nbformat_minor": 5
}
