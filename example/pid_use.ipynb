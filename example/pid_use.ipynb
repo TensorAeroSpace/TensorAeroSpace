{
 "cells": [
  {
   "cell_type": "code",
   "execution_count": 1,
   "metadata": {},
   "outputs": [],
   "source": [
    "import numpy as np\n",
    "import gymnasium as gym\n",
    "\n",
    "from tensoraerospace.agent.pid import PIDController\n",
    "from tensoraerospace.envs.f16.linear_longitudial import LinearLongitudinalF16\n",
    "from tensoraerospace.utils import generate_time_period, convert_tp_to_sec_tp\n",
    "from tensoraerospace.signals.standart import unit_step\n",
    "from tensoraerospace.benchmark.function import overshoot, settling_time, static_error"
   ]
  },
  {
   "cell_type": "code",
   "execution_count": 2,
   "metadata": {},
   "outputs": [],
   "source": [
    "dt = 0.01  # Дискретизация\n",
    "tp = generate_time_period(tn=20, dt=dt) # Временной периуд\n",
    "tps = convert_tp_to_sec_tp(tp, dt=dt)\n",
    "number_time_steps = len(tp) # Количество временных шагов\n",
    "reference_signals = np.reshape(unit_step(degree=5, tp=tp, time_step=10, output_rad=True), [1, -1]) # Заданный сигнал\n",
    "\n",
    "pid_config = {'ki': -0.9521120376180967, 'kp': -8.374525879223533, 'kd': 7.281084470573987}"
   ]
  },
  {
   "cell_type": "code",
   "execution_count": 30,
   "metadata": {},
   "outputs": [
    {
     "name": "stderr",
     "output_type": "stream",
     "text": [
      "/Users/asmazaev/Projects/TensorAeroSpace/.venv/lib/python3.11/site-packages/gymnasium/utils/passive_env_checker.py:246: UserWarning: \u001b[33mWARN: The reward returned by `step()` must be a float, int, np.integer or np.floating, actual type: <class 'numpy.ndarray'>\u001b[0m\n",
      "  logger.warn(\n"
     ]
    }
   ],
   "source": [
    "# Инициализация списка для хранения исторических данных\n",
    "hist = []\n",
    "dt = 0.01  # Интервал дискретизации времени\n",
    "\n",
    "# Генерация временного периода с заданным интервалом дискретизации\n",
    "tp = generate_time_period(tn=40, dt=dt) \n",
    "\n",
    "# Конвертация временного периода в секунды\n",
    "tps = convert_tp_to_sec_tp(tp, dt=dt)\n",
    "\n",
    "# Вычисление общего количества временных шагов\n",
    "number_time_steps = len(tp) \n",
    "\n",
    "# Создание заданного сигнала с использованием единичного шага\n",
    "reference_signals = np.reshape(unit_step(degree=5, tp=tp, time_step=10, output_rad=True), [1, -1])\n",
    "\n",
    "# Создание среды симуляции, задание временных шагов, начального состояния, заданного сигнала и отслеживаемых состояний\n",
    "env = gym.make('LinearLongitudinalF16-v0',\n",
    "               number_time_steps=number_time_steps, \n",
    "               initial_state=[[0],[0],[0],[0]],\n",
    "               reference_signal=reference_signals,\n",
    "               tracking_states=[\"alpha\"])\n",
    "\n",
    "# Сброс среды к начальному состоянию\n",
    "env.reset()\n",
    "\n",
    "# Инициализация ПИД-регулятора с параметрами из конфигурации\n",
    "pid = PIDController(kp=pid_config[\"kp\"], ki=pid_config[\"ki\"], kd=pid_config[\"kd\"], dt=dt)\n",
    "\n",
    "# Начальное состояние системы\n",
    "xt = np.array([[np.deg2rad(0)], [0]])\n",
    "\n",
    "# Основной цикл обновления состояния системы и регулятора\n",
    "for step in range(number_time_steps - 2):\n",
    "    # Получение текущего заданного значения\n",
    "    setpoint = reference_signals[0, step]\n",
    "\n",
    "    # Запись текущего угла в историю\n",
    "    hist.append(xt[0, 0])\n",
    "\n",
    "    # Вычисление управляющего сигнала с помощью ПИД-регулятора\n",
    "    ut  = pid.update(setpoint, xt[0, 0])\n",
    "\n",
    "    # Обновление состояния среды с учетом управляющего сигнала\n",
    "    xt, reward, terminated, truncated, info = env.step(np.array([ut.item()]))"
   ]
  },
  {
   "cell_type": "code",
   "execution_count": 33,
   "metadata": {},
   "outputs": [],
   "source": [
    "system_signal_orig = env.unwrapped.model.get_state('alpha', to_deg=True)[:4000]\n",
    "control_signal_orig = np.rad2deg(reference_signals[0])[:4000]"
   ]
  },
  {
   "cell_type": "code",
   "execution_count": 34,
   "metadata": {},
   "outputs": [
    {
     "data": {
      "text/plain": [
       "0.03706961499610539"
      ]
     },
     "execution_count": 34,
     "metadata": {},
     "output_type": "execute_result"
    }
   ],
   "source": [
    "# Вызов функции для расчета статической ошибки системы\n",
    "# Входные данные: исходный управляющий сигнал и исходный сигнал системы\n",
    "# Функция 'static_error' вычисляет разницу между желаемым и фактическим значением системы в установившемся режиме\n",
    "static_error(control_signal_orig, system_signal_orig)"
   ]
  },
  {
   "cell_type": "code",
   "execution_count": 35,
   "metadata": {},
   "outputs": [
    {
     "data": {
      "text/plain": [
       "0.11371367045088121"
      ]
     },
     "execution_count": 35,
     "metadata": {},
     "output_type": "execute_result"
    }
   ],
   "source": [
    "# Вызов функции для расчета перерегулирования системы\n",
    "# Входные данные: исходный управляющий сигнал и исходный сигнал системы\n",
    "# Функция 'overshoot' определяет максимальное превышение системным сигналом его установившегося значения\n",
    "overshoot(control_signal_orig, system_signal_orig)"
   ]
  },
  {
   "cell_type": "code",
   "execution_count": 36,
   "metadata": {},
   "outputs": [
    {
     "data": {
      "text/plain": [
       "14.450000000000001"
      ]
     },
     "execution_count": 36,
     "metadata": {},
     "output_type": "execute_result"
    }
   ],
   "source": [
    "# Вызов функции для расчета времени установления системы\n",
    "# Входные данные: исходный управляющий сигнал и исходный сигнал системы\n",
    "# Функция 'settling_time' определяет время, необходимое системе для достижения и поддержания значения в пределах заданного диапазона от установившегося значения\n",
    "# Результат умножается на 0.01 для приведения его к соответствующему временному масштабу\n",
    "settling_time(control_signal_orig, system_signal_orig) * 0.01"
   ]
  }
 ],
 "metadata": {
  "kernelspec": {
   "display_name": ".venv",
   "language": "python",
   "name": "python3"
  },
  "language_info": {
   "codemirror_mode": {
    "name": "ipython",
    "version": 3
   },
   "file_extension": ".py",
   "mimetype": "text/x-python",
   "name": "python",
   "nbconvert_exporter": "python",
   "pygments_lexer": "ipython3",
   "version": "3.11.7"
  }
 },
 "nbformat": 4,
 "nbformat_minor": 2
}
