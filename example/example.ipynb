{
 "cells": [
  {
   "cell_type": "code",
   "execution_count": 1,
   "id": "7bc885d6",
   "metadata": {},
   "outputs": [],
   "source": [
    "from tensorairspace.envs.f16.linear_longitudial import LinearLongitudinalF16"
   ]
  },
  {
   "cell_type": "code",
   "execution_count": 2,
   "id": "022643e2",
   "metadata": {
    "pycharm": {
     "name": "#%%\n"
    }
   },
   "outputs": [],
   "source": [
    "from tensorairspace.aircraftmodel.model.f16.linear.longitudinal import set_initial_state, initial_state"
   ]
  },
  {
   "cell_type": "code",
   "execution_count": 3,
   "id": "5b5a8f3e",
   "metadata": {
    "pycharm": {
     "name": "#%%\n"
    }
   },
   "outputs": [],
   "source": [
    "import numpy as np\n",
    "\n",
    "def unit_step(x):\n",
    "    return np.deg2rad(5) * (x > 1000)"
   ]
  },
  {
   "cell_type": "code",
   "execution_count": 4,
   "id": "b05dc56b",
   "metadata": {
    "pycharm": {
     "name": "#%%\n"
    }
   },
   "outputs": [],
   "source": [
    "t0 = 0  # Начальное время\n",
    "tn = 20  # Время моделирования\n",
    "dt = 0.01  # Дискретизация\n",
    "number_time_steps = int(((tn - t0) / dt) + 1)  # Количество шагов моделирования\n",
    "time = list(np.arange(0, number_time_steps * dt, dt)) # Массив с шагов dt\n",
    "t = np.linspace(-0, len(time), len(time))\n",
    "\n",
    "reference_signals =  np.reshape(unit_step(t),  [1, -1])"
   ]
  },
  {
   "cell_type": "code",
   "execution_count": 30,
   "id": "2668e4d6",
   "metadata": {},
   "outputs": [],
   "source": [
    "import gym \n",
    "env = gym.make('LinearLongitudinalF16-v0',\n",
    "               number_time_steps=number_time_steps, \n",
    "               initial_state=[[0],[0],[0],[0]],\n",
    "               reference_signal = reference_signals)"
   ]
  },
  {
   "cell_type": "code",
   "execution_count": 31,
   "id": "1feaf9a9",
   "metadata": {},
   "outputs": [],
   "source": [
    "env.reset()"
   ]
  },
  {
   "cell_type": "code",
   "execution_count": 32,
   "id": "49924702",
   "metadata": {},
   "outputs": [],
   "source": [
    "new_actin = [[0]]"
   ]
  },
  {
   "cell_type": "code",
   "execution_count": 39,
   "id": "6f7ebd29",
   "metadata": {
    "pycharm": {
     "name": "#%%\n"
    }
   },
   "outputs": [
    {
     "name": "stdout",
     "output_type": "stream",
     "text": [
      "1.0\n",
      "0.6\n"
     ]
    }
   ],
   "source": [
    "observation, reward, done, info = env.step(np.array([[1]]))"
   ]
  },
  {
   "cell_type": "code",
   "execution_count": 40,
   "id": "76c9c14d",
   "metadata": {
    "pycharm": {
     "name": "#%%\n"
    }
   },
   "outputs": [
    {
     "data": {
      "text/plain": [
       "array([[1., 1., 1., ..., 0., 0., 0.]])"
      ]
     },
     "execution_count": 40,
     "metadata": {},
     "output_type": "execute_result"
    }
   ],
   "source": [
    "env.model.store_input"
   ]
  },
  {
   "cell_type": "code",
   "execution_count": 41,
   "id": "dc9b6906",
   "metadata": {},
   "outputs": [
    {
     "data": {
      "text/plain": [
       "0.0"
      ]
     },
     "execution_count": 41,
     "metadata": {},
     "output_type": "execute_result"
    }
   ],
   "source": [
    "env.reference_signal[0][1]"
   ]
  },
  {
   "cell_type": "code",
   "execution_count": 51,
   "id": "c404c317",
   "metadata": {},
   "outputs": [
    {
     "data": {
      "text/plain": [
       "array([-0.00015733])"
      ]
     },
     "execution_count": 51,
     "metadata": {},
     "output_type": "execute_result"
    }
   ],
   "source": [
    "reward"
   ]
  },
  {
   "cell_type": "code",
   "execution_count": null,
   "id": "7eb4db07",
   "metadata": {},
   "outputs": [],
   "source": []
  }
 ],
 "metadata": {
  "kernelspec": {
   "display_name": "Python 3 (ipykernel)",
   "language": "python",
   "name": "python3"
  },
  "language_info": {
   "codemirror_mode": {
    "name": "ipython",
    "version": 3
   },
   "file_extension": ".py",
   "mimetype": "text/x-python",
   "name": "python",
   "nbconvert_exporter": "python",
   "pygments_lexer": "ipython3",
   "version": "3.8.10"
  }
 },
 "nbformat": 4,
 "nbformat_minor": 5
}