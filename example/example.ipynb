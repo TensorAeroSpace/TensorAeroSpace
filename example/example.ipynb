{
 "cells": [
  {
   "cell_type": "code",
   "execution_count": 1,
   "id": "7bc885d6",
   "metadata": {
    "pycharm": {
     "is_executing": true
    }
   },
   "outputs": [],
   "source": [
    "from tensorairspace.envs.f16.linear_longitudial import LinearLongitudinalF16"
   ]
  },
  {
   "cell_type": "code",
   "execution_count": 2,
   "id": "022643e2",
   "metadata": {
    "pycharm": {
     "name": "#%%\n"
    }
   },
   "outputs": [],
   "source": [
    "from tensorairspace.aircraftmodel.model.f16.linear.longitudinal import set_initial_state, initial_state"
   ]
  },
  {
   "cell_type": "code",
   "execution_count": 3,
   "id": "5b5a8f3e",
   "metadata": {
    "pycharm": {
     "name": "#%%\n"
    }
   },
   "outputs": [],
   "source": [
    "import numpy as np\n",
    "\n",
    "def unit_step(x):\n",
    "    return np.deg2rad(5) * (x > 1000)"
   ]
  },
  {
   "cell_type": "code",
   "execution_count": 4,
   "id": "b05dc56b",
   "metadata": {
    "pycharm": {
     "name": "#%%\n"
    }
   },
   "outputs": [],
   "source": [
    "t0 = 0  # Начальное время\n",
    "tn = 20  # Время моделирования\n",
    "dt = 0.01  # Дискретизация\n",
    "number_time_steps = int(((tn - t0) / dt) + 1)  # Количество шагов моделирования\n",
    "time = list(np.arange(0, number_time_steps * dt, dt)) # Массив с шагов dt\n",
    "t = np.linspace(-0, len(time), len(time))\n",
    "\n",
    "reference_signals =  np.reshape(unit_step(t),  [1, -1])"
   ]
  },
  {
   "cell_type": "code",
   "execution_count": 9,
   "id": "2668e4d6",
   "metadata": {},
   "outputs": [],
   "source": [
    "import gym \n",
    "env = gym.make('LinearLongitudinalF16-v0',\n",
    "               number_time_steps=number_time_steps, \n",
    "               initial_state=[[0],[0],[0],[0]],\n",
    "               reference_signal = reference_signals)"
   ]
  },
  {
   "cell_type": "code",
   "execution_count": null,
   "id": "1feaf9a9",
   "metadata": {},
   "outputs": [],
   "source": [
    "env.reset()"
   ]
  },
  {
   "cell_type": "code",
   "execution_count": 10,
   "id": "49924702",
   "metadata": {},
   "outputs": [],
   "source": [
    "new_actin = [[0]]"
   ]
  },
  {
   "cell_type": "code",
   "execution_count": 11,
   "id": "6f7ebd29",
   "metadata": {
    "pycharm": {
     "name": "#%%\n"
    }
   },
   "outputs": [
    {
     "ename": "AssertionError",
     "evalue": "Cannot call env.step() before calling reset()",
     "output_type": "error",
     "traceback": [
      "\u001B[0;31m---------------------------------------------------------------------------\u001B[0m",
      "\u001B[0;31mAssertionError\u001B[0m                            Traceback (most recent call last)",
      "Input \u001B[0;32mIn [11]\u001B[0m, in \u001B[0;36m<module>\u001B[0;34m\u001B[0m\n\u001B[0;32m----> 1\u001B[0m observation, reward, done, info \u001B[38;5;241m=\u001B[39m \u001B[43menv\u001B[49m\u001B[38;5;241;43m.\u001B[39;49m\u001B[43mstep\u001B[49m\u001B[43m(\u001B[49m\u001B[43m[\u001B[49m\u001B[43m[\u001B[49m\u001B[38;5;241;43m1\u001B[39;49m\u001B[43m]\u001B[49m\u001B[43m]\u001B[49m\u001B[43m)\u001B[49m\n",
      "File \u001B[0;32m~/PycharmProjects/TensorAirSpace/venv/lib/python3.8/site-packages/gym/wrappers/order_enforcing.py:10\u001B[0m, in \u001B[0;36mOrderEnforcing.step\u001B[0;34m(self, action)\u001B[0m\n\u001B[1;32m      9\u001B[0m \u001B[38;5;28;01mdef\u001B[39;00m \u001B[38;5;21mstep\u001B[39m(\u001B[38;5;28mself\u001B[39m, action):\n\u001B[0;32m---> 10\u001B[0m     \u001B[38;5;28;01massert\u001B[39;00m \u001B[38;5;28mself\u001B[39m\u001B[38;5;241m.\u001B[39m_has_reset, \u001B[38;5;124m\"\u001B[39m\u001B[38;5;124mCannot call env.step() before calling reset()\u001B[39m\u001B[38;5;124m\"\u001B[39m\n\u001B[1;32m     11\u001B[0m     observation, reward, done, info \u001B[38;5;241m=\u001B[39m \u001B[38;5;28mself\u001B[39m\u001B[38;5;241m.\u001B[39menv\u001B[38;5;241m.\u001B[39mstep(action)\n\u001B[1;32m     12\u001B[0m     \u001B[38;5;28;01mreturn\u001B[39;00m observation, reward, done, info\n",
      "\u001B[0;31mAssertionError\u001B[0m: Cannot call env.step() before calling reset()"
     ]
    }
   ],
   "source": [
    "observation, reward, done, info = env.step([[1]])"
   ]
  },
  {
   "cell_type": "code",
   "execution_count": 43,
   "id": "76c9c14d",
   "metadata": {
    "pycharm": {
     "name": "#%%\n"
    }
   },
   "outputs": [
    {
     "data": {
      "text/plain": [
       "array([[0. , 0.6, 0. , ..., 0. , 0. , 0. ]])"
      ]
     },
     "execution_count": 43,
     "metadata": {},
     "output_type": "execute_result"
    }
   ],
   "source": [
    "env.model.store_input"
   ]
  },
  {
   "cell_type": "code",
   "execution_count": 44,
   "id": "dc9b6906",
   "metadata": {},
   "outputs": [
    {
     "data": {
      "text/plain": [
       "0.0"
      ]
     },
     "execution_count": 44,
     "metadata": {},
     "output_type": "execute_result"
    }
   ],
   "source": [
    "env.reference_signal[0][1]"
   ]
  },
  {
   "cell_type": "code",
   "execution_count": 15,
   "id": "c404c317",
   "metadata": {},
   "outputs": [
    {
     "data": {
      "text/plain": [
       "array([-1.95292803e-05])"
      ]
     },
     "execution_count": 15,
     "metadata": {},
     "output_type": "execute_result"
    }
   ],
   "source": [
    "reward"
   ]
  },
  {
   "cell_type": "code",
   "execution_count": null,
   "id": "7eb4db07",
   "metadata": {},
   "outputs": [],
   "source": []
  }
 ],
 "metadata": {
  "kernelspec": {
   "display_name": "Python 3 (ipykernel)",
   "language": "python",
   "name": "python3"
  },
  "language_info": {
   "codemirror_mode": {
    "name": "ipython",
    "version": 3
   },
   "file_extension": ".py",
   "mimetype": "text/x-python",
   "name": "python",
   "nbconvert_exporter": "python",
   "pygments_lexer": "ipython3",
   "version": "3.8.10"
  }
 },
 "nbformat": 4,
 "nbformat_minor": 5
}