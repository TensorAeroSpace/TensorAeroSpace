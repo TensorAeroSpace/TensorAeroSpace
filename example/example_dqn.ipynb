{
  "nbformat": 4,
  "nbformat_minor": 0,
  "metadata": {
    "colab": {
      "name": "example_dqn.ipynb",
      "provenance": [],
      "collapsed_sections": []
    },
    "kernelspec": {
      "name": "python3",
      "display_name": "Python 3"
    },
    "language_info": {
      "name": "python"
    }
  },
  "cells": [
    {
      "cell_type": "code",
      "source": [
        "from tensorairspace.agent.dqn.model import Model, PERAgent, test_model"
      ],
      "metadata": {
        "id": "WZWDSMmKtfq4"
      },
      "execution_count": 8,
      "outputs": []
    },
    {
      "cell_type": "code",
      "source": [
        "test_model()\n",
        "\n",
        "env = gym.make(\"CartPole-v0\")\n",
        "num_actions = env.action_space.n\n",
        "model = Model(num_actions)\n",
        "target_model = Model(num_actions)\n",
        "agent = PERAgent(model, target_model, env)\n",
        "# test before\n",
        "rewards_sum = agent.evaluation(env)\n",
        "print(\"Before Training: %d out of 200\" % rewards_sum)  # 9 out of 200\n",
        "\n",
        "agent.train()\n",
        "# test after\n",
        "# env = gym.wrappers.Monitor(env, './recording', force=True)\n",
        "rewards_sum = agent.evaluation(env)\n",
        "print(\"After Training: %d out of 200\" % rewards_sum)  # 200 out of 200"
      ],
      "metadata": {
        "colab": {
          "base_uri": "https://localhost:8080/"
        },
        "id": "sQXQrCT7uEz-",
        "outputId": "183d23cd-b440-4c45-cd23-2dfb8f1e376e"
      },
      "execution_count": null,
      "outputs": [
        {
          "output_type": "stream",
          "name": "stdout",
          "text": [
            "num_actions:  2\n",
            "obs_shape:  (4,)\n",
            "res of test model:  0 [0.0241489 0.0168036]\n",
            "Before Training: 11 out of 200\n",
            "losses each 1000 steps:  0.015554526820778847\n",
            "losses each 1000 steps:  0.052048951387405396\n"
          ]
        }
      ]
    }
  ]
}