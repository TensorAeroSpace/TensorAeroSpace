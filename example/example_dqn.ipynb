{
 "cells": [
  {
   "cell_type": "code",
   "execution_count": 8,
   "metadata": {
    "id": "WZWDSMmKtfq4"
   },
   "outputs": [],
   "source": [
    "from tensorairspace.agent.dqn.model import Model, PERAgent, test_model"
   ]
  },
  {
   "cell_type": "code",
   "execution_count": null,
   "metadata": {
    "colab": {
     "base_uri": "https://localhost:8080/"
    },
    "id": "sQXQrCT7uEz-",
    "outputId": "183d23cd-b440-4c45-cd23-2dfb8f1e376e"
   },
   "outputs": [
    {
     "name": "stdout",
     "output_type": "stream",
     "text": [
      "num_actions:  2\n",
      "obs_shape:  (4,)\n",
      "res of test model:  0 [0.0241489 0.0168036]\n",
      "Before Training: 11 out of 200\n",
      "losses each 1000 steps:  0.015554526820778847\n",
      "losses each 1000 steps:  0.052048951387405396\n"
     ]
    }
   ],
   "source": [
    "test_model()\n",
    "\n",
    "env = gym.make(\"CartPole-v0\")\n",
    "num_actions = env.action_space.n\n",
    "model = Model(num_actions)\n",
    "target_model = Model(num_actions)\n",
    "agent = PERAgent(model, target_model, env)\n",
    "# test before\n",
    "rewards_sum = agent.evaluation(env)\n",
    "print(\"Before Training: %d out of 200\" % rewards_sum)  # 9 out of 200\n",
    "\n",
    "agent.train()\n",
    "# test after\n",
    "# env = gym.wrappers.Monitor(env, './recording', force=True)\n",
    "rewards_sum = agent.evaluation(env)\n",
    "print(\"After Training: %d out of 200\" % rewards_sum)  # 200 out of 200"
   ]
  }
 ],
 "metadata": {
  "colab": {
   "collapsed_sections": [],
   "name": "example_dqn.ipynb",
   "provenance": []
  },
  "kernelspec": {
   "display_name": "Python 3 (ipykernel)",
   "language": "python",
   "name": "python3"
  },
  "language_info": {
   "codemirror_mode": {
    "name": "ipython",
    "version": 3
   },
   "file_extension": ".py",
   "mimetype": "text/x-python",
   "name": "python",
   "nbconvert_exporter": "python",
   "pygments_lexer": "ipython3",
   "version": "3.7.13"
  }
 },
 "nbformat": 4,
 "nbformat_minor": 1
}
