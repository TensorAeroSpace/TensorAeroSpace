{
 "cells": [
  {
   "cell_type": "markdown",
   "metadata": {},
   "source": [
    "# 🚀 MPC с Transformer-моделью динамики для Boeing 747\n",
    "\n",
    "Этот пример демонстрирует использование **Transformer-архитектуры** для моделирования динамики самолета Boeing 747 в системе Model Predictive Control (MPC).\n",
    "\n",
    "## 📋 Обзор\n",
    "\n",
    "- **Модель**: Boeing 747 (продольная динамика)\n",
    "- **Архитектура**: Transformer для предсказания следующего состояния\n",
    "- **Размерность состояния**: 4 (скорость, угол атаки, угловая скорость тангажа, угол тангажа)\n",
    "- **Управление**: 1 (отклонение руля высоты)\n",
    "- **Данные**: 300,000 образцов с различными сигналами управления\n",
    "\n",
    "## 🎯 Цель\n",
    "\n",
    "Обучить Transformer-модель для точного предсказания динамики самолета и использовать её в MPC контроллере."
   ]
  },
  {
   "cell_type": "markdown",
   "metadata": {},
   "source": [
    "## 📚 Импорт библиотек и инициализация модели\n",
    "\n",
    "Загружаем необходимые библиотеки и создаем Transformer-модель для изучения динамики системы."
   ]
  },
  {
   "cell_type": "code",
   "execution_count": 15,
   "metadata": {},
   "outputs": [],
   "source": [
    "# Импорт основных библиотек\n",
    "from tensoraerospace.agent.mpc.transformers import TransformerDynamicsModel\n",
    "from tensoraerospace.agent.mpc.dynamics import DynamicsNN\n",
    "import torch\n",
    "from tqdm import tqdm\n",
    "from tensoraerospace.signals.standart import unit_step\n",
    "from tensoraerospace.utils import generate_time_period, convert_tp_to_sec_tp\n",
    "import numpy as np\n",
    "import gymnasium as gym\n",
    "\n",
    "# 🔧 Параметры модели\n",
    "state_dim = 4      # Размерность вектора состояния (v, α, q, θ)\n",
    "control_dim = 1    # Размерность вектора управления (δe)\n",
    "input_dim = state_dim + control_dim  # Общая размерность входа\n",
    "output_dim = state_dim               # Размерность выхода\n",
    "\n",
    "print(f'🎯 Создание Transformer-модели динамики...')\n",
    "print(f'   📊 Размерность входа: {input_dim}')\n",
    "print(f'   📈 Размерность выхода: {output_dim}')\n",
    "\n",
    "# 🧠 Создание Transformer-модели\n",
    "nn_transformers = TransformerDynamicsModel(input_dim, output_dim)\n",
    "dynamics_nn = DynamicsNN(nn_transformers)\n",
    "\n",
    "print('✅ Модель успешно создана!')"
   ]
  },
  {
   "cell_type": "markdown",
   "metadata": {},
   "source": [
    "## 🛩️ Создание симуляционной среды Boeing 747\n",
    "\n",
    "Настраиваем параметры симуляции и создаем среду для модели Boeing 747 с заданным опорным сигналом."
   ]
  },
  {
   "cell_type": "code",
   "execution_count": 16,
   "metadata": {},
   "outputs": [
    {
     "name": "stderr",
     "output_type": "stream",
     "text": [
      "/Users/asmazaev/Projects/TensorAeroSpace/.venv/lib/python3.11/site-packages/gymnasium/utils/passive_env_checker.py:168: DeprecationWarning: \u001b[33mWARN: Current gymnasium version requires that `Env.reset` can be passed a `seed` instead of using `Env.seed` for resetting the environment random number generator.\u001b[0m\n",
      "  logger.deprecation(\n",
      "/Users/asmazaev/Projects/TensorAeroSpace/.venv/lib/python3.11/site-packages/gymnasium/utils/passive_env_checker.py:181: DeprecationWarning: \u001b[33mWARN: Current gymnasium version requires that `Env.reset` can be passed `options` to allow the environment initialisation to be passed additional information.\u001b[0m\n",
      "  logger.deprecation(\n",
      "/Users/asmazaev/Projects/TensorAeroSpace/.venv/lib/python3.11/site-packages/gymnasium/utils/passive_env_checker.py:135: UserWarning: \u001b[33mWARN: The obs returned by the `reset()` method was expecting numpy array dtype to be float32, actual type: float64\u001b[0m\n",
      "  logger.warn(\n",
      "/Users/asmazaev/Projects/TensorAeroSpace/.venv/lib/python3.11/site-packages/gymnasium/utils/passive_env_checker.py:159: UserWarning: \u001b[33mWARN: The obs returned by the `reset()` method is not within the observation space.\u001b[0m\n",
      "  logger.warn(f\"{pre} is not within the observation space.\")\n"
     ]
    }
   ],
   "source": [
    "# ⏱️ Параметры времени\n",
    "dt = 0.01  # Шаг дискретизации (10 мс)\n",
    "tp = generate_time_period(tn=20, dt=dt)  # Временной период 20 секунд\n",
    "tps = convert_tp_to_sec_tp(tp, dt=dt)\n",
    "number_time_steps = len(tp)  # Количество временных шагов\n",
    "\n",
    "print(f'⏱️ Параметры симуляции:')\n",
    "print(f'   🕐 Время симуляции: {tp[-1]:.1f} сек')\n",
    "print(f'   📊 Шаг дискретизации: {dt} сек')\n",
    "print(f'   🔢 Количество шагов: {number_time_steps}')\n",
    "\n",
    "# 📈 Создание опорного сигнала (ступенчатый сигнал 5°)\n",
    "reference_signals = np.reshape(\n",
    "    unit_step(degree=5, tp=tp, time_step=10, output_rad=True), \n",
    "    [1, -1]\n",
    ")\n",
    "\n",
    "print(f'📈 Опорный сигнал: ступенчатый сигнал 5° на 10-й секунде')\n",
    "\n",
    "# 🛩️ Создание среды Boeing 747\n",
    "print('🛩️ Инициализация среды Boeing 747...')\n",
    "env = gym.make('LinearLongitudinalB747-v0',\n",
    "               number_time_steps=number_time_steps, \n",
    "               initial_state=[[0],[0],[0],[0]],  # Начальное состояние [v, α, q, θ]\n",
    "               reference_signal=reference_signals)\n",
    "\n",
    "state, info = env.reset()\n",
    "print('✅ Среда успешно создана и инициализирована!')"
   ]
  },
  {
   "cell_type": "markdown",
   "metadata": {},
   "source": [
    "## ⚙️ Настройка параметров модели\n",
    "\n",
    "Извлекаем матрицы состояния A и B из модели Boeing 747 и определяем диапазоны для генерации обучающих данных."
   ]
  },
  {
   "cell_type": "code",
   "execution_count": 18,
   "metadata": {},
   "outputs": [],
   "source": [
    "# 📊 Диапазоны состояний для генерации данных\n",
    "# [скорость, угол_атаки, угловая_скорость_тангажа, угол_тангажа]\n",
    "state_ranges = [\n",
    "    (-10.0, 10.0),   # Δv (м/с) - отклонение скорости\n",
    "    (-4.5, 4.5),     # Δα (рад) - отклонение угла атаки\n",
    "    (-2.3, 2.3),     # Δq (рад/с) - отклонение угловой скорости тангажа\n",
    "    (-15.0, 15.0)    # Δθ (рад) - отклонение угла тангажа\n",
    "]\n",
    "\n",
    "print('📊 Диапазоны состояний:')\n",
    "state_names = ['Скорость (м/с)', 'Угол атаки (рад)', 'Угл. скорость (рад/с)', 'Угол тангажа (рад)']\n",
    "for i, (name, (min_val, max_val)) in enumerate(zip(state_names, state_ranges)):\n",
    "    print(f'   {i+1}. {name}: [{min_val}, {max_val}]')\n",
    "\n",
    "# 🔢 Извлечение матриц линейной модели\n",
    "A = torch.tensor(env.unwrapped.model.A, dtype=torch.float32)\n",
    "B = torch.tensor(env.unwrapped.model.B, dtype=torch.float32)\n",
    "\n",
    "print(f'\n🔢 Матрицы модели:')\n",
    "print(f'   📐 Матрица A: {A.shape}')\n",
    "print(f'   📐 Матрица B: {B.shape}')\n",
    "\n",
    "# 🎛️ Диапазон управления (по умолчанию: -25° до +25°)\n",
    "print('🎛️ Диапазон управления: [-25°, +25°] (руль высоты)')\n",
    "print('✅ Параметры модели настроены!')"
   ]
  },
  {
   "cell_type": "markdown",
   "metadata": {},
   "source": [
    "## 📊 Генерация обучающих данных\n",
    "\n",
    "Создаем большой набор данных с различными типами управляющих сигналов для обучения Transformer-модели."
   ]
  },
  {
   "cell_type": "code",
   "execution_count": 19,
   "metadata": {},
   "outputs": [],
   "source": [
    "# 🎯 Параметры генерации данных\n",
    "num_samples = 300_000\n",
    "\n",
    "# 📈 Типы управляющих сигналов для разнообразия данных\n",
    "control_signals = [\n",
    "    \"sine\",              # Синусоидальные сигналы\n",
    "    \"step\",              # Ступенчатые сигналы\n",
    "    \"sine_09\",           # Синус с амплитудой 0.9\n",
    "    \"sine_07\",           # Синус с амплитудой 0.7\n",
    "    \"sine_05_low_freq\",  # Низкочастотный синус\n",
    "    \"gaussian_noise\",    # Гауссовский шум\n",
    "    \"linear_up\",         # Линейно возрастающий\n",
    "    \"linear_down\"        # Линейно убывающий\n",
    "]\n",
    "\n",
    "print(f'📊 Генерация обучающих данных...')\n",
    "print(f'   🔢 Количество образцов: {num_samples:,}')\n",
    "print(f'   📈 Типы сигналов: {len(control_signals)}')\n",
    "for i, signal in enumerate(control_signals, 1):\n",
    "    print(f'      {i}. {signal}')\n",
    "\n",
    "print('⏳ Генерация данных... (это может занять некоторое время)')\n",
    "\n",
    "# 🚀 Генерация данных\n",
    "states, controls, next_states = dynamics_nn.generate_training_data(\n",
    "    num_samples=num_samples, \n",
    "    state_dim=4, \n",
    "    control_dim=1,\n",
    "    state_ranges=state_ranges, \n",
    "    control_ranges=None,  # Используем диапазон по умолчанию [-25, 25]\n",
    "    control_signals=control_signals,\n",
    "    A=A, \n",
    "    B=B\n",
    ")\n",
    "\n",
    "print(f'✅ Данные успешно сгенерированы!')\n",
    "print(f'   📊 Форма состояний: {states.shape}')\n",
    "print(f'   🎛️ Форма управлений: {controls.shape}')\n",
    "print(f'   📈 Форма следующих состояний: {next_states.shape}')"
   ]
  },
  {
   "cell_type": "markdown",
   "metadata": {},
   "source": [
    "## 🧠 Обучение Transformer-модели\n",
    "\n",
    "Запускаем процесс обучения нейронной сети с архитектурой Transformer для изучения динамики Boeing 747.\n",
    "\n",
    "**Параметры обучения:**\n",
    "- Эпохи: 400\n",
    "- Размер батча: 1024\n",
    "- Вывод прогресса каждые 20 эпох"
   ]
  },
  {
   "cell_type": "code",
   "execution_count": 5,
   "metadata": {},
   "outputs": [
    {
     "name": "stderr",
     "output_type": "stream",
     "text": [
      "/var/folders/kq/3y1y4twn3ls4zqd3ct3bbjz00000gp/T/ipykernel_35844/222292088.py:2: UserWarning: To copy construct from a tensor, it is recommended to use sourceTensor.clone().detach() or sourceTensor.clone().detach().requires_grad_(True), rather than torch.tensor(sourceTensor).\n",
      "  torch.tensor(states, dtype=torch.float32),\n",
      "/var/folders/kq/3y1y4twn3ls4zqd3ct3bbjz00000gp/T/ipykernel_35844/222292088.py:3: UserWarning: To copy construct from a tensor, it is recommended to use sourceTensor.clone().detach() or sourceTensor.clone().detach().requires_grad_(True), rather than torch.tensor(sourceTensor).\n",
      "  torch.tensor(controls, dtype=torch.float32),\n",
      "/var/folders/kq/3y1y4twn3ls4zqd3ct3bbjz00000gp/T/ipykernel_35844/222292088.py:4: UserWarning: To copy construct from a tensor, it is recommended to use sourceTensor.clone().detach() or sourceTensor.clone().detach().requires_grad_(True), rather than torch.tensor(sourceTensor).\n",
      "  torch.tensor(next_states, dtype=torch.float32), epochs=400, batch_size=1024, verbose_epoch=20)\n"
     ]
    },
    {
     "name": "stdout",
     "output_type": "stream",
     "text": [
      "Подготовка данных\n",
      "Загрузка  данных\n",
      "Начала обучения \n"
     ]
    },
    {
     "name": "stderr",
     "output_type": "stream",
     "text": [
      "  0%|          | 0/400 [00:00<?, ?it/s]"
     ]
    },
    {
     "name": "stderr",
     "output_type": "stream",
     "text": [
      "  0%|          | 1/400 [00:05<36:12,  5.45s/it]"
     ]
    },
    {
     "name": "stdout",
     "output_type": "stream",
     "text": [
      "Epoch 1, Train Loss: 0.093298, Val Loss: 0.006955\n"
     ]
    },
    {
     "name": "stderr",
     "output_type": "stream",
     "text": [
      "  5%|▌         | 21/400 [01:52<33:53,  5.36s/it]"
     ]
    },
    {
     "name": "stdout",
     "output_type": "stream",
     "text": [
      "Epoch 21, Train Loss: 0.000505, Val Loss: 0.000477\n"
     ]
    },
    {
     "name": "stderr",
     "output_type": "stream",
     "text": [
      " 10%|█         | 41/400 [03:39<32:22,  5.41s/it]"
     ]
    },
    {
     "name": "stdout",
     "output_type": "stream",
     "text": [
      "Epoch 41, Train Loss: 0.000152, Val Loss: 0.000082\n"
     ]
    },
    {
     "name": "stderr",
     "output_type": "stream",
     "text": [
      " 15%|█▌        | 61/400 [05:27<30:18,  5.36s/it]"
     ]
    },
    {
     "name": "stdout",
     "output_type": "stream",
     "text": [
      "Epoch 61, Train Loss: 0.000086, Val Loss: 0.000016\n"
     ]
    },
    {
     "name": "stderr",
     "output_type": "stream",
     "text": [
      " 20%|██        | 81/400 [07:15<29:26,  5.54s/it]"
     ]
    },
    {
     "name": "stdout",
     "output_type": "stream",
     "text": [
      "Epoch 81, Train Loss: 0.000036, Val Loss: 0.000064\n"
     ]
    },
    {
     "name": "stderr",
     "output_type": "stream",
     "text": [
      " 25%|██▌       | 101/400 [09:06<27:27,  5.51s/it]"
     ]
    },
    {
     "name": "stdout",
     "output_type": "stream",
     "text": [
      "Epoch 101, Train Loss: 0.000028, Val Loss: 0.000012\n"
     ]
    },
    {
     "name": "stderr",
     "output_type": "stream",
     "text": [
      " 30%|███       | 121/400 [10:54<24:59,  5.38s/it]"
     ]
    },
    {
     "name": "stdout",
     "output_type": "stream",
     "text": [
      "Epoch 121, Train Loss: 0.000021, Val Loss: 0.000012\n"
     ]
    },
    {
     "name": "stderr",
     "output_type": "stream",
     "text": [
      " 35%|███▌      | 141/400 [12:42<23:02,  5.34s/it]"
     ]
    },
    {
     "name": "stdout",
     "output_type": "stream",
     "text": [
      "Epoch 141, Train Loss: 0.000019, Val Loss: 0.000001\n"
     ]
    },
    {
     "name": "stderr",
     "output_type": "stream",
     "text": [
      " 40%|████      | 161/400 [14:30<21:02,  5.28s/it]"
     ]
    },
    {
     "name": "stdout",
     "output_type": "stream",
     "text": [
      "Epoch 161, Train Loss: 0.000015, Val Loss: 0.000024\n"
     ]
    },
    {
     "name": "stderr",
     "output_type": "stream",
     "text": [
      " 45%|████▌     | 181/400 [16:18<19:37,  5.38s/it]"
     ]
    },
    {
     "name": "stdout",
     "output_type": "stream",
     "text": [
      "Epoch 181, Train Loss: 0.000024, Val Loss: 0.000007\n"
     ]
    },
    {
     "name": "stderr",
     "output_type": "stream",
     "text": [
      " 50%|█████     | 201/400 [18:07<18:04,  5.45s/it]"
     ]
    },
    {
     "name": "stdout",
     "output_type": "stream",
     "text": [
      "Epoch 201, Train Loss: 0.000020, Val Loss: 0.000033\n"
     ]
    },
    {
     "name": "stderr",
     "output_type": "stream",
     "text": [
      " 55%|█████▌    | 221/400 [19:52<15:26,  5.18s/it]"
     ]
    },
    {
     "name": "stdout",
     "output_type": "stream",
     "text": [
      "Epoch 221, Train Loss: 0.000013, Val Loss: 0.000014\n"
     ]
    },
    {
     "name": "stderr",
     "output_type": "stream",
     "text": [
      " 60%|██████    | 241/400 [21:34<13:30,  5.10s/it]"
     ]
    },
    {
     "name": "stdout",
     "output_type": "stream",
     "text": [
      "Epoch 241, Train Loss: 0.000021, Val Loss: 0.000130\n"
     ]
    },
    {
     "name": "stderr",
     "output_type": "stream",
     "text": [
      " 65%|██████▌   | 261/400 [23:17<11:49,  5.10s/it]"
     ]
    },
    {
     "name": "stdout",
     "output_type": "stream",
     "text": [
      "Epoch 261, Train Loss: 0.000024, Val Loss: 0.000003\n"
     ]
    },
    {
     "name": "stderr",
     "output_type": "stream",
     "text": [
      " 70%|███████   | 281/400 [25:04<10:29,  5.29s/it]"
     ]
    },
    {
     "name": "stdout",
     "output_type": "stream",
     "text": [
      "Epoch 281, Train Loss: 0.000011, Val Loss: 0.000002\n"
     ]
    },
    {
     "name": "stderr",
     "output_type": "stream",
     "text": [
      " 75%|███████▌  | 301/400 [26:49<08:45,  5.31s/it]"
     ]
    },
    {
     "name": "stdout",
     "output_type": "stream",
     "text": [
      "Epoch 301, Train Loss: 0.000496, Val Loss: 0.000005\n"
     ]
    },
    {
     "name": "stderr",
     "output_type": "stream",
     "text": [
      " 80%|████████  | 321/400 [28:37<07:16,  5.52s/it]"
     ]
    },
    {
     "name": "stdout",
     "output_type": "stream",
     "text": [
      "Epoch 321, Train Loss: 0.000013, Val Loss: 0.000015\n"
     ]
    },
    {
     "name": "stderr",
     "output_type": "stream",
     "text": [
      " 85%|████████▌ | 341/400 [30:25<05:15,  5.35s/it]"
     ]
    },
    {
     "name": "stdout",
     "output_type": "stream",
     "text": [
      "Epoch 341, Train Loss: 0.000007, Val Loss: 0.000004\n"
     ]
    },
    {
     "name": "stderr",
     "output_type": "stream",
     "text": [
      " 90%|█████████ | 361/400 [32:13<03:34,  5.50s/it]"
     ]
    },
    {
     "name": "stdout",
     "output_type": "stream",
     "text": [
      "Epoch 361, Train Loss: 0.000706, Val Loss: 0.000061\n"
     ]
    },
    {
     "name": "stderr",
     "output_type": "stream",
     "text": [
      " 95%|█████████▌| 381/400 [34:03<01:51,  5.85s/it]"
     ]
    },
    {
     "name": "stdout",
     "output_type": "stream",
     "text": [
      "Epoch 381, Train Loss: 0.000008, Val Loss: 0.000003\n"
     ]
    },
    {
     "name": "stderr",
     "output_type": "stream",
     "text": [
      "100%|██████████| 400/400 [35:44<00:00,  5.36s/it]\n"
     ]
    }
   ],
   "source": [
    "# 🎯 Параметры обучения\n",
    "epochs = 400\n",
    "batch_size = 1024\n",
    "verbose_epoch = 20\n",
    "\n",
    "print(f'🧠 Начинаем обучение Transformer-модели...')\n",
    "print(f'   📊 Эпохи: {epochs}')\n",
    "print(f'   📦 Размер батча: {batch_size}')\n",
    "print(f'   📈 Вывод прогресса каждые {verbose_epoch} эпох')\n",
    "print(f'   🔥 Архитектура: Transformer')\n",
    "print('\n' + '='*50)\n",
    "\n",
    "# 🚀 Запуск обучения\n",
    "dynamics_nn.train_and_validate(\n",
    "    torch.tensor(states, dtype=torch.float32),\n",
    "    torch.tensor(controls, dtype=torch.float32),\n",
    "    torch.tensor(next_states, dtype=torch.float32), \n",
    "    epochs=epochs, \n",
    "    batch_size=batch_size, \n",
    "    verbose_epoch=verbose_epoch\n",
    ")\n",
    "\n",
    "print('\n' + '='*50)\n",
    "print('🎉 Обучение завершено!')"
   ]
  },
  {
   "cell_type": "markdown",
   "metadata": {},
   "source": [
    "## 🎮 Тестирование MPC контроллера с Transformer-моделью\n",
    "\n",
    "Теперь используем обученную Transformer-модель в MPC контроллере для управления Boeing 747.\n",
    "\n",
    "**Параметры MPC:**\n",
    "- Горизонт предсказания: 40 шагов\n",
    "- Веса Q и R для оптимизации\n",
    "- Ограничения на управление"
   ]
  },
  {
   "cell_type": "code",
   "execution_count": null,
   "metadata": {},
   "outputs": [
    {
     "name": "stderr",
     "output_type": "stream",
     "text": [
      "  0%|          | 0/40 [00:00<?, ?it/s]"
     ]
    },
    {
     "name": "stderr",
     "output_type": "stream",
     "text": [
      "100%|██████████| 40/40 [00:08<00:00,  4.93it/s]\n"
     ]
    },
    {
     "data": {
      "image/png": "[encoded data removed]",
      "text/plain": [
       "<Figure size 1000x600 with 2 Axes>"
      ]
     },
     "metadata": {},
     "output_type": "display_data"
    }
   ],
   "source": [
    "# 📚 Импорт дополнительных библиотек\n",
    "import numpy as np\n",
    "import torch\n",
    "import matplotlib.pyplot as plt\n",
    "from tensoraerospace.agent.mpc.base import AircraftMPC\n",
    "\n",
    "# 🎮 Параметры MPC контроллера\n",
    "horizon = 2          # Горизонт предсказания\n",
    "dt_mpc = 0.1         # Шаг времени для MPC\n",
    "iterations = 50      # Количество итераций оптимизации\n",
    "learning_rate = 10e-6  # Скорость обучения\n",
    "increment = 1e-4     # Инкремент для градиента\n",
    "\n",
    "print(f'🎮 Инициализация MPC контроллера...')\n",
    "print(f'   🔭 Горизонт предсказания: {horizon}')\n",
    "print(f'   ⏱️ Шаг времени: {dt_mpc} сек')\n",
    "print(f'   🔄 Итераций оптимизации: {iterations}')\n",
    "\n",
    "# 🚀 Создание MPC контроллера с обученной Transformer-моделью\n",
    "mpc = AircraftMPC(\n",
    "    dynamics_nn.model, \n",
    "    horizon=horizon, \n",
    "    dt=dt_mpc, \n",
    "    iterations=iterations,\n",
    "    learning_rate=learning_rate, \n",
    "    increment=increment\n",
    ")\n",
    "\n",
    "# ⏱️ Параметры симуляции\n",
    "simulation_time = 4  # Время симуляции (сек)\n",
    "dt_sim = 0.1         # Шаг симуляции\n",
    "steps = int(simulation_time / dt_sim)\n",
    "\n",
    "print(f'⏱️ Параметры симуляции:')\n",
    "print(f'   🕐 Время симуляции: {simulation_time} сек')\n",
    "print(f'   📊 Шаг симуляции: {dt_sim} сек')\n",
    "print(f'   🔢 Количество шагов: {steps}')\n",
    "\n",
    "# 🎯 Начальное состояние [v, α, q, θ]\n",
    "x0 = np.array([0, 0, 0, 0])  # Все состояния начинаются с нуля\n",
    "states = [x0]\n",
    "controls = []\n",
    "\n",
    "print(f'🎯 Начальное состояние: {x0}')\n",
    "\n",
    "# 📈 Генерация опорной траектории (ступенчатый сигнал)\n",
    "time = np.arange(steps + horizon + 1) * dt_sim\n",
    "theta_ref = unit_step(degree=2.5, tp=time, time_step=0.02, output_rad=False)\n",
    "\n",
    "print(f'📈 Опорная траектория: ступенчатый сигнал 2.5° на 0.02 сек')\n",
    "\n",
    "# 🔢 Матрицы системы для симуляции (Boeing 747)\n",
    "A_sim = torch.tensor([\n",
    "    [-0.0212, 0.0466,    0,   0.1153],\n",
    "    [-0.2229, -0.5839, 0.9404, 0],\n",
    "    [0.0150,  -0.5031, -0.5015, 0],\n",
    "    [0, 0, 1, 0],\n",
    "], dtype=torch.float32)\n",
    "\n",
    "B_sim = torch.tensor([\n",
    "    [0],\n",
    "    [-0.0340],\n",
    "    [-0.5746],\n",
    "    [0]\n",
    "], dtype=torch.float32)\n",
    "\n",
    "# 📊 Инициализация массивов для хранения результатов\n",
    "model_states = [torch.tensor([0, 0, 0, 0], dtype=torch.float32)]\n",
    "\n",
    "print('🚀 Запуск симуляции MPC...')\n",
    "print('='*40)\n",
    "\n",
    "# 🔄 Основной цикл управления\n",
    "for i in tqdm(range(steps), desc='🎮 MPC Симуляция'):\n",
    "    # Получаем текущий опорный сигнал\n",
    "    current_ref = theta_ref[i:i + horizon + 1]\n",
    "    \n",
    "    # Оптимизируем управление с помощью MPC\n",
    "    u_opt, predicted_states = mpc.optimize_control(states[-1], current_ref)\n",
    "    \n",
    "    # Симулируем следующее состояние системы\n",
    "    next_states = A_sim @ model_states[i] + B_sim @ torch.tensor(u_opt, dtype=torch.float32)\n",
    "\n",
    "    # Сохраняем результаты\n",
    "    controls.append(u_opt)\n",
    "    model_states.append(next_states)\n",
    "    # next_state = predicted_states[0]\n",
    "    states.append(next_states)\n",
    "\n",
    "# Визуализация результатов\n",
    "time_array = np.arange(0, simulation_time, dt)\n",
    "plt.figure(figsize=(10, 6))\n",
    "\n",
    "plt.subplot(2, 1, 1)\n",
    "plt.plot(time_array, [s[3] for s in states[:-1]], label=\"Actual Theta\")\n",
    "plt.plot(time_array, theta_ref[:steps], label=\"Reference Theta\")\n",
    "plt.ylabel(\"Theta\")\n",
    "# plt.ylim([0, 1.2])\n",
    "plt.legend()\n",
    "\n",
    "plt.subplot(2, 1, 2)\n",
    "plt.plot(time_array, controls)\n",
    "plt.xlabel(\"Time (s)\")\n",
    "plt.ylabel(\"Control (u)\")\n",
    "\n",
    "plt.tight_layout()\n",
    "plt.show()"
   ]
  },
  {
   "cell_type": "code",
   "execution_count": 12,
   "metadata": {},
   "outputs": [],
   "source": [
    "from tensoraerospace.benchmark import ControlBenchmark\n",
    "bench = ControlBenchmark()\n",
    "res = bench.becnchmarking_one_step(theta_ref[:-3], np.array([float(s[3]) for s in states[:-1]]), 1.9, dt)\n"
   ]
  },
  {
   "cell_type": "code",
   "execution_count": 13,
   "metadata": {},
   "outputs": [
    {
     "name": "stdout",
     "output_type": "stream",
     "text": [
      "Статическая ошибка:  0.03743922710418701\n",
      "Время переходного процесса:  0.2 сек\n",
      "Степень затухания:  0.012593524089427021\n",
      "Перерегулирование:  5.2121734619140625\n"
     ]
    }
   ],
   "source": [
    "print(\"Статическая ошибка: \", res['static_error'])\n",
    "print(\"Время переходного процесса: \", res['settling_time'], \"сек\")\n",
    "print(\"Степень затухания: \", res['damping_degree'])\n",
    "print(\"Перерегулирование: \", res['overshoot'])\n"
   ]
  },
  {
   "cell_type": "code",
   "execution_count": 14,
   "metadata": {},
   "outputs": [
    {
     "data": {
      "image/png": "[encoded data removed]",
      "text/plain": [
       "<Figure size 1500x500 with 1 Axes>"
      ]
     },
     "metadata": {},
     "output_type": "display_data"
    }
   ],
   "source": [
    "bench.plot(theta_ref[:-3], np.array([float(s[3]) for s in states[:-1]]), 0.9, dt, time, figsize=(15,5))\n"
   ]
  },
  {
   "cell_type": "code",
   "execution_count": null,
   "metadata": {},
   "outputs": [],
   "source": []
  }
 ],
 "metadata": {
  "kernelspec": {
   "display_name": ".venv",
   "language": "python",
   "name": "python3"
  },
  "language_info": {
   "codemirror_mode": {
    "name": "ipython",
    "version": 3
   },
   "file_extension": ".py",
   "mimetype": "text/x-python",
   "name": "python",
   "nbconvert_exporter": "python",
   "pygments_lexer": "ipython3",
   "version": "3.11.7"
  }
 },
 "nbformat": 4,
 "nbformat_minor": 2
}
