{
 "cells": [
  {
   "cell_type": "code",
   "execution_count": 1,
   "metadata": {},
   "outputs": [],
   "source": [
    "import numpy as np\n",
    "import cvxpy as cp"
   ]
  },
  {
   "cell_type": "code",
   "execution_count": 9,
   "metadata": {},
   "outputs": [],
   "source": [
    "import numpy as np\n",
    "\n",
    "\n",
    "import gymnasium as gym\n",
    "import torch\n",
    "\n",
    "from tqdm import tqdm\n",
    "\n",
    "from tensoraerospace.envs.f16.linear_longitudial import LinearLongitudinalF16\n",
    "from tensoraerospace.utils import generate_time_period, convert_tp_to_sec_tp\n",
    "from tensoraerospace.signals.standart import unit_step, sinusoid\n",
    "from tensoraerospace.benchmark.function import static_error\n",
    "from tensoraerospace.agent.mpc.gradient import MPCOptimizationAgent\n",
    "from tensoraerospace.signals.random import full_random_signal\n",
    "from tensoraerospace.agent.pid import PID"
   ]
  },
  {
   "cell_type": "code",
   "execution_count": 2,
   "metadata": {},
   "outputs": [],
   "source": [
    "import torch\n",
    "import torch.nn as nn\n",
    "import numpy as np\n",
    "\n",
    "class DynamicsModel(nn.Module):\n",
    "    def __init__(self, state_dim=4, control_dim=1, hidden_dim=64):\n",
    "        super().__init__()\n",
    "        self.network = nn.Sequential(\n",
    "            nn.Linear(state_dim + control_dim, hidden_dim),\n",
    "            nn.ReLU(),\n",
    "            nn.Linear(hidden_dim, hidden_dim),\n",
    "            nn.ReLU(),\n",
    "            nn.Linear(hidden_dim, hidden_dim),\n",
    "            nn.ReLU(),\n",
    "            nn.Linear(hidden_dim, state_dim)\n",
    "        )\n",
    "        \n",
    "    def forward(self, x):\n",
    "        return self.network(x)\n",
    "\n"
   ]
  },
  {
   "cell_type": "code",
   "execution_count": 3,
   "metadata": {},
   "outputs": [],
   "source": [
    "from tensoraerospace.agent.mpc import TransformerNet\n",
    "from tensoraerospace.agent.mpc.dynamics import DynamicsNN\n",
    "\n",
    "# nn_transformers = TransformerNet(env.action_space.shape[0], env.observation_space.shape[0], d_model=8, nhead=1, num_encoder_layers=3, dim_feedforward=8)\n",
    "dynamics_nn = DynamicsNN(DynamicsModel(hidden_dim=128))\n"
   ]
  },
  {
   "cell_type": "code",
   "execution_count": 4,
   "metadata": {},
   "outputs": [],
   "source": [
    "state_ranges = [(-10.0, 10.0), (-4.5, 4.5), (-2.3, 2.3), (-15.0, 15.0)]\n",
    "A = torch.tensor([\n",
    "    [-0.0212, 0.0466, 0, 0.1153],\n",
    "    [-0.2229, -0.5839, 0.9404, 0],\n",
    "    [0.0150, -0.5031, -0.5015, 0],\n",
    "    [0, 0, 1, 0],\n",
    "], dtype=torch.float32)\n",
    "B = torch.tensor([\n",
    "    [0],\n",
    "    [-0.0340],\n",
    "    [-0.5746],\n",
    "    [0]\n",
    "], dtype=torch.float32)\n",
    "\n",
    "# Using default control limits (-25, 25)\n"
   ]
  },
  {
   "cell_type": "code",
   "execution_count": 6,
   "metadata": {},
   "outputs": [],
   "source": [
    "states, controls, next_states = dynamics_nn.generate_training_data(num_samples=300_000, state_dim=4, control_dim=1,\n",
    "                            state_ranges=state_ranges, control_ranges=None,\n",
    "                            control_signals=[\"sine\", \"step\", \"sine_09\", \"sine_07\", \n",
    "                                            \"sine_05_low_freq\", \"gaussian_noise\",\n",
    "                                            \"linear_up\", \"linear_down\",\n",
    "                                            ],\n",
    "                            A=A, B=B)"
   ]
  },
  {
   "cell_type": "code",
   "execution_count": 7,
   "metadata": {},
   "outputs": [
    {
     "name": "stderr",
     "output_type": "stream",
     "text": [
      "/var/folders/kq/3y1y4twn3ls4zqd3ct3bbjz00000gp/T/ipykernel_77961/222292088.py:2: UserWarning: To copy construct from a tensor, it is recommended to use sourceTensor.clone().detach() or sourceTensor.clone().detach().requires_grad_(True), rather than torch.tensor(sourceTensor).\n",
      "  torch.tensor(states, dtype=torch.float32),\n",
      "/var/folders/kq/3y1y4twn3ls4zqd3ct3bbjz00000gp/T/ipykernel_77961/222292088.py:3: UserWarning: To copy construct from a tensor, it is recommended to use sourceTensor.clone().detach() or sourceTensor.clone().detach().requires_grad_(True), rather than torch.tensor(sourceTensor).\n",
      "  torch.tensor(controls, dtype=torch.float32),\n",
      "/var/folders/kq/3y1y4twn3ls4zqd3ct3bbjz00000gp/T/ipykernel_77961/222292088.py:4: UserWarning: To copy construct from a tensor, it is recommended to use sourceTensor.clone().detach() or sourceTensor.clone().detach().requires_grad_(True), rather than torch.tensor(sourceTensor).\n",
      "  torch.tensor(next_states, dtype=torch.float32), epochs=400, batch_size=1024, verbose_epoch=20)\n"
     ]
    },
    {
     "name": "stdout",
     "output_type": "stream",
     "text": [
      "Подготовка данных\n",
      "Загрузка  данных\n",
      "Начала обучения \n"
     ]
    },
    {
     "name": "stderr",
     "output_type": "stream",
     "text": [
      "  0%|          | 0/400 [00:00<?, ?it/s]"
     ]
    },
    {
     "name": "stderr",
     "output_type": "stream",
     "text": [
      "  0%|          | 1/400 [00:02<17:05,  2.57s/it]"
     ]
    },
    {
     "name": "stdout",
     "output_type": "stream",
     "text": [
      "Epoch 1, Train Loss: 0.052150, Val Loss: 0.001869\n"
     ]
    },
    {
     "name": "stderr",
     "output_type": "stream",
     "text": [
      "  5%|▌         | 21/400 [00:51<15:31,  2.46s/it]"
     ]
    },
    {
     "name": "stdout",
     "output_type": "stream",
     "text": [
      "Epoch 21, Train Loss: 0.000098, Val Loss: 0.000158\n"
     ]
    },
    {
     "name": "stderr",
     "output_type": "stream",
     "text": [
      " 10%|█         | 41/400 [01:39<14:14,  2.38s/it]"
     ]
    },
    {
     "name": "stdout",
     "output_type": "stream",
     "text": [
      "Epoch 41, Train Loss: 0.000052, Val Loss: 0.000015\n"
     ]
    },
    {
     "name": "stderr",
     "output_type": "stream",
     "text": [
      " 15%|█▌        | 61/400 [02:28<13:25,  2.38s/it]"
     ]
    },
    {
     "name": "stdout",
     "output_type": "stream",
     "text": [
      "Epoch 61, Train Loss: 0.000051, Val Loss: 0.000109\n"
     ]
    },
    {
     "name": "stderr",
     "output_type": "stream",
     "text": [
      " 20%|██        | 81/400 [03:17<12:50,  2.42s/it]"
     ]
    },
    {
     "name": "stdout",
     "output_type": "stream",
     "text": [
      "Epoch 81, Train Loss: 0.000052, Val Loss: 0.000131\n"
     ]
    },
    {
     "name": "stderr",
     "output_type": "stream",
     "text": [
      " 25%|██▌       | 101/400 [04:04<11:54,  2.39s/it]"
     ]
    },
    {
     "name": "stdout",
     "output_type": "stream",
     "text": [
      "Epoch 101, Train Loss: 0.000028, Val Loss: 0.000004\n"
     ]
    },
    {
     "name": "stderr",
     "output_type": "stream",
     "text": [
      " 30%|███       | 121/400 [04:52<11:10,  2.40s/it]"
     ]
    },
    {
     "name": "stdout",
     "output_type": "stream",
     "text": [
      "Epoch 121, Train Loss: 0.000018, Val Loss: 0.000008\n"
     ]
    },
    {
     "name": "stderr",
     "output_type": "stream",
     "text": [
      " 35%|███▌      | 141/400 [05:40<10:19,  2.39s/it]"
     ]
    },
    {
     "name": "stdout",
     "output_type": "stream",
     "text": [
      "Epoch 141, Train Loss: 0.000020, Val Loss: 0.000004\n"
     ]
    },
    {
     "name": "stderr",
     "output_type": "stream",
     "text": [
      " 40%|████      | 161/400 [06:29<09:33,  2.40s/it]"
     ]
    },
    {
     "name": "stdout",
     "output_type": "stream",
     "text": [
      "Epoch 161, Train Loss: 0.000016, Val Loss: 0.000016\n"
     ]
    },
    {
     "name": "stderr",
     "output_type": "stream",
     "text": [
      " 45%|████▌     | 181/400 [07:17<08:59,  2.46s/it]"
     ]
    },
    {
     "name": "stdout",
     "output_type": "stream",
     "text": [
      "Epoch 181, Train Loss: 0.000028, Val Loss: 0.000008\n"
     ]
    },
    {
     "name": "stderr",
     "output_type": "stream",
     "text": [
      " 50%|█████     | 201/400 [08:05<07:54,  2.39s/it]"
     ]
    },
    {
     "name": "stdout",
     "output_type": "stream",
     "text": [
      "Epoch 201, Train Loss: 0.000016, Val Loss: 0.000012\n"
     ]
    },
    {
     "name": "stderr",
     "output_type": "stream",
     "text": [
      " 55%|█████▌    | 221/400 [08:53<07:10,  2.40s/it]"
     ]
    },
    {
     "name": "stdout",
     "output_type": "stream",
     "text": [
      "Epoch 221, Train Loss: 0.000010, Val Loss: 0.000004\n"
     ]
    },
    {
     "name": "stderr",
     "output_type": "stream",
     "text": [
      " 60%|██████    | 241/400 [09:41<06:21,  2.40s/it]"
     ]
    },
    {
     "name": "stdout",
     "output_type": "stream",
     "text": [
      "Epoch 241, Train Loss: 0.000012, Val Loss: 0.000012\n"
     ]
    },
    {
     "name": "stderr",
     "output_type": "stream",
     "text": [
      " 65%|██████▌   | 261/400 [10:30<05:38,  2.44s/it]"
     ]
    },
    {
     "name": "stdout",
     "output_type": "stream",
     "text": [
      "Epoch 261, Train Loss: 0.000013, Val Loss: 0.000022\n"
     ]
    },
    {
     "name": "stderr",
     "output_type": "stream",
     "text": [
      " 70%|███████   | 281/400 [11:18<04:47,  2.42s/it]"
     ]
    },
    {
     "name": "stdout",
     "output_type": "stream",
     "text": [
      "Epoch 281, Train Loss: 0.000010, Val Loss: 0.000000\n"
     ]
    },
    {
     "name": "stderr",
     "output_type": "stream",
     "text": [
      " 75%|███████▌  | 301/400 [12:07<04:08,  2.51s/it]"
     ]
    },
    {
     "name": "stdout",
     "output_type": "stream",
     "text": [
      "Epoch 301, Train Loss: 0.000020, Val Loss: 0.000001\n"
     ]
    },
    {
     "name": "stderr",
     "output_type": "stream",
     "text": [
      " 80%|████████  | 321/400 [12:56<03:12,  2.43s/it]"
     ]
    },
    {
     "name": "stdout",
     "output_type": "stream",
     "text": [
      "Epoch 321, Train Loss: 0.000029, Val Loss: 0.000002\n"
     ]
    },
    {
     "name": "stderr",
     "output_type": "stream",
     "text": [
      " 85%|████████▌ | 341/400 [13:43<02:18,  2.35s/it]"
     ]
    },
    {
     "name": "stdout",
     "output_type": "stream",
     "text": [
      "Epoch 341, Train Loss: 0.000012, Val Loss: 0.000044\n"
     ]
    },
    {
     "name": "stderr",
     "output_type": "stream",
     "text": [
      " 90%|█████████ | 361/400 [14:32<01:33,  2.40s/it]"
     ]
    },
    {
     "name": "stdout",
     "output_type": "stream",
     "text": [
      "Epoch 361, Train Loss: 0.000008, Val Loss: 0.000040\n"
     ]
    },
    {
     "name": "stderr",
     "output_type": "stream",
     "text": [
      " 95%|█████████▌| 381/400 [15:20<00:45,  2.40s/it]"
     ]
    },
    {
     "name": "stdout",
     "output_type": "stream",
     "text": [
      "Epoch 381, Train Loss: 0.000010, Val Loss: 0.000005\n"
     ]
    },
    {
     "name": "stderr",
     "output_type": "stream",
     "text": [
      "100%|██████████| 400/400 [16:05<00:00,  2.41s/it]\n"
     ]
    }
   ],
   "source": [
    "dynamics_nn.train_and_validate(\n",
    "    torch.tensor(states, dtype=torch.float32),\n",
    "torch.tensor(controls, dtype=torch.float32),\n",
    "torch.tensor(next_states, dtype=torch.float32), epochs=400, batch_size=1024, verbose_epoch=20)"
   ]
  },
  {
   "cell_type": "code",
   "execution_count": 10,
   "metadata": {},
   "outputs": [
    {
     "name": "stderr",
     "output_type": "stream",
     "text": [
      "100%|██████████| 200/200 [00:19<00:00, 10.21it/s]\n"
     ]
    },
    {
     "data": {
      "image/png": "[encoded data removed]",
      "text/plain": [
       "<Figure size 1000x600 with 2 Axes>"
      ]
     },
     "metadata": {},
     "output_type": "display_data"
    }
   ],
   "source": [
    "import numpy as np\n",
    "import torch\n",
    "import matplotlib.pyplot as plt\n",
    "from tensoraerospace.agent.mpc.base import AircraftMPC\n",
    "\n",
    "# Предположим, что dynamics_nn - это ваша нейросетевая модель\n",
    "# (определение dynamics_nn не включено в пример, так как оно не менялось)\n",
    "# ...\n",
    "\n",
    "# Инициализация MPC\n",
    "mpc = AircraftMPC(dynamics_nn.model, horizon=2, dt=0.1)\n",
    "\n",
    "# Параметры симуляции\n",
    "simulation_time = 20 # Уменьшено время симуляции\n",
    "dt = 0.1\n",
    "steps = int(simulation_time / dt)\n",
    "\n",
    "# Начальное состояние\n",
    "x0 = np.array([0, 0, 0, 0])\n",
    "states = [x0]\n",
    "controls = []\n",
    "\n",
    "# Генерация опорной траектории (синусоида с периодом 2 секунды)\n",
    "time = np.arange(steps + mpc.horizon + 1) * dt\n",
    "theta_ref = unit_step(degree=2, tp=time, time_step=0.1, output_rad=False)\n",
    "# theta_ref = np.sin(1 * time)\n",
    "\n",
    "A = torch.tensor([\n",
    "            [-0.0212, 0.0466,    0,   0.1153],\n",
    "            [-0.2229, -0.5839, 0.9404, 0],\n",
    "            [0.0150,  -0.5031, -0.5015, 0],\n",
    "            [0, 0, 1, 0],\n",
    "        ], dtype=torch.float32)\n",
    "        \n",
    "B = torch.tensor([\n",
    "            [0],\n",
    "            [-0.0340],\n",
    "            [-0.5746],\n",
    "            [0]\n",
    "        ], dtype=torch.float32)\n",
    "        \n",
    "        # Генерация выходных данных\n",
    "model_states = [torch.tensor([0, 0, 0, 0], dtype=torch.float32)]\n",
    "    \n",
    "\n",
    "# Цикл управления\n",
    "for i in tqdm(range(steps)):\n",
    "    current_ref = theta_ref[i:i + mpc.horizon + 1]\n",
    "    u_opt, predicted_states = mpc.optimize_control(states[-1], current_ref)\n",
    "    next_states = A @ model_states[i] + B @ torch.tensor(u_opt, dtype=torch.float32)\n",
    "\n",
    "    controls.append(u_opt)\n",
    "    model_states.append(next_states)\n",
    "    # Обновляем состояние системы на основе предсказанного моделью (не используем шум)\n",
    "    # next_state = predicted_states[0]\n",
    "    states.append(next_states)\n",
    "\n",
    "# Визуализация результатов\n",
    "time_array = np.arange(0, simulation_time, dt)\n",
    "plt.figure(figsize=(10, 6))\n",
    "\n",
    "plt.subplot(2, 1, 1)\n",
    "plt.plot(time_array, [s[3] for s in states[:-1]], label=\"Actual Theta\")\n",
    "plt.plot(time_array, theta_ref[:steps], label=\"Reference Theta\")\n",
    "plt.ylabel(\"Theta\")\n",
    "# plt.ylim([0, 1.2])\n",
    "plt.legend()\n",
    "\n",
    "plt.subplot(2, 1, 2)\n",
    "plt.plot(time_array, controls)\n",
    "plt.xlabel(\"Time (s)\")\n",
    "plt.ylabel(\"Control (u)\")\n",
    "\n",
    "plt.tight_layout()\n",
    "plt.show()"
   ]
  },
  {
   "cell_type": "code",
   "execution_count": 11,
   "metadata": {},
   "outputs": [],
   "source": [
    "from tensoraerospace.benchmark import ControlBenchmark\n",
    "bench = ControlBenchmark()\n",
    "res = bench.becnchmarking_one_step(theta_ref[:-3], np.array([float(s[3]) for s in states[:-1]]), 1.9, dt)\n"
   ]
  },
  {
   "cell_type": "code",
   "execution_count": 12,
   "metadata": {},
   "outputs": [
    {
     "name": "stdout",
     "output_type": "stream",
     "text": [
      "Статическая ошибка:  0.03220049142837533\n",
      "Время переходного процесса:  0.30000000000000004 сек\n",
      "Степень затухания:  0.0014316554503416693\n",
      "Перерегулирование:  5.013108253479004\n"
     ]
    }
   ],
   "source": [
    "print(\"Статическая ошибка: \", res['static_error'])\n",
    "print(\"Время переходного процесса: \", res['settling_time'], \"сек\")\n",
    "print(\"Степень затухания: \", res['damping_degree'])\n",
    "print(\"Перерегулирование: \", res['overshoot'])\n"
   ]
  },
  {
   "cell_type": "code",
   "execution_count": 13,
   "metadata": {},
   "outputs": [
    {
     "data": {
      "image/png": "[encoded data removed]",
      "text/plain": [
       "<Figure size 1500x500 with 1 Axes>"
      ]
     },
     "metadata": {},
     "output_type": "display_data"
    }
   ],
   "source": [
    "bench.plot(theta_ref[:-3], np.array([float(s[3]) for s in states[:-1]]), 0.9, dt, time, figsize=(15,5))\n"
   ]
  },
  {
   "cell_type": "code",
   "execution_count": null,
   "metadata": {},
   "outputs": [],
   "source": []
  }
 ],
 "metadata": {
  "kernelspec": {
   "display_name": "Python 3 (ipykernel)",
   "language": "python",
   "name": "python3"
  },
  "language_info": {
   "codemirror_mode": {
    "name": "ipython",
    "version": 3
   },
   "file_extension": ".py",
   "mimetype": "text/x-python",
   "name": "python",
   "nbconvert_exporter": "python",
   "pygments_lexer": "ipython3",
   "version": "3.11.7"
  }
 },
 "nbformat": 4,
 "nbformat_minor": 4
}
