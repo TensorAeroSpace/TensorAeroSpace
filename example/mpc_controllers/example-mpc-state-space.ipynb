{
 "cells": [
  {
   "cell_type": "markdown",
   "metadata": {},
   "source": [
    "# Пример MPC контроллера с нейронной сетью для моделирования динамики\n",
    "\n",
    "Этот пример демонстрирует использование Model Predictive Control (MPC) с нейронной сетью для аппроксимации динамики системы. \n",
    "\n",
    "## Основные этапы:\n",
    "1. Создание нейронной сети для моделирования динамики\n",
    "2. Генерация обучающих данных\n",
    "3. Обучение модели динамики\n",
    "4. Создание и настройка MPC контроллера\n",
    "5. Тестирование системы управления\n",
    "\n",
    "Используется линеаризованная модель самолета F-16 для продольного движения."
   ]
  },
  {
   "cell_type": "markdown",
   "metadata": {},
   "source": [
    "## Импорт необходимых библиотек\n",
    "\n",
    "Загружаем все необходимые модули для работы с нейронными сетями, MPC контроллером и моделированием."
   ]
  },
  {
   "cell_type": "code",
   "execution_count": 1,
   "metadata": {},
   "outputs": [],
   "source": [
    "import numpy as np\n",
    "\n",
    "\n",
    "import gymnasium as gym\n",
    "import torch\n",
    "\n",
    "from tqdm import tqdm\n",
    "\n",
    "from tensoraerospace.envs.f16.linear_longitudial import LinearLongitudinalF16\n",
    "from tensoraerospace.utils import generate_time_period, convert_tp_to_sec_tp\n",
    "from tensoraerospace.signals.standart import unit_step, sinusoid\n",
    "from tensoraerospace.benchmark.function import static_error\n",
    "from tensoraerospace.agent.mpc.gradient import MPCOptimizationAgent\n",
    "from tensoraerospace.signals.random import full_random_signal"
   ]
  },
  {
   "cell_type": "markdown",
   "metadata": {},
   "source": [
    "## Определение архитектуры нейронной сети\n",
    "\n",
    "Создаем нейронную сеть для аппроксимации динамики системы. Сеть принимает на вход текущее состояние и управляющее воздействие, \n",
    "а выдает следующее состояние системы.\n",
    "\n",
    "**Параметры:**\n",
    "- `state_dim=4`: размерность вектора состояния (4 переменных состояния F-16)\n",
    "- `control_dim=1`: размерность управляющего воздействия (1 управляющий сигнал)\n",
    "- `hidden_dim=64`: количество нейронов в скрытых слоях"
   ]
  },
  {
   "cell_type": "code",
   "execution_count": 2,
   "metadata": {},
   "outputs": [],
   "source": [
    "import torch\n",
    "import torch.nn as nn\n",
    "import numpy as np\n",
    "\n",
    "class DynamicsModel(nn.Module):\n",
    "    def __init__(self, state_dim=4, control_dim=1, hidden_dim=64):\n",
    "        super().__init__()\n",
    "        self.network = nn.Sequential(\n",
    "            nn.Linear(state_dim + control_dim, hidden_dim),\n",
    "            nn.ReLU(),\n",
    "            nn.Linear(hidden_dim, hidden_dim),\n",
    "            nn.ReLU(),\n",
    "            nn.Linear(hidden_dim, hidden_dim),\n",
    "            nn.ReLU(),\n",
    "            nn.Linear(hidden_dim, state_dim)\n",
    "        )\n",
    "        \n",
    "    def forward(self, x):\n",
    "        return self.network(x)\n",
    "\n"
   ]
  },
  {
   "cell_type": "markdown",
   "metadata": {},
   "source": [
    "## Инициализация модели динамики\n",
    "\n",
    "Создаем экземпляр нейронной сети с увеличенным количеством скрытых нейронов (128) для лучшей аппроксимации сложной динамики."
   ]
  },
  {
   "cell_type": "code",
   "execution_count": 3,
   "metadata": {},
   "outputs": [],
   "source": [
    "# from tensoraerospace.agent.mpc import TransformerNet\n",
    "from tensoraerospace.agent.mpc.dynamics import DynamicsNN\n",
    "\n",
    "# nn_transformers = TransformerNet(env.action_space.shape[0], env.observation_space.shape[0], d_model=8, nhead=1, num_encoder_layers=3, dim_feedforward=8)\n",
    "dynamics_nn = DynamicsNN(DynamicsModel(hidden_dim=256))\n"
   ]
  },
  {
   "cell_type": "markdown",
   "metadata": {},
   "source": [
    "## Определение параметров линейной модели F-16\n",
    "\n",
    "Задаем параметры линеаризованной модели самолета F-16 для продольного движения:\n",
    "\n",
    "**Переменные состояния:**\n",
    "- Скорость (V)\n",
    "- Угол атаки (α)\n",
    "- Угловая скорость тангажа (q)\n",
    "- Угол тангажа (θ)\n",
    "\n",
    "**Матрицы системы:**\n",
    "- `A`: матрица состояния (4x4)\n",
    "- `B`: матрица управления (4x1)\n",
    "\n",
    "**Диапазоны состояний** определяют границы для генерации обучающих данных."
   ]
  },
  {
   "cell_type": "code",
   "execution_count": 4,
   "metadata": {},
   "outputs": [],
   "source": [
    "state_ranges = [(-10.0, 10.0), (-4.5, 4.5), (-2.3, 2.3), (-15.0, 15.0)]\n",
    "A = torch.tensor([\n",
    "    [-0.0212, 0.0466, 0, 0.1153],\n",
    "    [-0.2229, -0.5839, 0.9404, 0],\n",
    "    [0.0150, -0.5031, -0.5015, 0],\n",
    "    [0, 0, 1, 0],\n",
    "], dtype=torch.float32)\n",
    "B = torch.tensor([\n",
    "    [0],\n",
    "    [-0.0340],\n",
    "    [-0.5746],\n",
    "    [0]\n",
    "], dtype=torch.float32)\n",
    "\n",
    "# Используем стандартные ограничения управления (-25, 25)\n"
   ]
  },
  {
   "cell_type": "markdown",
   "metadata": {},
   "source": [
    "## Генерация обучающих данных\n",
    "\n",
    "Создаем большой набор обучающих данных (300,000 образцов) для тренировки нейронной сети. \n",
    "Используются различные типы управляющих сигналов для обеспечения разнообразия данных:\n",
    "\n",
    "**Типы сигналов:**\n",
    "- `sine`: синусоидальные сигналы\n",
    "- `step`: ступенчатые сигналы\n",
    "- `sine_09`, `sine_07`: синусоиды с разными амплитудами\n",
    "- `sine_05_low_freq`: низкочастотные синусоиды\n",
    "- `gaussian_noise`: гауссовский шум\n",
    "- `linear_up`, `linear_down`: линейные нарастающие и убывающие сигналы"
   ]
  },
  {
   "cell_type": "code",
   "execution_count": 18,
   "metadata": {},
   "outputs": [],
   "source": [
    "states, controls, next_states = dynamics_nn.generate_training_data(num_samples=300_000, state_dim=4, control_dim=1,\n",
    "                            state_ranges=state_ranges, control_ranges=None,\n",
    "                            control_signals=[\"sine\", \"step\", \"sine_09\", \"sine_07\", \n",
    "                                            \"sine_05_low_freq\", \"gaussian_noise\",\n",
    "                                            \"linear_up\", \"linear_down\",\n",
    "                                            ],\n",
    "                            A=A, B=B)"
   ]
  },
  {
   "cell_type": "code",
   "execution_count": 19,
   "metadata": {},
   "outputs": [
    {
     "name": "stderr",
     "output_type": "stream",
     "text": [
      "/var/folders/kq/3y1y4twn3ls4zqd3ct3bbjz00000gp/T/ipykernel_65685/2921788847.py:2: UserWarning:\n",
      "\n",
      "To copy construct from a tensor, it is recommended to use sourceTensor.clone().detach() or sourceTensor.clone().detach().requires_grad_(True), rather than torch.tensor(sourceTensor).\n",
      "\n",
      "/var/folders/kq/3y1y4twn3ls4zqd3ct3bbjz00000gp/T/ipykernel_65685/2921788847.py:3: UserWarning:\n",
      "\n",
      "To copy construct from a tensor, it is recommended to use sourceTensor.clone().detach() or sourceTensor.clone().detach().requires_grad_(True), rather than torch.tensor(sourceTensor).\n",
      "\n",
      "/var/folders/kq/3y1y4twn3ls4zqd3ct3bbjz00000gp/T/ipykernel_65685/2921788847.py:4: UserWarning:\n",
      "\n",
      "To copy construct from a tensor, it is recommended to use sourceTensor.clone().detach() or sourceTensor.clone().detach().requires_grad_(True), rather than torch.tensor(sourceTensor).\n",
      "\n"
     ]
    },
    {
     "name": "stdout",
     "output_type": "stream",
     "text": [
      "Подготовка данных\n",
      "Загрузка  данных\n",
      "Начала обучения \n"
     ]
    },
    {
     "name": "stderr",
     "output_type": "stream",
     "text": [
      "  1%|          | 1/100 [00:03<05:02,  3.06s/it]"
     ]
    },
    {
     "name": "stdout",
     "output_type": "stream",
     "text": [
      "Epoch 1, Train Loss: 0.000138, Val Loss: 0.000104\n"
     ]
    },
    {
     "name": "stderr",
     "output_type": "stream",
     "text": [
      " 51%|█████     | 51/100 [02:25<02:18,  2.83s/it]"
     ]
    },
    {
     "name": "stdout",
     "output_type": "stream",
     "text": [
      "Epoch 51, Train Loss: 0.000001, Val Loss: 0.000002\n"
     ]
    },
    {
     "name": "stderr",
     "output_type": "stream",
     "text": [
      "100%|██████████| 100/100 [04:43<00:00,  2.83s/it]\n"
     ]
    }
   ],
   "source": [
    "dynamics_nn.train_and_validate(\n",
    "    torch.tensor(states, dtype=torch.float32),\n",
    "torch.tensor(controls, dtype=torch.float32),\n",
    "torch.tensor(next_states, dtype=torch.float32), epochs=100, batch_size=2048, verbose_epoch=50)"
   ]
  },
  {
   "cell_type": "markdown",
   "metadata": {},
   "source": [
    "## Обучение нейронной сети\n",
    "\n",
    "Запускаем процесс обучения модели динамики на сгенерированных данных:\n",
    "\n",
    "**Параметры обучения:**\n",
    "- `epochs=400`: количество эпох обучения\n",
    "- `batch_size=1024`: размер батча\n",
    "- `verbose_epoch=50`: вывод прогресса каждые 50 эпох\n",
    "\n",
    "В процессе обучения отслеживаются потери на обучающей и валидационной выборках. \n",
    "Уменьшение потерь показывает, что модель успешно изучает динамику системы.\n",
    "\n",
    "Результат показывает отличную сходимость - потери уменьшились с ~0.0002 до ~0.00001."
   ]
  },
  {
   "cell_type": "markdown",
   "metadata": {},
   "source": [
    "## Создание и тестирование MPC контроллера\n",
    "\n",
    "После обучения модели динамики создаем MPC контроллер и тестируем его работу:\n",
    "\n",
    "1. **Создание среды**: инициализируем симуляционную среду F-16\n",
    "2. **Создание агента**: настраиваем MPC контроллер с обученной моделью\n",
    "3. **Симуляция**: запускаем тест системы управления\n",
    "\n",
    "MPC контроллер использует обученную нейронную сеть для предсказания будущих состояний \n",
    "и оптимизирует управляющие воздействия на заданном горизонте планирования."
   ]
  },
  {
   "cell_type": "code",
   "execution_count": 20,
   "metadata": {},
   "outputs": [
    {
     "name": "stderr",
     "output_type": "stream",
     "text": [
      "100%|██████████| 200/200 [00:18<00:00, 10.69it/s]\n"
     ]
    },
    {
     "data": {
      "image/png": "[encoded data removed]",
      "text/plain": [
       "<Figure size 1000x600 with 2 Axes>"
      ]
     },
     "metadata": {},
     "output_type": "display_data"
    }
   ],
   "source": [
    "import numpy as np\n",
    "import torch\n",
    "import matplotlib.pyplot as plt\n",
    "from tensoraerospace.agent.mpc.base import AircraftMPC\n",
    "\n",
    "# Предположим, что dynamics_nn - это ваша нейросетевая модель\n",
    "# (определение dynamics_nn не включено в пример, так как оно не менялось)\n",
    "# ...\n",
    "\n",
    "# Инициализация MPC\n",
    "mpc = AircraftMPC(dynamics_nn.model, horizon=2, dt=0.1)\n",
    "\n",
    "# Параметры симуляции\n",
    "simulation_time = 20 # Уменьшено время симуляции\n",
    "dt = 0.1\n",
    "steps = int(simulation_time / dt)\n",
    "\n",
    "# Начальное состояние\n",
    "x0 = np.array([0, 0, 0, 0])\n",
    "states = [x0]\n",
    "controls = []\n",
    "\n",
    "# Генерация опорной траектории (синусоида с периодом 2 секунды)\n",
    "time = np.arange(steps + mpc.horizon + 1) * dt\n",
    "theta_ref = unit_step(degree=2, tp=time, time_step=10, output_rad=False)\n",
    "# theta_ref = np.sin(1 * time)\n",
    "\n",
    "A = torch.tensor([\n",
    "            [-0.0212, 0.0466,    0,   0.1153],\n",
    "            [-0.2229, -0.5839, 0.9404, 0],\n",
    "            [0.0150,  -0.5031, -0.5015, 0],\n",
    "            [0, 0, 1, 0],\n",
    "        ], dtype=torch.float32)\n",
    "        \n",
    "B = torch.tensor([\n",
    "            [0],\n",
    "            [-0.0340],\n",
    "            [-0.5746],\n",
    "            [0]\n",
    "        ], dtype=torch.float32)\n",
    "        \n",
    "        # Генерация выходных данных\n",
    "model_states = [torch.tensor([0, 0, 0, 0], dtype=torch.float32)]\n",
    "    \n",
    "\n",
    "# Цикл управления\n",
    "for i in tqdm(range(steps)):\n",
    "    current_ref = theta_ref[i:i + mpc.horizon + 1]\n",
    "    u_opt, predicted_states = mpc.optimize_control(states[-1], current_ref)\n",
    "    next_states = A @ model_states[i] + B @ torch.tensor(u_opt, dtype=torch.float32)\n",
    "\n",
    "    controls.append(u_opt)\n",
    "    model_states.append(next_states)\n",
    "    # Обновляем состояние системы на основе предсказанного моделью (не используем шум)\n",
    "    # next_state = predicted_states[0]\n",
    "    states.append(next_states)\n",
    "\n",
    "# Визуализация результатов\n",
    "time_array = np.arange(0, simulation_time, dt)\n",
    "plt.figure(figsize=(10, 6))\n",
    "\n",
    "plt.subplot(2, 1, 1)\n",
    "plt.plot(time_array, [s[3] for s in states[:-1]], label=\"Actual Theta\")\n",
    "plt.plot(time_array, theta_ref[:steps], label=\"Reference Theta\")\n",
    "plt.ylabel(\"Theta\")\n",
    "# plt.ylim([0, 1.2])\n",
    "plt.legend()\n",
    "\n",
    "plt.subplot(2, 1, 2)\n",
    "plt.plot(time_array, controls)\n",
    "plt.xlabel(\"Time (s)\")\n",
    "plt.ylabel(\"Control (u)\")\n",
    "\n",
    "plt.tight_layout()\n",
    "plt.show()"
   ]
  },
  {
   "cell_type": "code",
   "execution_count": 21,
   "metadata": {},
   "outputs": [],
   "source": [
    "from tensoraerospace.benchmark import ControlBenchmark\n",
    "bench = ControlBenchmark()\n",
    "res = bench.becnchmarking_one_step(theta_ref[:-3], np.array([float(s[3]) for s in states[:-1]]), 1.9, dt)\n"
   ]
  },
  {
   "cell_type": "code",
   "execution_count": 22,
   "metadata": {},
   "outputs": [
    {
     "name": "stdout",
     "output_type": "stream",
     "text": [
      "Статическая ошибка:  0.04997100830078116\n",
      "Время переходного процесса:  0.30000000000000004 сек\n",
      "Степень затухания:  0.0011338869237600244\n",
      "Перерегулирование:  7.174646854400635\n"
     ]
    }
   ],
   "source": [
    "print(\"Статическая ошибка: \", res['static_error'])\n",
    "print(\"Время переходного процесса: \", res['settling_time'], \"сек\")\n",
    "print(\"Степень затухания: \", res['damping_degree'])\n",
    "print(\"Перерегулирование: \", res['overshoot'])\n"
   ]
  },
  {
   "cell_type": "markdown",
   "metadata": {},
   "source": [
    "## Визуализация результатов\n",
    "\n",
    "Построим график переходного процесса для анализа качества управления. График показывает:\n",
    "- Реакцию системы на ступенчатое воздействие\n",
    "- Время переходного процесса\n",
    "- Величину перерегулирования\n",
    "- Статическую ошибку\n",
    "\n",
    "Эти характеристики позволяют оценить эффективность разработанного MPC контроллера."
   ]
  },
  {
   "cell_type": "code",
   "execution_count": 23,
   "metadata": {},
   "outputs": [
    {
     "data": {
      "application/vnd.plotly.v1+json": {
       "config": {
        "plotlyServerURL": "https://plot.ly"
       },
       "data": [
        {
         "hovertemplate": "Время: %{x:.3f}с<br>Амплитуда: %{y:.3f}<extra></extra>",
         "line": {
          "color": "#2E86AB",
          "width": 3
         },
         "mode": "lines",
         "name": "Задающий сигнал",
         "type": "scatter",
         "x": {
          "bdata": "AAAAAAAAAACamZmZmZm5P5qZmZmZmck/NDMzMzMz0z+amZmZmZnZPwAAAAAAAOA/NDMzMzMz4z9nZmZmZmbmP5qZmZmZmek/zczMzMzM7D8AAAAAAADwP5qZmZmZmfE/NDMzMzMz8z/NzMzMzMz0P2dmZmZmZvY/AAAAAAAA+D+amZmZmZn5PzQzMzMzM/s/zczMzMzM/D9nZmZmZmb+PwAAAAAAAABAzczMzMzMAECamZmZmZkBQGdmZmZmZgJANDMzMzMzA0AAAAAAAAAEQM3MzMzMzARAmpmZmZmZBUBnZmZmZmYGQDQzMzMzMwdAAAAAAAAACEDNzMzMzMwIQJqZmZmZmQlAZ2ZmZmZmCkA0MzMzMzMLQAAAAAAAAAxAzczMzMzMDECamZmZmZkNQGdmZmZmZg5ANDMzMzMzD0AAAAAAAAAQQGdmZmZmZhBAzczMzMzMEEAzMzMzMzMRQJqZmZmZmRFAAAAAAAAAEkBnZmZmZmYSQM3MzMzMzBJANDMzMzMzE0CamZmZmZkTQAAAAAAAABRAZ2ZmZmZmFEDNzMzMzMwUQDQzMzMzMxVAmpmZmZmZFUAAAAAAAAAWQGdmZmZmZhZAzczMzMzMFkA0MzMzMzMXQJqZmZmZmRdAAAAAAAAAGEBnZmZmZmYYQM3MzMzMzBhANDMzMzMzGUCamZmZmZkZQAAAAAAAABpAZ2ZmZmZmGkDNzMzMzMwaQDQzMzMzMxtAmpmZmZmZG0AAAAAAAAAcQGdmZmZmZhxAzczMzMzMHEA0MzMzMzMdQJqZmZmZmR1AAAAAAAAAHkBnZmZmZmYeQM3MzMzMzB5ANDMzMzMzH0CamZmZmZkfQAAAAAAAACBAMzMzMzMzIEBnZmZmZmYgQJqZmZmZmSBAzczMzMzMIEAAAAAAAAAhQDMzMzMzMyFAZ2ZmZmZmIUCamZmZmZkhQM3MzMzMzCFAAAAAAAAAIkAzMzMzMzMiQGdmZmZmZiJAmpmZmZmZIkDNzMzMzMwiQAAAAAAAACNANDMzMzMzI0BnZmZmZmYjQJqZmZmZmSNAzczMzMzMI0A=",
          "dtype": "f8"
         },
         "xaxis": "x",
         "y": {
          "bdata": "AgICAgICAgICAgICAgICAgICAgICAgICAgICAgICAgICAgICAgICAgICAgICAgICAgICAgICAgICAgICAgICAgICAgICAgICAgICAgICAgICAgICAgICAgICAgICAgICAgICAg==",
          "dtype": "i1"
         },
         "yaxis": "y"
        },
        {
         "hovertemplate": "Время: %{x:.3f}с<br>Амплитуда: %{y:.3f}<extra></extra>",
         "line": {
          "color": "#A23B72",
          "width": 3
         },
         "mode": "lines",
         "name": "Выходной сигнал",
         "type": "scatter",
         "x": {
          "bdata": "AAAAAAAAAACamZmZmZm5P5qZmZmZmck/NDMzMzMz0z+amZmZmZnZPwAAAAAAAOA/NDMzMzMz4z9nZmZmZmbmP5qZmZmZmek/zczMzMzM7D8AAAAAAADwP5qZmZmZmfE/NDMzMzMz8z/NzMzMzMz0P2dmZmZmZvY/AAAAAAAA+D+amZmZmZn5PzQzMzMzM/s/zczMzMzM/D9nZmZmZmb+PwAAAAAAAABAzczMzMzMAECamZmZmZkBQGdmZmZmZgJANDMzMzMzA0AAAAAAAAAEQM3MzMzMzARAmpmZmZmZBUBnZmZmZmYGQDQzMzMzMwdAAAAAAAAACEDNzMzMzMwIQJqZmZmZmQlAZ2ZmZmZmCkA0MzMzMzMLQAAAAAAAAAxAzczMzMzMDECamZmZmZkNQGdmZmZmZg5ANDMzMzMzD0AAAAAAAAAQQGdmZmZmZhBAzczMzMzMEEAzMzMzMzMRQJqZmZmZmRFAAAAAAAAAEkBnZmZmZmYSQM3MzMzMzBJANDMzMzMzE0CamZmZmZkTQAAAAAAAABRAZ2ZmZmZmFEDNzMzMzMwUQDQzMzMzMxVAmpmZmZmZFUAAAAAAAAAWQGdmZmZmZhZAzczMzMzMFkA0MzMzMzMXQJqZmZmZmRdAAAAAAAAAGEBnZmZmZmYYQM3MzMzMzBhANDMzMzMzGUCamZmZmZkZQAAAAAAAABpAZ2ZmZmZmGkDNzMzMzMwaQDQzMzMzMxtAmpmZmZmZG0AAAAAAAAAcQGdmZmZmZhxAzczMzMzMHEA0MzMzMzMdQJqZmZmZmR1AAAAAAAAAHkBnZmZmZmYeQM3MzMzMzB5ANDMzMzMzH0CamZmZmZkfQAAAAAAAACBAMzMzMzMzIEBnZmZmZmYgQJqZmZmZmSBAzczMzMzMIEAAAAAAAAAhQDMzMzMzMyFAZ2ZmZmZmIUCamZmZmZkhQM3MzMzMzCFAAAAAAAAAIkAzMzMzMzMiQGdmZmZmZiJAmpmZmZmZIkDNzMzMzMwiQAAAAAAAACNANDMzMzMzI0BnZmZmZmYjQJqZmZmZmSNAzczMzMzMI0A=",
          "dtype": "f8"
         },
         "xaxis": "x",
         "y": {
          "bdata": "AAAAoN8lAUAAAACALJoAQAAAAEBQdvw/AAAAQDg0AEAAAADAPtv+PwAAAEA6IP8/AAAAQPpa/z8AAADgmhr/PwAAAMB3O/8/AAAAQE8z/z8AAADgHjH/PwAAAOAJNf8/AAAAAJIy/z8AAADgbTP/PwAAAABsM/8/AAAAQCwz/z8AAABAXzP/PwAAAOBPM/8/AAAAgEsz/z8AAACAWTP/PwAAAMBSM/8/AAAAIFgz/z8AAACAVDP/PwAAAABRM/8/AAAAgFQz/z8AAAAATzP/PwAAAEBVM/8/AAAAwEwz/z8AAAAAUzP/PwAAAGBOM/8/AAAAgEwz/z8AAACATjP/PwAAAIBTM/8/AAAAAGIz/z8AAABARjP/PwAAACBWM/8/AAAAQFgz/z8AAAAAXDP/PwAAAIBNM/8/AAAA4Fgz/z8AAAAATjP/PwAAAABPM/8/AAAAwFcz/z8AAABgTTP/PwAAAABJM/8/AAAAIFUz/z8AAABASjP/PwAAAEBSM/8/AAAAQFkz/z8AAABgVzP/PwAAAABKM/8/AAAAQFkz/z8AAACASzP/PwAAAEBVM/8/AAAAYFcz/z8AAADATjP/PwAAAKBNM/8/AAAA4FQz/z8AAABgTjP/PwAAAEBOM/8/AAAAwFMz/z8AAAAgUzP/PwAAAIBLM/8/AAAAAEYz/z8AAABAUTP/PwAAAGBLM/8/AAAAoFUz/z8AAABAVzP/PwAAAMBPM/8/AAAAAFcz/z8AAABASzP/PwAAAIBcM/8/AAAAYE4z/z8AAACATzP/PwAAAEBPM/8/AAAAwEcz/z8AAABgTzP/PwAAAIBXM/8/AAAAwEgz/z8AAADAUDP/PwAAAABOM/8/AAAAIEEz/z8AAABAVTP/PwAAAIBQM/8/AAAAwFAz/z8AAABATjP/PwAAAABQM/8/AAAAAFsz/z8AAACAUzP/PwAAAABUM/8/AAAAwEgz/z8AAABATzP/PwAAAABTM/8/AAAAgFcz/z8AAADAVTP/PwAAACBQM/8/AAAAwEwz/z8AAACAXTP/PwAAACBOM/8/AAAAQE8z/z8=",
          "dtype": "f8"
         },
         "yaxis": "y"
        },
        {
         "hovertemplate": "Время: %{x:.3f}с<br>Верхняя граница: %{y:.3f}<extra></extra>",
         "line": {
          "color": "#F18F01",
          "dash": "dash",
          "width": 1
         },
         "mode": "lines",
         "name": "Верхняя граница (±5%)",
         "showlegend": false,
         "type": "scatter",
         "x": {
          "bdata": "AAAAAAAAAACamZmZmZm5P5qZmZmZmck/NDMzMzMz0z+amZmZmZnZPwAAAAAAAOA/NDMzMzMz4z9nZmZmZmbmP5qZmZmZmek/zczMzMzM7D8AAAAAAADwP5qZmZmZmfE/NDMzMzMz8z/NzMzMzMz0P2dmZmZmZvY/AAAAAAAA+D+amZmZmZn5PzQzMzMzM/s/zczMzMzM/D9nZmZmZmb+PwAAAAAAAABAzczMzMzMAECamZmZmZkBQGdmZmZmZgJANDMzMzMzA0AAAAAAAAAEQM3MzMzMzARAmpmZmZmZBUBnZmZmZmYGQDQzMzMzMwdAAAAAAAAACEDNzMzMzMwIQJqZmZmZmQlAZ2ZmZmZmCkA0MzMzMzMLQAAAAAAAAAxAzczMzMzMDECamZmZmZkNQGdmZmZmZg5ANDMzMzMzD0AAAAAAAAAQQGdmZmZmZhBAzczMzMzMEEAzMzMzMzMRQJqZmZmZmRFAAAAAAAAAEkBnZmZmZmYSQM3MzMzMzBJANDMzMzMzE0CamZmZmZkTQAAAAAAAABRAZ2ZmZmZmFEDNzMzMzMwUQDQzMzMzMxVAmpmZmZmZFUAAAAAAAAAWQGdmZmZmZhZAzczMzMzMFkA0MzMzMzMXQJqZmZmZmRdAAAAAAAAAGEBnZmZmZmYYQM3MzMzMzBhANDMzMzMzGUCamZmZmZkZQAAAAAAAABpAZ2ZmZmZmGkDNzMzMzMwaQDQzMzMzMxtAmpmZmZmZG0AAAAAAAAAcQGdmZmZmZhxAzczMzMzMHEA0MzMzMzMdQJqZmZmZmR1AAAAAAAAAHkBnZmZmZmYeQM3MzMzMzB5ANDMzMzMzH0CamZmZmZkfQAAAAAAAACBAMzMzMzMzIEBnZmZmZmYgQJqZmZmZmSBAzczMzMzMIEAAAAAAAAAhQDMzMzMzMyFAZ2ZmZmZmIUCamZmZmZkhQM3MzMzMzCFAAAAAAAAAIkAzMzMzMzMiQGdmZmZmZiJAmpmZmZmZIkDNzMzMzMwiQAAAAAAAACNANDMzMzMzI0BnZmZmZmYjQJqZmZmZmSNAzczMzMzMI0A=",
          "dtype": "f8"
         },
         "xaxis": "x",
         "y": {
          "bdata": "AgICAgICAgICAgICAgICAgICAgICAgICAgICAgICAgICAgICAgICAgICAgICAgICAgICAgICAgICAgICAgICAgICAgICAgICAgICAgICAgICAgICAgICAgICAgICAgICAgICAg==",
          "dtype": "i1"
         },
         "yaxis": "y"
        },
        {
         "fill": "tonexty",
         "fillcolor": "rgba(241, 143, 1, 0.2)",
         "hovertemplate": "Время: %{x:.3f}с<br>Нижняя граница: %{y:.3f}<extra></extra>",
         "line": {
          "color": "#F18F01",
          "dash": "dash",
          "width": 1
         },
         "mode": "lines",
         "name": "Зона установления (±5%)",
         "type": "scatter",
         "x": {
          "bdata": "AAAAAAAAAACamZmZmZm5P5qZmZmZmck/NDMzMzMz0z+amZmZmZnZPwAAAAAAAOA/NDMzMzMz4z9nZmZmZmbmP5qZmZmZmek/zczMzMzM7D8AAAAAAADwP5qZmZmZmfE/NDMzMzMz8z/NzMzMzMz0P2dmZmZmZvY/AAAAAAAA+D+amZmZmZn5PzQzMzMzM/s/zczMzMzM/D9nZmZmZmb+PwAAAAAAAABAzczMzMzMAECamZmZmZkBQGdmZmZmZgJANDMzMzMzA0AAAAAAAAAEQM3MzMzMzARAmpmZmZmZBUBnZmZmZmYGQDQzMzMzMwdAAAAAAAAACEDNzMzMzMwIQJqZmZmZmQlAZ2ZmZmZmCkA0MzMzMzMLQAAAAAAAAAxAzczMzMzMDECamZmZmZkNQGdmZmZmZg5ANDMzMzMzD0AAAAAAAAAQQGdmZmZmZhBAzczMzMzMEEAzMzMzMzMRQJqZmZmZmRFAAAAAAAAAEkBnZmZmZmYSQM3MzMzMzBJANDMzMzMzE0CamZmZmZkTQAAAAAAAABRAZ2ZmZmZmFEDNzMzMzMwUQDQzMzMzMxVAmpmZmZmZFUAAAAAAAAAWQGdmZmZmZhZAzczMzMzMFkA0MzMzMzMXQJqZmZmZmRdAAAAAAAAAGEBnZmZmZmYYQM3MzMzMzBhANDMzMzMzGUCamZmZmZkZQAAAAAAAABpAZ2ZmZmZmGkDNzMzMzMwaQDQzMzMzMxtAmpmZmZmZG0AAAAAAAAAcQGdmZmZmZhxAzczMzMzMHEA0MzMzMzMdQJqZmZmZmR1AAAAAAAAAHkBnZmZmZmYeQM3MzMzMzB5ANDMzMzMzH0CamZmZmZkfQAAAAAAAACBAMzMzMzMzIEBnZmZmZmYgQJqZmZmZmSBAzczMzMzMIEAAAAAAAAAhQDMzMzMzMyFAZ2ZmZmZmIUCamZmZmZkhQM3MzMzMzCFAAAAAAAAAIkAzMzMzMzMiQGdmZmZmZiJAmpmZmZmZIkDNzMzMzMwiQAAAAAAAACNANDMzMzMzI0BnZmZmZmYjQJqZmZmZmSNAzczMzMzMI0A=",
          "dtype": "f8"
         },
         "xaxis": "x",
         "y": {
          "bdata": "AQEBAQEBAQEBAQEBAQEBAQEBAQEBAQEBAQEBAQEBAQEBAQEBAQEBAQEBAQEBAQEBAQEBAQEBAQEBAQEBAQEBAQEBAQEBAQEBAQEBAQEBAQEBAQEBAQEBAQEBAQEBAQEBAQEBAQ==",
          "dtype": "i1"
         },
         "yaxis": "y"
        },
        {
         "hovertemplate": "Максимум<br>Время: 0.000с<br>Значение: 2.143<br>Перерегулирование: 7.2%<extra></extra>",
         "marker": {
          "color": "#C73E1D",
          "size": 10,
          "symbol": "circle"
         },
         "mode": "markers",
         "name": "Максимум: 2.143",
         "type": "scatter",
         "x": [
          0
         ],
         "xaxis": "x",
         "y": [
          2.1434929370880127
         ],
         "yaxis": "y"
        },
        {
         "cells": {
          "align": "center",
          "fill": {
           "color": [
            [
             "#E8F4FD",
             "#F8F9FA",
             "#E8F4FD",
             "#F8F9FA",
             "#E8F4FD",
             "#F8F9FA",
             "#E8F4FD",
             "#F8F9FA",
             "#E8F4FD",
             "#F8F9FA",
             "#E8F4FD",
             "#F8F9FA",
             "#E8F4FD",
             "#F8F9FA",
             "#E8F4FD",
             "#F8F9FA",
             "#E8F4FD",
             "#F8F9FA",
             "#E8F4FD",
             "#F8F9FA",
             "#E8F4FD",
             "#F8F9FA",
             "#E8F4FD",
             "#F8F9FA"
            ]
           ]
          },
          "font": {
           "size": 11
          },
          "height": 25,
          "values": [
           [
            "Перерегулирование",
            "Время установления",
            "Время нарастания",
            "Время пика",
            "Степень затухания",
            "Статическая ошибка",
            "Макс. отклонение",
            "Количество колебаний",
            "IAE",
            "ISE",
            "ITAE",
            "Индекс качества"
           ],
           [
            "7.17%",
            "0.300с",
            "N/A",
            "0.300с",
            "0.001",
            "0.0500",
            "0.221",
            "17",
            "5.28",
            "0.32",
            "24.77",
            "11.472"
           ]
          ]
         },
         "domain": {
          "x": [
           0.715,
           1
          ],
          "y": [
           0.35600000000000004,
           1
          ]
         },
         "header": {
          "align": "center",
          "fill": {
           "color": "#2E86AB"
          },
          "font": {
           "color": "white",
           "size": 12
          },
          "values": [
           "<b>Метрика</b>",
           "<b>Значение</b>"
          ]
         },
         "type": "table"
        },
        {
         "fill": "tozeroy",
         "fillcolor": "rgba(199, 62, 29, 0.3)",
         "hovertemplate": "Время: %{x:.3f}с<br>Ошибка: %{y:.3f}<extra></extra>",
         "line": {
          "color": "#C73E1D",
          "width": 2
         },
         "mode": "lines",
         "name": "Ошибка регулирования",
         "type": "scatter",
         "x": {
          "bdata": "AAAAAAAAAACamZmZmZm5P5qZmZmZmck/NDMzMzMz0z+amZmZmZnZPwAAAAAAAOA/NDMzMzMz4z9nZmZmZmbmP5qZmZmZmek/zczMzMzM7D8AAAAAAADwP5qZmZmZmfE/NDMzMzMz8z/NzMzMzMz0P2dmZmZmZvY/AAAAAAAA+D+amZmZmZn5PzQzMzMzM/s/zczMzMzM/D9nZmZmZmb+PwAAAAAAAABAzczMzMzMAECamZmZmZkBQGdmZmZmZgJANDMzMzMzA0AAAAAAAAAEQM3MzMzMzARAmpmZmZmZBUBnZmZmZmYGQDQzMzMzMwdAAAAAAAAACEDNzMzMzMwIQJqZmZmZmQlAZ2ZmZmZmCkA0MzMzMzMLQAAAAAAAAAxAzczMzMzMDECamZmZmZkNQGdmZmZmZg5ANDMzMzMzD0AAAAAAAAAQQGdmZmZmZhBAzczMzMzMEEAzMzMzMzMRQJqZmZmZmRFAAAAAAAAAEkBnZmZmZmYSQM3MzMzMzBJANDMzMzMzE0CamZmZmZkTQAAAAAAAABRAZ2ZmZmZmFEDNzMzMzMwUQDQzMzMzMxVAmpmZmZmZFUAAAAAAAAAWQGdmZmZmZhZAzczMzMzMFkA0MzMzMzMXQJqZmZmZmRdAAAAAAAAAGEBnZmZmZmYYQM3MzMzMzBhANDMzMzMzGUCamZmZmZkZQAAAAAAAABpAZ2ZmZmZmGkDNzMzMzMwaQDQzMzMzMxtAmpmZmZmZG0AAAAAAAAAcQGdmZmZmZhxAzczMzMzMHEA0MzMzMzMdQJqZmZmZmR1AAAAAAAAAHkBnZmZmZmYeQM3MzMzMzB5ANDMzMzMzH0CamZmZmZkfQAAAAAAAACBAMzMzMzMzIEBnZmZmZmYgQJqZmZmZmSBAzczMzMzMIEAAAAAAAAAhQDMzMzMzMyFAZ2ZmZmZmIUCamZmZmZkhQM3MzMzMzCFAAAAAAAAAIkAzMzMzMzMiQGdmZmZmZiJAmpmZmZmZIkDNzMzMzMwiQAAAAAAAACNANDMzMzMzI0BnZmZmZmYjQJqZmZmZmSNAzczMzMzMI0A=",
          "dtype": "f8"
         },
         "xaxis": "x2",
         "y": {
          "bdata": "AAAAAPpdwr8AAAAAkEWzvwAAAAB+Tcw/AAAAACAcmr8AAAAAFEyyPwAAAAC4+Ks/AAAAALigpD8AAAAApKysPwAAAAAIkag/AAAAABiWqT8AAAAAJNypPwAAAADEXqk/AAAAAMCtqT8AAAAARJKpPwAAAACAkqk/AAAAAHiaqT8AAAAAGJSpPwAAAAAElqk/AAAAAJCWqT8AAAAA0JSpPwAAAAColak/AAAAAPyUqT8AAAAAcJWpPwAAAADglak/AAAAAHCVqT8AAAAAIJapPwAAAABYlak/AAAAAGiWqT8AAAAAoJWpPwAAAAA0lqk/AAAAAHCWqT8AAAAAMJapPwAAAACQlak/AAAAAMCTqT8AAAAAOJepPwAAAAA8lak/AAAAAPiUqT8AAAAAgJSpPwAAAABQlqk/AAAAAOSUqT8AAAAAQJapPwAAAAAglqk/AAAAAAiVqT8AAAAAVJapPwAAAADglqk/AAAAAFyVqT8AAAAAuJapPwAAAAC4lak/AAAAANiUqT8AAAAAFJWpPwAAAADAlqk/AAAAANiUqT8AAAAAkJapPwAAAABYlak/AAAAABSVqT8AAAAAKJapPwAAAABMlqk/AAAAAGSVqT8AAAAANJapPwAAAAA4lqk/AAAAAIiVqT8AAAAAnJWpPwAAAACQlqk/AAAAAECXqT8AAAAA2JWpPwAAAACUlqk/AAAAAEyVqT8AAAAAGJWpPwAAAAAIlqk/AAAAACCVqT8AAAAAmJapPwAAAABwlKk/AAAAADSWqT8AAAAAEJapPwAAAAAYlqk/AAAAAAiXqT8AAAAAFJapPwAAAAAQlak/AAAAAOiWqT8AAAAA6JWpPwAAAABAlqk/AAAAANyXqT8AAAAAWJWpPwAAAADwlak/AAAAAOiVqT8AAAAAOJapPwAAAAAAlqk/AAAAAKCUqT8AAAAAkJWpPwAAAACAlak/AAAAAOiWqT8AAAAAGJapPwAAAACglak/AAAAABCVqT8AAAAASJWpPwAAAAD8lak/AAAAAGiWqT8AAAAAUJSpPwAAAAA8lqk/AAAAABiWqT8=",
          "dtype": "f8"
         },
         "yaxis": "y2"
        }
       ],
       "layout": {
        "annotations": [
         {
          "font": {
           "size": 16
          },
          "showarrow": false,
          "text": "Переходный процесс",
          "x": 0.33249999999999996,
          "xanchor": "center",
          "xref": "paper",
          "y": 1,
          "yanchor": "bottom",
          "yref": "paper"
         },
         {
          "font": {
           "size": 16
          },
          "showarrow": false,
          "text": "Метрики качества",
          "x": 0.8574999999999999,
          "xanchor": "center",
          "xref": "paper",
          "y": 1,
          "yanchor": "bottom",
          "yref": "paper"
         },
         {
          "font": {
           "size": 16
          },
          "showarrow": false,
          "text": "Ошибка регулирования",
          "x": 0.5,
          "xanchor": "center",
          "xref": "paper",
          "y": 0.276,
          "yanchor": "bottom",
          "yref": "paper"
         },
         {
          "showarrow": false,
          "text": "ts = 0.300с",
          "x": 0.30000000000000004,
          "xref": "x",
          "y": 2.1434929370880127,
          "yref": "y",
          "yshift": 10
         }
        ],
        "height": 500,
        "legend": {
         "orientation": "v",
         "x": 1.02,
         "xanchor": "left",
         "y": 1,
         "yanchor": "top"
        },
        "shapes": [
         {
          "line": {
           "color": "#C73E1D",
           "width": 2
          },
          "type": "line",
          "x0": 0.30000000000000004,
          "x1": 0.30000000000000004,
          "xref": "x",
          "y0": -0.00024763186229392886,
          "y1": 2.1434929370880127,
          "yref": "y"
         },
         {
          "line": {
           "color": "black",
           "dash": "solid",
           "width": 1
          },
          "type": "line",
          "x0": 0,
          "x1": 9.9,
          "xref": "x2",
          "y0": 0,
          "y1": 0,
          "yref": "y2"
         }
        ],
        "showlegend": true,
        "template": {
         "data": {
          "bar": [
           {
            "error_x": {
             "color": "#2a3f5f"
            },
            "error_y": {
             "color": "#2a3f5f"
            },
            "marker": {
             "line": {
              "color": "white",
              "width": 0.5
             },
             "pattern": {
              "fillmode": "overlay",
              "size": 10,
              "solidity": 0.2
             }
            },
            "type": "bar"
           }
          ],
          "barpolar": [
           {
            "marker": {
             "line": {
              "color": "white",
              "width": 0.5
             },
             "pattern": {
              "fillmode": "overlay",
              "size": 10,
              "solidity": 0.2
             }
            },
            "type": "barpolar"
           }
          ],
          "carpet": [
           {
            "aaxis": {
             "endlinecolor": "#2a3f5f",
             "gridcolor": "#C8D4E3",
             "linecolor": "#C8D4E3",
             "minorgridcolor": "#C8D4E3",
             "startlinecolor": "#2a3f5f"
            },
            "baxis": {
             "endlinecolor": "#2a3f5f",
             "gridcolor": "#C8D4E3",
             "linecolor": "#C8D4E3",
             "minorgridcolor": "#C8D4E3",
             "startlinecolor": "#2a3f5f"
            },
            "type": "carpet"
           }
          ],
          "choropleth": [
           {
            "colorbar": {
             "outlinewidth": 0,
             "ticks": ""
            },
            "type": "choropleth"
           }
          ],
          "contour": [
           {
            "colorbar": {
             "outlinewidth": 0,
             "ticks": ""
            },
            "colorscale": [
             [
              0,
              "#0d0887"
             ],
             [
              0.1111111111111111,
              "#46039f"
             ],
             [
              0.2222222222222222,
              "#7201a8"
             ],
             [
              0.3333333333333333,
              "#9c179e"
             ],
             [
              0.4444444444444444,
              "#bd3786"
             ],
             [
              0.5555555555555556,
              "#d8576b"
             ],
             [
              0.6666666666666666,
              "#ed7953"
             ],
             [
              0.7777777777777778,
              "#fb9f3a"
             ],
             [
              0.8888888888888888,
              "#fdca26"
             ],
             [
              1,
              "#f0f921"
             ]
            ],
            "type": "contour"
           }
          ],
          "contourcarpet": [
           {
            "colorbar": {
             "outlinewidth": 0,
             "ticks": ""
            },
            "type": "contourcarpet"
           }
          ],
          "heatmap": [
           {
            "colorbar": {
             "outlinewidth": 0,
             "ticks": ""
            },
            "colorscale": [
             [
              0,
              "#0d0887"
             ],
             [
              0.1111111111111111,
              "#46039f"
             ],
             [
              0.2222222222222222,
              "#7201a8"
             ],
             [
              0.3333333333333333,
              "#9c179e"
             ],
             [
              0.4444444444444444,
              "#bd3786"
             ],
             [
              0.5555555555555556,
              "#d8576b"
             ],
             [
              0.6666666666666666,
              "#ed7953"
             ],
             [
              0.7777777777777778,
              "#fb9f3a"
             ],
             [
              0.8888888888888888,
              "#fdca26"
             ],
             [
              1,
              "#f0f921"
             ]
            ],
            "type": "heatmap"
           }
          ],
          "histogram": [
           {
            "marker": {
             "pattern": {
              "fillmode": "overlay",
              "size": 10,
              "solidity": 0.2
             }
            },
            "type": "histogram"
           }
          ],
          "histogram2d": [
           {
            "colorbar": {
             "outlinewidth": 0,
             "ticks": ""
            },
            "colorscale": [
             [
              0,
              "#0d0887"
             ],
             [
              0.1111111111111111,
              "#46039f"
             ],
             [
              0.2222222222222222,
              "#7201a8"
             ],
             [
              0.3333333333333333,
              "#9c179e"
             ],
             [
              0.4444444444444444,
              "#bd3786"
             ],
             [
              0.5555555555555556,
              "#d8576b"
             ],
             [
              0.6666666666666666,
              "#ed7953"
             ],
             [
              0.7777777777777778,
              "#fb9f3a"
             ],
             [
              0.8888888888888888,
              "#fdca26"
             ],
             [
              1,
              "#f0f921"
             ]
            ],
            "type": "histogram2d"
           }
          ],
          "histogram2dcontour": [
           {
            "colorbar": {
             "outlinewidth": 0,
             "ticks": ""
            },
            "colorscale": [
             [
              0,
              "#0d0887"
             ],
             [
              0.1111111111111111,
              "#46039f"
             ],
             [
              0.2222222222222222,
              "#7201a8"
             ],
             [
              0.3333333333333333,
              "#9c179e"
             ],
             [
              0.4444444444444444,
              "#bd3786"
             ],
             [
              0.5555555555555556,
              "#d8576b"
             ],
             [
              0.6666666666666666,
              "#ed7953"
             ],
             [
              0.7777777777777778,
              "#fb9f3a"
             ],
             [
              0.8888888888888888,
              "#fdca26"
             ],
             [
              1,
              "#f0f921"
             ]
            ],
            "type": "histogram2dcontour"
           }
          ],
          "mesh3d": [
           {
            "colorbar": {
             "outlinewidth": 0,
             "ticks": ""
            },
            "type": "mesh3d"
           }
          ],
          "parcoords": [
           {
            "line": {
             "colorbar": {
              "outlinewidth": 0,
              "ticks": ""
             }
            },
            "type": "parcoords"
           }
          ],
          "pie": [
           {
            "automargin": true,
            "type": "pie"
           }
          ],
          "scatter": [
           {
            "fillpattern": {
             "fillmode": "overlay",
             "size": 10,
             "solidity": 0.2
            },
            "type": "scatter"
           }
          ],
          "scatter3d": [
           {
            "line": {
             "colorbar": {
              "outlinewidth": 0,
              "ticks": ""
             }
            },
            "marker": {
             "colorbar": {
              "outlinewidth": 0,
              "ticks": ""
             }
            },
            "type": "scatter3d"
           }
          ],
          "scattercarpet": [
           {
            "marker": {
             "colorbar": {
              "outlinewidth": 0,
              "ticks": ""
             }
            },
            "type": "scattercarpet"
           }
          ],
          "scattergeo": [
           {
            "marker": {
             "colorbar": {
              "outlinewidth": 0,
              "ticks": ""
             }
            },
            "type": "scattergeo"
           }
          ],
          "scattergl": [
           {
            "marker": {
             "colorbar": {
              "outlinewidth": 0,
              "ticks": ""
             }
            },
            "type": "scattergl"
           }
          ],
          "scattermap": [
           {
            "marker": {
             "colorbar": {
              "outlinewidth": 0,
              "ticks": ""
             }
            },
            "type": "scattermap"
           }
          ],
          "scattermapbox": [
           {
            "marker": {
             "colorbar": {
              "outlinewidth": 0,
              "ticks": ""
             }
            },
            "type": "scattermapbox"
           }
          ],
          "scatterpolar": [
           {
            "marker": {
             "colorbar": {
              "outlinewidth": 0,
              "ticks": ""
             }
            },
            "type": "scatterpolar"
           }
          ],
          "scatterpolargl": [
           {
            "marker": {
             "colorbar": {
              "outlinewidth": 0,
              "ticks": ""
             }
            },
            "type": "scatterpolargl"
           }
          ],
          "scatterternary": [
           {
            "marker": {
             "colorbar": {
              "outlinewidth": 0,
              "ticks": ""
             }
            },
            "type": "scatterternary"
           }
          ],
          "surface": [
           {
            "colorbar": {
             "outlinewidth": 0,
             "ticks": ""
            },
            "colorscale": [
             [
              0,
              "#0d0887"
             ],
             [
              0.1111111111111111,
              "#46039f"
             ],
             [
              0.2222222222222222,
              "#7201a8"
             ],
             [
              0.3333333333333333,
              "#9c179e"
             ],
             [
              0.4444444444444444,
              "#bd3786"
             ],
             [
              0.5555555555555556,
              "#d8576b"
             ],
             [
              0.6666666666666666,
              "#ed7953"
             ],
             [
              0.7777777777777778,
              "#fb9f3a"
             ],
             [
              0.8888888888888888,
              "#fdca26"
             ],
             [
              1,
              "#f0f921"
             ]
            ],
            "type": "surface"
           }
          ],
          "table": [
           {
            "cells": {
             "fill": {
              "color": "#EBF0F8"
             },
             "line": {
              "color": "white"
             }
            },
            "header": {
             "fill": {
              "color": "#C8D4E3"
             },
             "line": {
              "color": "white"
             }
            },
            "type": "table"
           }
          ]
         },
         "layout": {
          "annotationdefaults": {
           "arrowcolor": "#2a3f5f",
           "arrowhead": 0,
           "arrowwidth": 1
          },
          "autotypenumbers": "strict",
          "coloraxis": {
           "colorbar": {
            "outlinewidth": 0,
            "ticks": ""
           }
          },
          "colorscale": {
           "diverging": [
            [
             0,
             "#8e0152"
            ],
            [
             0.1,
             "#c51b7d"
            ],
            [
             0.2,
             "#de77ae"
            ],
            [
             0.3,
             "#f1b6da"
            ],
            [
             0.4,
             "#fde0ef"
            ],
            [
             0.5,
             "#f7f7f7"
            ],
            [
             0.6,
             "#e6f5d0"
            ],
            [
             0.7,
             "#b8e186"
            ],
            [
             0.8,
             "#7fbc41"
            ],
            [
             0.9,
             "#4d9221"
            ],
            [
             1,
             "#276419"
            ]
           ],
           "sequential": [
            [
             0,
             "#0d0887"
            ],
            [
             0.1111111111111111,
             "#46039f"
            ],
            [
             0.2222222222222222,
             "#7201a8"
            ],
            [
             0.3333333333333333,
             "#9c179e"
            ],
            [
             0.4444444444444444,
             "#bd3786"
            ],
            [
             0.5555555555555556,
             "#d8576b"
            ],
            [
             0.6666666666666666,
             "#ed7953"
            ],
            [
             0.7777777777777778,
             "#fb9f3a"
            ],
            [
             0.8888888888888888,
             "#fdca26"
            ],
            [
             1,
             "#f0f921"
            ]
           ],
           "sequentialminus": [
            [
             0,
             "#0d0887"
            ],
            [
             0.1111111111111111,
             "#46039f"
            ],
            [
             0.2222222222222222,
             "#7201a8"
            ],
            [
             0.3333333333333333,
             "#9c179e"
            ],
            [
             0.4444444444444444,
             "#bd3786"
            ],
            [
             0.5555555555555556,
             "#d8576b"
            ],
            [
             0.6666666666666666,
             "#ed7953"
            ],
            [
             0.7777777777777778,
             "#fb9f3a"
            ],
            [
             0.8888888888888888,
             "#fdca26"
            ],
            [
             1,
             "#f0f921"
            ]
           ]
          },
          "colorway": [
           "#636efa",
           "#EF553B",
           "#00cc96",
           "#ab63fa",
           "#FFA15A",
           "#19d3f3",
           "#FF6692",
           "#B6E880",
           "#FF97FF",
           "#FECB52"
          ],
          "font": {
           "color": "#2a3f5f"
          },
          "geo": {
           "bgcolor": "white",
           "lakecolor": "white",
           "landcolor": "white",
           "showlakes": true,
           "showland": true,
           "subunitcolor": "#C8D4E3"
          },
          "hoverlabel": {
           "align": "left"
          },
          "hovermode": "closest",
          "mapbox": {
           "style": "light"
          },
          "paper_bgcolor": "white",
          "plot_bgcolor": "white",
          "polar": {
           "angularaxis": {
            "gridcolor": "#EBF0F8",
            "linecolor": "#EBF0F8",
            "ticks": ""
           },
           "bgcolor": "white",
           "radialaxis": {
            "gridcolor": "#EBF0F8",
            "linecolor": "#EBF0F8",
            "ticks": ""
           }
          },
          "scene": {
           "xaxis": {
            "backgroundcolor": "white",
            "gridcolor": "#DFE8F3",
            "gridwidth": 2,
            "linecolor": "#EBF0F8",
            "showbackground": true,
            "ticks": "",
            "zerolinecolor": "#EBF0F8"
           },
           "yaxis": {
            "backgroundcolor": "white",
            "gridcolor": "#DFE8F3",
            "gridwidth": 2,
            "linecolor": "#EBF0F8",
            "showbackground": true,
            "ticks": "",
            "zerolinecolor": "#EBF0F8"
           },
           "zaxis": {
            "backgroundcolor": "white",
            "gridcolor": "#DFE8F3",
            "gridwidth": 2,
            "linecolor": "#EBF0F8",
            "showbackground": true,
            "ticks": "",
            "zerolinecolor": "#EBF0F8"
           }
          },
          "shapedefaults": {
           "line": {
            "color": "#2a3f5f"
           }
          },
          "ternary": {
           "aaxis": {
            "gridcolor": "#DFE8F3",
            "linecolor": "#A2B1C6",
            "ticks": ""
           },
           "baxis": {
            "gridcolor": "#DFE8F3",
            "linecolor": "#A2B1C6",
            "ticks": ""
           },
           "bgcolor": "white",
           "caxis": {
            "gridcolor": "#DFE8F3",
            "linecolor": "#A2B1C6",
            "ticks": ""
           }
          },
          "title": {
           "x": 0.05
          },
          "xaxis": {
           "automargin": true,
           "gridcolor": "#EBF0F8",
           "linecolor": "#EBF0F8",
           "ticks": "",
           "title": {
            "standoff": 15
           },
           "zerolinecolor": "#EBF0F8",
           "zerolinewidth": 2
          },
          "yaxis": {
           "automargin": true,
           "gridcolor": "#EBF0F8",
           "linecolor": "#EBF0F8",
           "ticks": "",
           "title": {
            "standoff": 15
           },
           "zerolinecolor": "#EBF0F8",
           "zerolinewidth": 2
          }
         }
        },
        "title": {
         "font": {
          "color": "black",
          "size": 16
         },
         "text": "Анализ системы управления",
         "x": 0.5
        },
        "width": 1500,
        "xaxis": {
         "anchor": "y",
         "domain": [
          0,
          0.6649999999999999
         ],
         "gridcolor": "lightgray",
         "gridwidth": 1,
         "showgrid": true,
         "title": {
          "text": "Время, с"
         }
        },
        "xaxis2": {
         "anchor": "y2",
         "domain": [
          0,
          1
         ],
         "gridcolor": "lightgray",
         "gridwidth": 1,
         "showgrid": true,
         "title": {
          "text": "Время, с"
         }
        },
        "yaxis": {
         "anchor": "x",
         "domain": [
          0.35600000000000004,
          1
         ],
         "gridcolor": "lightgray",
         "gridwidth": 1,
         "showgrid": true,
         "title": {
          "text": "Амплитуда"
         }
        },
        "yaxis2": {
         "anchor": "x2",
         "domain": [
          0,
          0.276
         ],
         "gridcolor": "lightgray",
         "gridwidth": 1,
         "showgrid": true,
         "title": {
          "text": "Ошибка"
         }
        }
       }
      }
     },
     "metadata": {},
     "output_type": "display_data"
    },
    {
     "data": {
      "text/plain": [
       "{'overshoot': 7.174646854400635,\n",
       " 'settling_time': 0.30000000000000004,\n",
       " 'damping_degree': 0.0011338869237600244,\n",
       " 'static_error': 0.04997100830078116,\n",
       " 'rise_time': 0.0,\n",
       " 'peak_time': 0.30000000000000004,\n",
       " 'maximum_deviation': 0.2211148738861084,\n",
       " 'iae': 5.283413887023926,\n",
       " 'ise': 0.318219621130595,\n",
       " 'itae': 24.773265981674196,\n",
       " 'oscillation_count': 17,\n",
       " 'steady_state_value': 2.0,\n",
       " 'performance_index': 11.471523612002043}"
      ]
     },
     "execution_count": 23,
     "metadata": {},
     "output_type": "execute_result"
    }
   ],
   "source": [
    "bench.plot(theta_ref[:-3], np.array([float(s[3]) for s in states[:-1]]), 0.9, dt, time, figsize=(15,5))\n"
   ]
  },
  {
   "cell_type": "markdown",
   "metadata": {},
   "source": [
    "## Заключение\n",
    "\n",
    "В данном примере мы продемонстрировали полный цикл разработки MPC контроллера для управления самолетом F-16:\n",
    "\n",
    "1. **Обучение нейронной сети** - создали модель динамики на основе данных\n",
    "2. **Создание MPC контроллера** - настроили параметры прогнозирующего управления\n",
    "3. **Тестирование системы** - проверили качество управления на тестовых данных\n",
    "\n",
    "Результаты показывают эффективность предложенного подхода:\n",
    "- Низкая статическая ошибка\n",
    "- Приемлемое время переходного процесса\n",
    "- Контролируемое перерегулирование\n",
    "\n",
    "Данный подход может быть адаптирован для других типов летательных аппаратов и задач управления."
   ]
  },
  {
   "cell_type": "code",
   "execution_count": null,
   "metadata": {},
   "outputs": [],
   "source": []
  },
  {
   "cell_type": "code",
   "execution_count": null,
   "metadata": {},
   "outputs": [],
   "source": []
  }
 ],
 "metadata": {
  "kernelspec": {
   "display_name": ".venv",
   "language": "python",
   "name": "python3"
  },
  "language_info": {
   "codemirror_mode": {
    "name": "ipython",
    "version": 3
   },
   "file_extension": ".py",
   "mimetype": "text/x-python",
   "name": "python",
   "nbconvert_exporter": "python",
   "pygments_lexer": "ipython3",
   "version": "3.11.7"
  }
 },
 "nbformat": 4,
 "nbformat_minor": 4
}
