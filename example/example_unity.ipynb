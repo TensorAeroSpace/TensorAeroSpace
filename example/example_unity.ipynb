{
  "nbformat": 4,
  "nbformat_minor": 0,
  "metadata": {
    "colab": {
      "name": "example_unity.ipynb",
      "provenance": [],
      "collapsed_sections": []
    },
    "kernelspec": {
      "name": "python3",
      "display_name": "Python 3"
    },
    "language_info": {
      "name": "python"
    }
  },
  "cells": [
    {
      "cell_type": "code",
      "source": [
        "from tensorairspace.envs.unity_env import get_plane_env\n",
        "\n",
        "env = get_plane_env()\n",
        "env.reset()\n",
        "\n",
        "print(env.action_space)\n",
        "print(env.observation_space)\n",
        "\n",
        "\n",
        "for i in range(1000):\n",
        "    random_action = env.action_space.sample()\n",
        "    print(random_action)\n",
        "    new_obs, reward, done, info = env.step(random_action)\n",
        "env.close()"
      ],
      "metadata": {
        "id": "LaS6Pofp4Ieh"
      },
      "execution_count": null,
      "outputs": []
    }
  ]
}